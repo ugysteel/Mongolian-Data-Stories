{
 "cells": [
  {
   "cell_type": "markdown",
   "metadata": {},
   "source": [
    "# USD-MNT Exchange Rate Forecast Follow Up"
   ]
  },
  {
   "cell_type": "markdown",
   "metadata": {},
   "source": [
    "The purpose of this notebook is to follow up on the December 2018 article I wrote using machine learning to forecast USD-MNT exchange rates. \n",
    "\n",
    "The previous forecast has been saved as a CSV file names 'forecast.csv'. The entire timeseries of USD-MNT exchange rates is saved as 'USD-MNT.csv'."
   ]
  },
  {
   "cell_type": "code",
   "execution_count": 3,
   "metadata": {},
   "outputs": [],
   "source": [
    "import pandas as pd\n",
    "import matplotlib.pyplot as plt\n",
    "import numpy as np\n",
    "import seaborn as sns\n",
    "%matplotlib inline\n",
    "\n",
    "plt.style.use('../../mds.mplstyle')"
   ]
  },
  {
   "cell_type": "code",
   "execution_count": 49,
   "metadata": {},
   "outputs": [],
   "source": [
    "usd = pd.read_csv('USD-MNT.csv', parse_dates=['Date'], index_col='Date', thousands=',')\n",
    "forecast = pd.read_csv('../Part 2 - Machine Learning Model/forecast.csv', parse_dates=['variable'], index_col='variable', thousands=',')"
   ]
  },
  {
   "cell_type": "code",
   "execution_count": 50,
   "metadata": {},
   "outputs": [
    {
     "data": {
      "text/html": [
       "<div>\n",
       "<style scoped>\n",
       "    .dataframe tbody tr th:only-of-type {\n",
       "        vertical-align: middle;\n",
       "    }\n",
       "\n",
       "    .dataframe tbody tr th {\n",
       "        vertical-align: top;\n",
       "    }\n",
       "\n",
       "    .dataframe thead th {\n",
       "        text-align: right;\n",
       "    }\n",
       "</style>\n",
       "<table border=\"1\" class=\"dataframe\">\n",
       "  <thead>\n",
       "    <tr style=\"text-align: right;\">\n",
       "      <th></th>\n",
       "      <th>USD</th>\n",
       "    </tr>\n",
       "    <tr>\n",
       "      <th>Date</th>\n",
       "      <th></th>\n",
       "    </tr>\n",
       "  </thead>\n",
       "  <tbody>\n",
       "    <tr>\n",
       "      <th>2008-01-02</th>\n",
       "      <td>1169.97</td>\n",
       "    </tr>\n",
       "    <tr>\n",
       "      <th>2008-01-03</th>\n",
       "      <td>1169.97</td>\n",
       "    </tr>\n",
       "    <tr>\n",
       "      <th>2008-01-04</th>\n",
       "      <td>1169.97</td>\n",
       "    </tr>\n",
       "    <tr>\n",
       "      <th>2008-01-07</th>\n",
       "      <td>1169.81</td>\n",
       "    </tr>\n",
       "    <tr>\n",
       "      <th>2008-01-08</th>\n",
       "      <td>1170.11</td>\n",
       "    </tr>\n",
       "  </tbody>\n",
       "</table>\n",
       "</div>"
      ],
      "text/plain": [
       "                USD\n",
       "Date               \n",
       "2008-01-02  1169.97\n",
       "2008-01-03  1169.97\n",
       "2008-01-04  1169.97\n",
       "2008-01-07  1169.81\n",
       "2008-01-08  1170.11"
      ]
     },
     "execution_count": 50,
     "metadata": {},
     "output_type": "execute_result"
    }
   ],
   "source": [
    "usd.head()"
   ]
  },
  {
   "cell_type": "code",
   "execution_count": 51,
   "metadata": {},
   "outputs": [
    {
     "data": {
      "text/html": [
       "<div>\n",
       "<style scoped>\n",
       "    .dataframe tbody tr th:only-of-type {\n",
       "        vertical-align: middle;\n",
       "    }\n",
       "\n",
       "    .dataframe tbody tr th {\n",
       "        vertical-align: top;\n",
       "    }\n",
       "\n",
       "    .dataframe thead th {\n",
       "        text-align: right;\n",
       "    }\n",
       "</style>\n",
       "<table border=\"1\" class=\"dataframe\">\n",
       "  <thead>\n",
       "    <tr style=\"text-align: right;\">\n",
       "      <th></th>\n",
       "      <th>value</th>\n",
       "    </tr>\n",
       "    <tr>\n",
       "      <th>variable</th>\n",
       "      <th></th>\n",
       "    </tr>\n",
       "  </thead>\n",
       "  <tbody>\n",
       "    <tr>\n",
       "      <th>2018-09-30</th>\n",
       "      <td>2429.98600</td>\n",
       "    </tr>\n",
       "    <tr>\n",
       "      <th>2018-12-31</th>\n",
       "      <td>2420.26575</td>\n",
       "    </tr>\n",
       "    <tr>\n",
       "      <th>2019-06-30</th>\n",
       "      <td>2496.68010</td>\n",
       "    </tr>\n",
       "  </tbody>\n",
       "</table>\n",
       "</div>"
      ],
      "text/plain": [
       "                 value\n",
       "variable              \n",
       "2018-09-30  2429.98600\n",
       "2018-12-31  2420.26575\n",
       "2019-06-30  2496.68010"
      ]
     },
     "execution_count": 51,
     "metadata": {},
     "output_type": "execute_result"
    }
   ],
   "source": [
    "forecast.head()"
   ]
  },
  {
   "cell_type": "markdown",
   "metadata": {},
   "source": [
    "It turns out we have some NaN values. Let's drop them and then visualize the forecast. "
   ]
  },
  {
   "cell_type": "code",
   "execution_count": 52,
   "metadata": {},
   "outputs": [],
   "source": [
    "nan = lambda usd: usd[usd.isnull().any(axis=1)]"
   ]
  },
  {
   "cell_type": "code",
   "execution_count": 53,
   "metadata": {},
   "outputs": [
    {
     "data": {
      "text/html": [
       "<div>\n",
       "<style scoped>\n",
       "    .dataframe tbody tr th:only-of-type {\n",
       "        vertical-align: middle;\n",
       "    }\n",
       "\n",
       "    .dataframe tbody tr th {\n",
       "        vertical-align: top;\n",
       "    }\n",
       "\n",
       "    .dataframe thead th {\n",
       "        text-align: right;\n",
       "    }\n",
       "</style>\n",
       "<table border=\"1\" class=\"dataframe\">\n",
       "  <thead>\n",
       "    <tr style=\"text-align: right;\">\n",
       "      <th></th>\n",
       "      <th>USD</th>\n",
       "    </tr>\n",
       "    <tr>\n",
       "      <th>Date</th>\n",
       "      <th></th>\n",
       "    </tr>\n",
       "  </thead>\n",
       "  <tbody>\n",
       "    <tr>\n",
       "      <th>2019-01-12</th>\n",
       "      <td>NaN</td>\n",
       "    </tr>\n",
       "    <tr>\n",
       "      <th>2019-01-13</th>\n",
       "      <td>NaN</td>\n",
       "    </tr>\n",
       "    <tr>\n",
       "      <th>2019-02-03</th>\n",
       "      <td>NaN</td>\n",
       "    </tr>\n",
       "  </tbody>\n",
       "</table>\n",
       "</div>"
      ],
      "text/plain": [
       "            USD\n",
       "Date           \n",
       "2019-01-12  NaN\n",
       "2019-01-13  NaN\n",
       "2019-02-03  NaN"
      ]
     },
     "execution_count": 53,
     "metadata": {},
     "output_type": "execute_result"
    }
   ],
   "source": [
    "nan(usd)"
   ]
  },
  {
   "cell_type": "code",
   "execution_count": 54,
   "metadata": {},
   "outputs": [],
   "source": [
    "usd = usd.dropna()"
   ]
  },
  {
   "cell_type": "code",
   "execution_count": 55,
   "metadata": {},
   "outputs": [
    {
     "data": {
      "text/plain": [
       "(3842, 1)"
      ]
     },
     "execution_count": 55,
     "metadata": {},
     "output_type": "execute_result"
    }
   ],
   "source": [
    "usd.shape"
   ]
  },
  {
   "cell_type": "code",
   "execution_count": 56,
   "metadata": {},
   "outputs": [
    {
     "data": {
      "text/plain": [
       "DatetimeIndex(['2018-06-30', '2018-07-01', '2018-07-02', '2018-07-03',\n",
       "               '2018-07-04', '2018-07-05', '2018-07-06', '2018-07-07',\n",
       "               '2018-07-08', '2018-07-09',\n",
       "               ...\n",
       "               '2019-06-27', '2019-06-28', '2019-06-29', '2019-06-30',\n",
       "               '2019-07-01', '2019-07-02', '2019-07-03', '2019-07-04',\n",
       "               '2019-07-05', '2019-07-06'],\n",
       "              dtype='datetime64[ns]', name='Date', length=365, freq=None)"
      ]
     },
     "execution_count": 56,
     "metadata": {},
     "output_type": "execute_result"
    }
   ],
   "source": [
    "usd.index[-365:]"
   ]
  },
  {
   "cell_type": "code",
   "execution_count": 57,
   "metadata": {},
   "outputs": [
    {
     "data": {
      "text/plain": [
       "Date\n",
       "2018-06-30    2462.82\n",
       "2018-07-01    2462.82\n",
       "2018-07-02    2462.78\n",
       "2018-07-03    2462.84\n",
       "2018-07-04    2463.15\n",
       "2018-07-05    2463.46\n",
       "2018-07-06    2463.31\n",
       "2018-07-07    2463.31\n",
       "2018-07-08    2463.31\n",
       "2018-07-09    2463.20\n",
       "2018-07-10    2461.66\n",
       "2018-07-11    2461.66\n",
       "2018-07-12    2461.66\n",
       "2018-07-13    2461.66\n",
       "2018-07-14    2461.66\n",
       "2018-07-15    2461.66\n",
       "2018-07-16    2461.60\n",
       "2018-07-17    2461.17\n",
       "2018-07-18    2461.20\n",
       "2018-07-19    2461.28\n",
       "2018-07-20    2461.66\n",
       "2018-07-21    2461.66\n",
       "2018-07-22    2461.66\n",
       "2018-07-23    2463.24\n",
       "2018-07-24    2463.02\n",
       "2018-07-25    2464.84\n",
       "2018-07-26    2464.05\n",
       "2018-07-27    2464.44\n",
       "2018-07-28    2464.44\n",
       "2018-07-29    2464.44\n",
       "               ...   \n",
       "2019-06-07    2652.13\n",
       "2019-06-08    2652.13\n",
       "2019-06-09    2652.13\n",
       "2019-06-10    2651.87\n",
       "2019-06-11    2652.43\n",
       "2019-06-12    2653.14\n",
       "2019-06-13    2653.87\n",
       "2019-06-14    2654.41\n",
       "2019-06-15    2654.41\n",
       "2019-06-16    2654.41\n",
       "2019-06-17    2655.19\n",
       "2019-06-18    2656.05\n",
       "2019-06-19    2656.10\n",
       "2019-06-20    2656.18\n",
       "2019-06-21    2657.02\n",
       "2019-06-22    2657.02\n",
       "2019-06-23    2657.02\n",
       "2019-06-24    2657.31\n",
       "2019-06-25    2657.07\n",
       "2019-06-26    2657.51\n",
       "2019-06-27    2657.47\n",
       "2019-06-28    2657.76\n",
       "2019-06-29    2657.76\n",
       "2019-06-30    2657.76\n",
       "2019-07-01    2657.92\n",
       "2019-07-02    2658.24\n",
       "2019-07-03    2658.11\n",
       "2019-07-04    2658.65\n",
       "2019-07-05    2658.59\n",
       "2019-07-06    2658.59\n",
       "Name: USD, Length: 365, dtype: float64"
      ]
     },
     "execution_count": 57,
     "metadata": {},
     "output_type": "execute_result"
    }
   ],
   "source": [
    "usd['USD'][-365:]"
   ]
  },
  {
   "cell_type": "code",
   "execution_count": 82,
   "metadata": {},
   "outputs": [
    {
     "data": {
      "text/plain": [
       "<matplotlib.legend.Legend at 0x1ea0c880f28>"
      ]
     },
     "execution_count": 82,
     "metadata": {},
     "output_type": "execute_result"
    },
    {
     "data": {
      "image/png": "[encoded data removed]",
      "text/plain": [
       "<Figure size 864x576 with 1 Axes>"
      ]
     },
     "metadata": {},
     "output_type": "display_data"
    }
   ],
   "source": [
    "fig, ax = plt.subplots()\n",
    "ax.plot(usd.index[-730:], usd['USD'][-730:])\n",
    "ax.plot(forecast.index, forecast['value'], color='red',marker='o')\n",
    "ax.axvline(x='2018-06', color='black', linewidth=2)\n",
    "ax.set_xlabel('Date')\n",
    "ax.set_ylabel('USD-MNT Rate')\n",
    "ax.set_title(\"Forecast vs Actuals - Data from June 2018\")\n",
    "ax.legend(labels=['Measured', 'Forecast', 'Last Available Data for Forecast'])"
   ]
  },
  {
   "cell_type": "markdown",
   "metadata": {},
   "source": [
    "In reviewing the forecast and the measured"
   ]
  },
  {
   "cell_type": "code",
   "execution_count": null,
   "metadata": {},
   "outputs": [],
   "source": []
  }
 ],
 "metadata": {
  "kernelspec": {
   "display_name": "Python 3",
   "language": "python",
   "name": "python3"
  },
  "language_info": {
   "codemirror_mode": {
    "name": "ipython",
    "version": 3
   },
   "file_extension": ".py",
   "mimetype": "text/x-python",
   "name": "python",
   "nbconvert_exporter": "python",
   "pygments_lexer": "ipython3",
   "version": "3.7.3"
  }
 },
 "nbformat": 4,
 "nbformat_minor": 2
}
