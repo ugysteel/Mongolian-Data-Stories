{
 "cells": [
  {
   "cell_type": "markdown",
   "metadata": {},
   "source": [
    "# Forecasting USD-MNT Exchange Rate Using Machine Learning"
   ]
  },
  {
   "cell_type": "markdown",
   "metadata": {},
   "source": [
    "In this analysis I hope to show that it is possible and practical to forecast USD-MNT exchange rates using machine learning. Using the external factors below \n",
    "\n",
    "External factors to test:\n",
    "- M1 and M2 money supplies\n",
    "- Foreign currency on deposit\n",
    "- Inflation rates\n",
    "- Interest rates (policy rate)\n",
    "- Balance of Payments"
   ]
  }
 ],
 "metadata": {
  "kernelspec": {
   "display_name": "Python 3",
   "language": "python",
   "name": "python3"
  },
  "language_info": {
   "codemirror_mode": {
    "name": "ipython",
    "version": 3
   },
   "file_extension": ".py",
   "mimetype": "text/x-python",
   "name": "python",
   "nbconvert_exporter": "python",
   "pygments_lexer": "ipython3",
   "version": "3.6.3"
  }
 },
 "nbformat": 4,
 "nbformat_minor": 2
}
