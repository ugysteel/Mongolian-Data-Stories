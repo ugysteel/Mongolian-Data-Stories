{
 "cells": [
  {
   "cell_type": "markdown",
   "metadata": {},
   "source": [
    "# Forecasting USD-MNT Exchange Rate Using Machine Learning"
   ]
  },
  {
   "cell_type": "markdown",
   "metadata": {},
   "source": [
    "In this analysis I hope to show that it is possible and practical to forecast USD-MNT exchange rates using machine learning. Traditional methods for forecasting exchange rates rely on complicated formulas or time series forecasting. With the advent of machine learning I hope to show that a reliable forecast can be made using new machine learning techniques. \n",
    "\n",
    "Macroeconomics literature states that there are many factors that contribute to determine the exchange rate of a currency pair. As many of these factors are included as possible given available statistical data. \n",
    "\n",
    "External factors to test:\n",
    "- M1 and M2 money supplies\n",
    "- Foreign currency on deposit\n",
    "- Inflation rates\n",
    "- Interest rates (policy rate)\n",
    "- Balance of Payments"
   ]
  },
  {
   "cell_type": "code",
   "execution_count": 2,
   "metadata": {},
   "outputs": [],
   "source": [
    "import pandas as pd\n",
    "import matplotlib.pyplot as plt\n",
    "%matplotlib inline\n",
    "plt.style.use('/storage/mds.mplstyle')"
   ]
  },
  {
   "cell_type": "markdown",
   "metadata": {},
   "source": [
    "## Importing and Formatting Datasets"
   ]
  },
  {
   "cell_type": "markdown",
   "metadata": {},
   "source": [
    "First we will import our various datasets. As they come in various time frequencies, we will resample each dataset to be monthly. We will handle each dataset as follows:\n",
    "\n",
    "- For our exchange rate, we will take the ending price. \n",
    "- For monthly datasets no resampling is needed. \n",
    "- For quarterly datasets we use the quarterly value for each month in that period."
   ]
  },
  {
   "cell_type": "code",
   "execution_count": 3,
   "metadata": {},
   "outputs": [],
   "source": [
    "# Convenience function that 1) converts date field to datetime, 2) sets date field as index, 3) resamples to monthly\n",
    "def convert_dataframe(df):\n",
    "    '''Fields: df = dataframe, labelname = name of field label\n",
    "    Requires that the date field be called \"Date\"'''\n",
    "    df['Date'] = pd.to_datetime(df['Date'])\n",
    "    df.set_index('Date', inplace=True)\n",
    "    df = df.resample('1M').last()"
   ]
  },
  {
   "cell_type": "markdown",
   "metadata": {},
   "source": [
    "### Exchange Rate"
   ]
  },
  {
   "cell_type": "code",
   "execution_count": 4,
   "metadata": {},
   "outputs": [
    {
     "data": {
      "text/plain": [
       "['Data',\n",
       " 'USD-MNT Machine Learning - EDA.ipynb',\n",
       " 'USD-MNT Machine Learning Model - Data Import and Formatting.ipynb',\n",
       " 'tpot_exported_pipeline.py',\n",
       " 'Output',\n",
       " '.ipynb_checkpoints',\n",
       " 'AutoML_with_TPOT_for_Exchange_Rate_Forecasting.ipynb',\n",
       " 'USD-MNT ARIMA Model - Abandoned.ipynb']"
      ]
     },
     "execution_count": 4,
     "metadata": {},
     "output_type": "execute_result"
    }
   ],
   "source": [
    "import os\n",
    "os.listdir()"
   ]
  },
  {
   "cell_type": "code",
   "execution_count": 5,
   "metadata": {},
   "outputs": [],
   "source": [
    "mnt = pd.read_csv('Data/Raw Data/USD-MNT.csv')"
   ]
  },
  {
   "cell_type": "code",
   "execution_count": 6,
   "metadata": {},
   "outputs": [
    {
     "data": {
      "text/html": [
       "<div>\n",
       "<style scoped>\n",
       "    .dataframe tbody tr th:only-of-type {\n",
       "        vertical-align: middle;\n",
       "    }\n",
       "\n",
       "    .dataframe tbody tr th {\n",
       "        vertical-align: top;\n",
       "    }\n",
       "\n",
       "    .dataframe thead th {\n",
       "        text-align: right;\n",
       "    }\n",
       "</style>\n",
       "<table border=\"1\" class=\"dataframe\">\n",
       "  <thead>\n",
       "    <tr style=\"text-align: right;\">\n",
       "      <th></th>\n",
       "      <th>Date</th>\n",
       "      <th>USD</th>\n",
       "    </tr>\n",
       "  </thead>\n",
       "  <tbody>\n",
       "    <tr>\n",
       "      <th>0</th>\n",
       "      <td>1/2/2008</td>\n",
       "      <td>1169.97</td>\n",
       "    </tr>\n",
       "    <tr>\n",
       "      <th>1</th>\n",
       "      <td>1/3/2008</td>\n",
       "      <td>1169.97</td>\n",
       "    </tr>\n",
       "    <tr>\n",
       "      <th>2</th>\n",
       "      <td>1/4/2008</td>\n",
       "      <td>1169.97</td>\n",
       "    </tr>\n",
       "    <tr>\n",
       "      <th>3</th>\n",
       "      <td>1/7/2008</td>\n",
       "      <td>1169.81</td>\n",
       "    </tr>\n",
       "    <tr>\n",
       "      <th>4</th>\n",
       "      <td>1/8/2008</td>\n",
       "      <td>1170.11</td>\n",
       "    </tr>\n",
       "  </tbody>\n",
       "</table>\n",
       "</div>"
      ],
      "text/plain": [
       "       Date      USD\n",
       "0  1/2/2008  1169.97\n",
       "1  1/3/2008  1169.97\n",
       "2  1/4/2008  1169.97\n",
       "3  1/7/2008  1169.81\n",
       "4  1/8/2008  1170.11"
      ]
     },
     "execution_count": 6,
     "metadata": {},
     "output_type": "execute_result"
    }
   ],
   "source": [
    "mnt.head()"
   ]
  },
  {
   "cell_type": "code",
   "execution_count": 7,
   "metadata": {},
   "outputs": [
    {
     "data": {
      "text/html": [
       "<div>\n",
       "<style scoped>\n",
       "    .dataframe tbody tr th:only-of-type {\n",
       "        vertical-align: middle;\n",
       "    }\n",
       "\n",
       "    .dataframe tbody tr th {\n",
       "        vertical-align: top;\n",
       "    }\n",
       "\n",
       "    .dataframe thead th {\n",
       "        text-align: right;\n",
       "    }\n",
       "</style>\n",
       "<table border=\"1\" class=\"dataframe\">\n",
       "  <thead>\n",
       "    <tr style=\"text-align: right;\">\n",
       "      <th></th>\n",
       "      <th>Date</th>\n",
       "      <th>USD</th>\n",
       "    </tr>\n",
       "  </thead>\n",
       "  <tbody>\n",
       "    <tr>\n",
       "      <th>3602</th>\n",
       "      <td>11/2/2018</td>\n",
       "      <td>2565.74</td>\n",
       "    </tr>\n",
       "    <tr>\n",
       "      <th>3603</th>\n",
       "      <td>11/3/2018</td>\n",
       "      <td>2565.74</td>\n",
       "    </tr>\n",
       "    <tr>\n",
       "      <th>3604</th>\n",
       "      <td>11/4/2018</td>\n",
       "      <td>2565.74</td>\n",
       "    </tr>\n",
       "    <tr>\n",
       "      <th>3605</th>\n",
       "      <td>11/5/2018</td>\n",
       "      <td>2565.90</td>\n",
       "    </tr>\n",
       "    <tr>\n",
       "      <th>3606</th>\n",
       "      <td>11/6/2018</td>\n",
       "      <td>2565.73</td>\n",
       "    </tr>\n",
       "  </tbody>\n",
       "</table>\n",
       "</div>"
      ],
      "text/plain": [
       "           Date      USD\n",
       "3602  11/2/2018  2565.74\n",
       "3603  11/3/2018  2565.74\n",
       "3604  11/4/2018  2565.74\n",
       "3605  11/5/2018  2565.90\n",
       "3606  11/6/2018  2565.73"
      ]
     },
     "execution_count": 7,
     "metadata": {},
     "output_type": "execute_result"
    }
   ],
   "source": [
    "mnt.tail()"
   ]
  },
  {
   "cell_type": "code",
   "execution_count": 8,
   "metadata": {},
   "outputs": [
    {
     "data": {
      "text/plain": [
       "Date     object\n",
       "USD     float64\n",
       "dtype: object"
      ]
     },
     "execution_count": 8,
     "metadata": {},
     "output_type": "execute_result"
    }
   ],
   "source": [
    "mnt.dtypes"
   ]
  },
  {
   "cell_type": "code",
   "execution_count": 9,
   "metadata": {},
   "outputs": [],
   "source": [
    "mnt['Date'] = pd.to_datetime(mnt['Date'])"
   ]
  },
  {
   "cell_type": "code",
   "execution_count": 10,
   "metadata": {},
   "outputs": [],
   "source": [
    "mnt.set_index('Date', inplace=True)"
   ]
  },
  {
   "cell_type": "code",
   "execution_count": 11,
   "metadata": {},
   "outputs": [],
   "source": [
    "mnt = mnt.resample('1M').last()"
   ]
  },
  {
   "cell_type": "code",
   "execution_count": 12,
   "metadata": {},
   "outputs": [
    {
     "data": {
      "text/plain": [
       "DatetimeIndex(['2008-01-31', '2008-02-29', '2008-03-31', '2008-04-30',\n",
       "               '2008-05-31', '2008-06-30', '2008-07-31', '2008-08-31',\n",
       "               '2008-09-30', '2008-10-31',\n",
       "               ...\n",
       "               '2018-02-28', '2018-03-31', '2018-04-30', '2018-05-31',\n",
       "               '2018-06-30', '2018-07-31', '2018-08-31', '2018-09-30',\n",
       "               '2018-10-31', '2018-11-30'],\n",
       "              dtype='datetime64[ns]', name='Date', length=131, freq='M')"
      ]
     },
     "execution_count": 12,
     "metadata": {},
     "output_type": "execute_result"
    }
   ],
   "source": [
    "mnt.index"
   ]
  },
  {
   "cell_type": "code",
   "execution_count": 13,
   "metadata": {},
   "outputs": [],
   "source": [
    "mnt = mnt[mnt.index <= '2018-11']"
   ]
  },
  {
   "cell_type": "markdown",
   "metadata": {},
   "source": [
    "### CPI Percent Change"
   ]
  },
  {
   "cell_type": "code",
   "execution_count": 14,
   "metadata": {},
   "outputs": [],
   "source": [
    "cpi = pd.read_csv('Data/Raw Data/DT_NSO_0600_009V1_-_2018-11-19 - CPI Change.csv')"
   ]
  },
  {
   "cell_type": "code",
   "execution_count": 15,
   "metadata": {},
   "outputs": [
    {
     "data": {
      "text/html": [
       "<div>\n",
       "<style scoped>\n",
       "    .dataframe tbody tr th:only-of-type {\n",
       "        vertical-align: middle;\n",
       "    }\n",
       "\n",
       "    .dataframe tbody tr th {\n",
       "        vertical-align: top;\n",
       "    }\n",
       "\n",
       "    .dataframe thead th {\n",
       "        text-align: right;\n",
       "    }\n",
       "</style>\n",
       "<table border=\"1\" class=\"dataframe\">\n",
       "  <thead>\n",
       "    <tr style=\"text-align: right;\">\n",
       "      <th></th>\n",
       "      <th>INDICATOR</th>\n",
       "      <th>1991-10</th>\n",
       "      <th>1991-11</th>\n",
       "      <th>1991-12</th>\n",
       "      <th>1992-01</th>\n",
       "      <th>1992-02</th>\n",
       "      <th>1992-03</th>\n",
       "      <th>1992-04</th>\n",
       "      <th>1992-05</th>\n",
       "      <th>1992-06</th>\n",
       "      <th>...</th>\n",
       "      <th>2018-01</th>\n",
       "      <th>2018-02</th>\n",
       "      <th>2018-03</th>\n",
       "      <th>2018-04</th>\n",
       "      <th>2018-05</th>\n",
       "      <th>2018-06</th>\n",
       "      <th>2018-07</th>\n",
       "      <th>2018-08</th>\n",
       "      <th>2018-09</th>\n",
       "      <th>2018-10</th>\n",
       "    </tr>\n",
       "  </thead>\n",
       "  <tbody>\n",
       "    <tr>\n",
       "      <th>0</th>\n",
       "      <td>Overall index</td>\n",
       "      <td>3.2</td>\n",
       "      <td>5.1</td>\n",
       "      <td>4.4</td>\n",
       "      <td>3.6</td>\n",
       "      <td>9.8</td>\n",
       "      <td>32.9</td>\n",
       "      <td>13.7</td>\n",
       "      <td>4.5</td>\n",
       "      <td>24.0</td>\n",
       "      <td>...</td>\n",
       "      <td>1.4</td>\n",
       "      <td>0.8</td>\n",
       "      <td>0.9</td>\n",
       "      <td>0.6</td>\n",
       "      <td>0.6</td>\n",
       "      <td>0.5</td>\n",
       "      <td>0.5</td>\n",
       "      <td>-0.8</td>\n",
       "      <td>-0.1</td>\n",
       "      <td>1.0</td>\n",
       "    </tr>\n",
       "  </tbody>\n",
       "</table>\n",
       "<p>1 rows × 326 columns</p>\n",
       "</div>"
      ],
      "text/plain": [
       "       INDICATOR  1991-10  1991-11  1991-12  1992-01  1992-02  1992-03  \\\n",
       "0  Overall index      3.2      5.1      4.4      3.6      9.8     32.9   \n",
       "\n",
       "   1992-04  1992-05  1992-06   ...     2018-01  2018-02  2018-03  2018-04  \\\n",
       "0     13.7      4.5     24.0   ...         1.4      0.8      0.9      0.6   \n",
       "\n",
       "   2018-05  2018-06  2018-07  2018-08  2018-09  2018-10  \n",
       "0      0.6      0.5      0.5     -0.8     -0.1      1.0  \n",
       "\n",
       "[1 rows x 326 columns]"
      ]
     },
     "execution_count": 15,
     "metadata": {},
     "output_type": "execute_result"
    }
   ],
   "source": [
    "cpi.head()"
   ]
  },
  {
   "cell_type": "code",
   "execution_count": 16,
   "metadata": {},
   "outputs": [],
   "source": [
    "cpi = cpi.melt(id_vars='INDICATOR', var_name='Date')"
   ]
  },
  {
   "cell_type": "code",
   "execution_count": 17,
   "metadata": {},
   "outputs": [
    {
     "data": {
      "text/html": [
       "<div>\n",
       "<style scoped>\n",
       "    .dataframe tbody tr th:only-of-type {\n",
       "        vertical-align: middle;\n",
       "    }\n",
       "\n",
       "    .dataframe tbody tr th {\n",
       "        vertical-align: top;\n",
       "    }\n",
       "\n",
       "    .dataframe thead th {\n",
       "        text-align: right;\n",
       "    }\n",
       "</style>\n",
       "<table border=\"1\" class=\"dataframe\">\n",
       "  <thead>\n",
       "    <tr style=\"text-align: right;\">\n",
       "      <th></th>\n",
       "      <th>INDICATOR</th>\n",
       "      <th>Date</th>\n",
       "      <th>value</th>\n",
       "    </tr>\n",
       "  </thead>\n",
       "  <tbody>\n",
       "    <tr>\n",
       "      <th>0</th>\n",
       "      <td>Overall index</td>\n",
       "      <td>1991-10</td>\n",
       "      <td>3.2</td>\n",
       "    </tr>\n",
       "    <tr>\n",
       "      <th>1</th>\n",
       "      <td>Overall index</td>\n",
       "      <td>1991-11</td>\n",
       "      <td>5.1</td>\n",
       "    </tr>\n",
       "    <tr>\n",
       "      <th>2</th>\n",
       "      <td>Overall index</td>\n",
       "      <td>1991-12</td>\n",
       "      <td>4.4</td>\n",
       "    </tr>\n",
       "    <tr>\n",
       "      <th>3</th>\n",
       "      <td>Overall index</td>\n",
       "      <td>1992-01</td>\n",
       "      <td>3.6</td>\n",
       "    </tr>\n",
       "    <tr>\n",
       "      <th>4</th>\n",
       "      <td>Overall index</td>\n",
       "      <td>1992-02</td>\n",
       "      <td>9.8</td>\n",
       "    </tr>\n",
       "  </tbody>\n",
       "</table>\n",
       "</div>"
      ],
      "text/plain": [
       "       INDICATOR     Date  value\n",
       "0  Overall index  1991-10    3.2\n",
       "1  Overall index  1991-11    5.1\n",
       "2  Overall index  1991-12    4.4\n",
       "3  Overall index  1992-01    3.6\n",
       "4  Overall index  1992-02    9.8"
      ]
     },
     "execution_count": 17,
     "metadata": {},
     "output_type": "execute_result"
    }
   ],
   "source": [
    "cpi.head()"
   ]
  },
  {
   "cell_type": "code",
   "execution_count": 18,
   "metadata": {},
   "outputs": [],
   "source": [
    "cpi['Date'] = pd.to_datetime(cpi['Date'])\n",
    "cpi.set_index('Date', inplace=True)\n",
    "cpi = cpi.drop(labels='INDICATOR', axis=1)\n",
    "cpi = cpi.resample('1M').last()"
   ]
  },
  {
   "cell_type": "code",
   "execution_count": 19,
   "metadata": {},
   "outputs": [
    {
     "data": {
      "text/html": [
       "<div>\n",
       "<style scoped>\n",
       "    .dataframe tbody tr th:only-of-type {\n",
       "        vertical-align: middle;\n",
       "    }\n",
       "\n",
       "    .dataframe tbody tr th {\n",
       "        vertical-align: top;\n",
       "    }\n",
       "\n",
       "    .dataframe thead th {\n",
       "        text-align: right;\n",
       "    }\n",
       "</style>\n",
       "<table border=\"1\" class=\"dataframe\">\n",
       "  <thead>\n",
       "    <tr style=\"text-align: right;\">\n",
       "      <th></th>\n",
       "      <th>value</th>\n",
       "    </tr>\n",
       "    <tr>\n",
       "      <th>Date</th>\n",
       "      <th></th>\n",
       "    </tr>\n",
       "  </thead>\n",
       "  <tbody>\n",
       "    <tr>\n",
       "      <th>1991-10-31</th>\n",
       "      <td>3.2</td>\n",
       "    </tr>\n",
       "    <tr>\n",
       "      <th>1991-11-30</th>\n",
       "      <td>5.1</td>\n",
       "    </tr>\n",
       "    <tr>\n",
       "      <th>1991-12-31</th>\n",
       "      <td>4.4</td>\n",
       "    </tr>\n",
       "    <tr>\n",
       "      <th>1992-01-31</th>\n",
       "      <td>3.6</td>\n",
       "    </tr>\n",
       "    <tr>\n",
       "      <th>1992-02-29</th>\n",
       "      <td>9.8</td>\n",
       "    </tr>\n",
       "  </tbody>\n",
       "</table>\n",
       "</div>"
      ],
      "text/plain": [
       "            value\n",
       "Date             \n",
       "1991-10-31    3.2\n",
       "1991-11-30    5.1\n",
       "1991-12-31    4.4\n",
       "1992-01-31    3.6\n",
       "1992-02-29    9.8"
      ]
     },
     "execution_count": 19,
     "metadata": {},
     "output_type": "execute_result"
    }
   ],
   "source": [
    "cpi.head()"
   ]
  },
  {
   "cell_type": "code",
   "execution_count": 20,
   "metadata": {},
   "outputs": [
    {
     "data": {
      "text/html": [
       "<div>\n",
       "<style scoped>\n",
       "    .dataframe tbody tr th:only-of-type {\n",
       "        vertical-align: middle;\n",
       "    }\n",
       "\n",
       "    .dataframe tbody tr th {\n",
       "        vertical-align: top;\n",
       "    }\n",
       "\n",
       "    .dataframe thead th {\n",
       "        text-align: right;\n",
       "    }\n",
       "</style>\n",
       "<table border=\"1\" class=\"dataframe\">\n",
       "  <thead>\n",
       "    <tr style=\"text-align: right;\">\n",
       "      <th></th>\n",
       "      <th>value</th>\n",
       "    </tr>\n",
       "    <tr>\n",
       "      <th>Date</th>\n",
       "      <th></th>\n",
       "    </tr>\n",
       "  </thead>\n",
       "  <tbody>\n",
       "    <tr>\n",
       "      <th>2018-06-30</th>\n",
       "      <td>0.5</td>\n",
       "    </tr>\n",
       "    <tr>\n",
       "      <th>2018-07-31</th>\n",
       "      <td>0.5</td>\n",
       "    </tr>\n",
       "    <tr>\n",
       "      <th>2018-08-31</th>\n",
       "      <td>-0.8</td>\n",
       "    </tr>\n",
       "    <tr>\n",
       "      <th>2018-09-30</th>\n",
       "      <td>-0.1</td>\n",
       "    </tr>\n",
       "    <tr>\n",
       "      <th>2018-10-31</th>\n",
       "      <td>1.0</td>\n",
       "    </tr>\n",
       "  </tbody>\n",
       "</table>\n",
       "</div>"
      ],
      "text/plain": [
       "            value\n",
       "Date             \n",
       "2018-06-30    0.5\n",
       "2018-07-31    0.5\n",
       "2018-08-31   -0.8\n",
       "2018-09-30   -0.1\n",
       "2018-10-31    1.0"
      ]
     },
     "execution_count": 20,
     "metadata": {},
     "output_type": "execute_result"
    }
   ],
   "source": [
    "cpi.tail()"
   ]
  },
  {
   "cell_type": "markdown",
   "metadata": {},
   "source": [
    "### Money Supply"
   ]
  },
  {
   "cell_type": "code",
   "execution_count": 21,
   "metadata": {},
   "outputs": [],
   "source": [
    "money = pd.read_csv('Data/Raw Data/DT_NSO_0700_001V2_-_2018-11-19 - Money Supply.csv')"
   ]
  },
  {
   "cell_type": "code",
   "execution_count": 22,
   "metadata": {},
   "outputs": [
    {
     "data": {
      "text/html": [
       "<div>\n",
       "<style scoped>\n",
       "    .dataframe tbody tr th:only-of-type {\n",
       "        vertical-align: middle;\n",
       "    }\n",
       "\n",
       "    .dataframe tbody tr th {\n",
       "        vertical-align: top;\n",
       "    }\n",
       "\n",
       "    .dataframe thead th {\n",
       "        text-align: right;\n",
       "    }\n",
       "</style>\n",
       "<table border=\"1\" class=\"dataframe\">\n",
       "  <thead>\n",
       "    <tr style=\"text-align: right;\">\n",
       "      <th></th>\n",
       "      <th>Indicators</th>\n",
       "      <th>1997-01</th>\n",
       "      <th>1997-02</th>\n",
       "      <th>1997-03</th>\n",
       "      <th>1997-04</th>\n",
       "      <th>1997-05</th>\n",
       "      <th>1997-06</th>\n",
       "      <th>1997-07</th>\n",
       "      <th>1997-08</th>\n",
       "      <th>1997-09</th>\n",
       "      <th>...</th>\n",
       "      <th>2018-01</th>\n",
       "      <th>2018-02</th>\n",
       "      <th>2018-03</th>\n",
       "      <th>2018-04</th>\n",
       "      <th>2018-05</th>\n",
       "      <th>2018-06</th>\n",
       "      <th>2018-07</th>\n",
       "      <th>2018-08</th>\n",
       "      <th>2018-09</th>\n",
       "      <th>2018-10</th>\n",
       "    </tr>\n",
       "  </thead>\n",
       "  <tbody>\n",
       "    <tr>\n",
       "      <th>0</th>\n",
       "      <td>Money M2</td>\n",
       "      <td>116.6</td>\n",
       "      <td>115.0</td>\n",
       "      <td>114.5</td>\n",
       "      <td>123.4</td>\n",
       "      <td>133.1</td>\n",
       "      <td>137.9</td>\n",
       "      <td>152.8</td>\n",
       "      <td>150.6</td>\n",
       "      <td>151.6</td>\n",
       "      <td>...</td>\n",
       "      <td>15,763</td>\n",
       "      <td>15,912.4</td>\n",
       "      <td>16,073.9</td>\n",
       "      <td>16,240.1</td>\n",
       "      <td>17,045.3</td>\n",
       "      <td>17,342.9</td>\n",
       "      <td>17,189.3</td>\n",
       "      <td>17,440.8</td>\n",
       "      <td>17,911.8</td>\n",
       "      <td>18,311.5</td>\n",
       "    </tr>\n",
       "    <tr>\n",
       "      <th>1</th>\n",
       "      <td>Money M1</td>\n",
       "      <td>57.1</td>\n",
       "      <td>56.9</td>\n",
       "      <td>52.7</td>\n",
       "      <td>59.3</td>\n",
       "      <td>64.5</td>\n",
       "      <td>67.6</td>\n",
       "      <td>75.4</td>\n",
       "      <td>74.1</td>\n",
       "      <td>75.7</td>\n",
       "      <td>...</td>\n",
       "      <td>2,632.7</td>\n",
       "      <td>2,733.6</td>\n",
       "      <td>2,776.7</td>\n",
       "      <td>2,871</td>\n",
       "      <td>3,201.5</td>\n",
       "      <td>3,352.9</td>\n",
       "      <td>3,086</td>\n",
       "      <td>3,222.8</td>\n",
       "      <td>3,412.7</td>\n",
       "      <td>3,428.6</td>\n",
       "    </tr>\n",
       "    <tr>\n",
       "      <th>2</th>\n",
       "      <td>Quasi money</td>\n",
       "      <td>59.5</td>\n",
       "      <td>58.1</td>\n",
       "      <td>61.8</td>\n",
       "      <td>64.1</td>\n",
       "      <td>68.6</td>\n",
       "      <td>70.2</td>\n",
       "      <td>77.5</td>\n",
       "      <td>76.5</td>\n",
       "      <td>75.9</td>\n",
       "      <td>...</td>\n",
       "      <td>13,130.3</td>\n",
       "      <td>13,178.9</td>\n",
       "      <td>13,297.3</td>\n",
       "      <td>13,369.2</td>\n",
       "      <td>13,843.8</td>\n",
       "      <td>13,990</td>\n",
       "      <td>14,103.3</td>\n",
       "      <td>14,217.9</td>\n",
       "      <td>14,499.1</td>\n",
       "      <td>14,882.9</td>\n",
       "    </tr>\n",
       "    <tr>\n",
       "      <th>3</th>\n",
       "      <td>Currency issued in  circulation</td>\n",
       "      <td>44.7</td>\n",
       "      <td>43.8</td>\n",
       "      <td>41.1</td>\n",
       "      <td>45.1</td>\n",
       "      <td>48.8</td>\n",
       "      <td>52.8</td>\n",
       "      <td>57.3</td>\n",
       "      <td>58.0</td>\n",
       "      <td>58.2</td>\n",
       "      <td>...</td>\n",
       "      <td>801.9</td>\n",
       "      <td>850.4</td>\n",
       "      <td>840.4</td>\n",
       "      <td>937.6</td>\n",
       "      <td>935.9</td>\n",
       "      <td>931.1</td>\n",
       "      <td>917.1</td>\n",
       "      <td>927.5</td>\n",
       "      <td>929.1</td>\n",
       "      <td>887.8</td>\n",
       "    </tr>\n",
       "  </tbody>\n",
       "</table>\n",
       "<p>4 rows × 263 columns</p>\n",
       "</div>"
      ],
      "text/plain": [
       "                        Indicators  1997-01  1997-02  1997-03  1997-04  \\\n",
       "0                         Money M2    116.6    115.0    114.5    123.4   \n",
       "1                         Money M1     57.1     56.9     52.7     59.3   \n",
       "2                      Quasi money     59.5     58.1     61.8     64.1   \n",
       "3  Currency issued in  circulation     44.7     43.8     41.1     45.1   \n",
       "\n",
       "   1997-05  1997-06  1997-07  1997-08  1997-09    ...      2018-01   2018-02  \\\n",
       "0    133.1    137.9    152.8    150.6    151.6    ...       15,763  15,912.4   \n",
       "1     64.5     67.6     75.4     74.1     75.7    ...      2,632.7   2,733.6   \n",
       "2     68.6     70.2     77.5     76.5     75.9    ...     13,130.3  13,178.9   \n",
       "3     48.8     52.8     57.3     58.0     58.2    ...        801.9     850.4   \n",
       "\n",
       "    2018-03   2018-04   2018-05   2018-06   2018-07   2018-08   2018-09  \\\n",
       "0  16,073.9  16,240.1  17,045.3  17,342.9  17,189.3  17,440.8  17,911.8   \n",
       "1   2,776.7     2,871   3,201.5   3,352.9     3,086   3,222.8   3,412.7   \n",
       "2  13,297.3  13,369.2  13,843.8    13,990  14,103.3  14,217.9  14,499.1   \n",
       "3     840.4     937.6     935.9     931.1     917.1     927.5     929.1   \n",
       "\n",
       "    2018-10  \n",
       "0  18,311.5  \n",
       "1   3,428.6  \n",
       "2  14,882.9  \n",
       "3     887.8  \n",
       "\n",
       "[4 rows x 263 columns]"
      ]
     },
     "execution_count": 22,
     "metadata": {},
     "output_type": "execute_result"
    }
   ],
   "source": [
    "money.head()"
   ]
  },
  {
   "cell_type": "code",
   "execution_count": 23,
   "metadata": {},
   "outputs": [],
   "source": [
    "money = money.melt(id_vars='Indicators', var_name='Date')"
   ]
  },
  {
   "cell_type": "code",
   "execution_count": 24,
   "metadata": {},
   "outputs": [
    {
     "data": {
      "text/plain": [
       "array(['Money M2', 'Money M1', 'Quasi money',\n",
       "       'Currency issued in  circulation'], dtype=object)"
      ]
     },
     "execution_count": 24,
     "metadata": {},
     "output_type": "execute_result"
    }
   ],
   "source": [
    "money.Indicators.unique()"
   ]
  },
  {
   "cell_type": "code",
   "execution_count": 25,
   "metadata": {},
   "outputs": [
    {
     "data": {
      "text/html": [
       "<div>\n",
       "<style scoped>\n",
       "    .dataframe tbody tr th:only-of-type {\n",
       "        vertical-align: middle;\n",
       "    }\n",
       "\n",
       "    .dataframe tbody tr th {\n",
       "        vertical-align: top;\n",
       "    }\n",
       "\n",
       "    .dataframe thead th {\n",
       "        text-align: right;\n",
       "    }\n",
       "</style>\n",
       "<table border=\"1\" class=\"dataframe\">\n",
       "  <thead>\n",
       "    <tr style=\"text-align: right;\">\n",
       "      <th></th>\n",
       "      <th>Indicators</th>\n",
       "      <th>Date</th>\n",
       "      <th>value</th>\n",
       "    </tr>\n",
       "  </thead>\n",
       "  <tbody>\n",
       "    <tr>\n",
       "      <th>0</th>\n",
       "      <td>Money M2</td>\n",
       "      <td>1997-01</td>\n",
       "      <td>116.6</td>\n",
       "    </tr>\n",
       "    <tr>\n",
       "      <th>1</th>\n",
       "      <td>Money M1</td>\n",
       "      <td>1997-01</td>\n",
       "      <td>57.1</td>\n",
       "    </tr>\n",
       "    <tr>\n",
       "      <th>2</th>\n",
       "      <td>Quasi money</td>\n",
       "      <td>1997-01</td>\n",
       "      <td>59.5</td>\n",
       "    </tr>\n",
       "    <tr>\n",
       "      <th>3</th>\n",
       "      <td>Currency issued in  circulation</td>\n",
       "      <td>1997-01</td>\n",
       "      <td>44.7</td>\n",
       "    </tr>\n",
       "    <tr>\n",
       "      <th>4</th>\n",
       "      <td>Money M2</td>\n",
       "      <td>1997-02</td>\n",
       "      <td>115</td>\n",
       "    </tr>\n",
       "  </tbody>\n",
       "</table>\n",
       "</div>"
      ],
      "text/plain": [
       "                        Indicators     Date  value\n",
       "0                         Money M2  1997-01  116.6\n",
       "1                         Money M1  1997-01   57.1\n",
       "2                      Quasi money  1997-01   59.5\n",
       "3  Currency issued in  circulation  1997-01   44.7\n",
       "4                         Money M2  1997-02    115"
      ]
     },
     "execution_count": 25,
     "metadata": {},
     "output_type": "execute_result"
    }
   ],
   "source": [
    "money.head()"
   ]
  },
  {
   "cell_type": "code",
   "execution_count": 26,
   "metadata": {},
   "outputs": [],
   "source": [
    "m2 = money[money['Indicators'] == 'Money M2']\n",
    "m1 = money[money['Indicators'] == 'Money M1']"
   ]
  },
  {
   "cell_type": "code",
   "execution_count": 27,
   "metadata": {},
   "outputs": [
    {
     "name": "stderr",
     "output_type": "stream",
     "text": [
      "/opt/conda/lib/python3.6/site-packages/ipykernel_launcher.py:1: SettingWithCopyWarning: \n",
      "A value is trying to be set on a copy of a slice from a DataFrame.\n",
      "Try using .loc[row_indexer,col_indexer] = value instead\n",
      "\n",
      "See the caveats in the documentation: http://pandas.pydata.org/pandas-docs/stable/indexing.html#indexing-view-versus-copy\n",
      "  \"\"\"Entry point for launching an IPython kernel.\n"
     ]
    }
   ],
   "source": [
    "m2['Date'] = pd.to_datetime(m2['Date'])\n",
    "m2.set_index('Date', inplace=True)\n",
    "m2 = m2.resample('1M').last()\n",
    "m2.drop(labels='Indicators', axis=1, inplace=True)"
   ]
  },
  {
   "cell_type": "code",
   "execution_count": 28,
   "metadata": {},
   "outputs": [
    {
     "name": "stderr",
     "output_type": "stream",
     "text": [
      "/opt/conda/lib/python3.6/site-packages/ipykernel_launcher.py:1: SettingWithCopyWarning: \n",
      "A value is trying to be set on a copy of a slice from a DataFrame.\n",
      "Try using .loc[row_indexer,col_indexer] = value instead\n",
      "\n",
      "See the caveats in the documentation: http://pandas.pydata.org/pandas-docs/stable/indexing.html#indexing-view-versus-copy\n",
      "  \"\"\"Entry point for launching an IPython kernel.\n"
     ]
    }
   ],
   "source": [
    "m1['Date'] = pd.to_datetime(m1['Date'])\n",
    "m1.set_index('Date', inplace=True)\n",
    "m1 = m1.resample('1M').last()\n",
    "m1.drop(labels='Indicators', axis=1, inplace=True)"
   ]
  },
  {
   "cell_type": "markdown",
   "metadata": {},
   "source": [
    "### Balance of Payments"
   ]
  },
  {
   "cell_type": "markdown",
   "metadata": {},
   "source": [
    "The original data was modified in Excel to resample from quarter to months. "
   ]
  },
  {
   "cell_type": "code",
   "execution_count": 29,
   "metadata": {},
   "outputs": [],
   "source": [
    "balance = pd.read_csv('Data/Modified Data/Balance of Payments - Edited.csv')"
   ]
  },
  {
   "cell_type": "code",
   "execution_count": 30,
   "metadata": {},
   "outputs": [
    {
     "data": {
      "text/html": [
       "<div>\n",
       "<style scoped>\n",
       "    .dataframe tbody tr th:only-of-type {\n",
       "        vertical-align: middle;\n",
       "    }\n",
       "\n",
       "    .dataframe tbody tr th {\n",
       "        vertical-align: top;\n",
       "    }\n",
       "\n",
       "    .dataframe thead th {\n",
       "        text-align: right;\n",
       "    }\n",
       "</style>\n",
       "<table border=\"1\" class=\"dataframe\">\n",
       "  <thead>\n",
       "    <tr style=\"text-align: right;\">\n",
       "      <th></th>\n",
       "      <th>Classification</th>\n",
       "      <th>Date</th>\n",
       "      <th>Value</th>\n",
       "    </tr>\n",
       "  </thead>\n",
       "  <tbody>\n",
       "    <tr>\n",
       "      <th>0</th>\n",
       "      <td>Current Account</td>\n",
       "      <td>1/1998</td>\n",
       "      <td>-8.8</td>\n",
       "    </tr>\n",
       "    <tr>\n",
       "      <th>1</th>\n",
       "      <td>Current Account</td>\n",
       "      <td>2/1998</td>\n",
       "      <td>-8.8</td>\n",
       "    </tr>\n",
       "    <tr>\n",
       "      <th>2</th>\n",
       "      <td>Current Account</td>\n",
       "      <td>3/1998</td>\n",
       "      <td>-8.8</td>\n",
       "    </tr>\n",
       "    <tr>\n",
       "      <th>3</th>\n",
       "      <td>Current Account</td>\n",
       "      <td>4/1998</td>\n",
       "      <td>-71.9</td>\n",
       "    </tr>\n",
       "    <tr>\n",
       "      <th>4</th>\n",
       "      <td>Current Account</td>\n",
       "      <td>5/1998</td>\n",
       "      <td>-71.9</td>\n",
       "    </tr>\n",
       "  </tbody>\n",
       "</table>\n",
       "</div>"
      ],
      "text/plain": [
       "    Classification    Date  Value\n",
       "0  Current Account  1/1998   -8.8\n",
       "1  Current Account  2/1998   -8.8\n",
       "2  Current Account  3/1998   -8.8\n",
       "3  Current Account  4/1998  -71.9\n",
       "4  Current Account  5/1998  -71.9"
      ]
     },
     "execution_count": 30,
     "metadata": {},
     "output_type": "execute_result"
    }
   ],
   "source": [
    "balance.head()"
   ]
  },
  {
   "cell_type": "code",
   "execution_count": 31,
   "metadata": {},
   "outputs": [
    {
     "data": {
      "text/plain": [
       "array(['Current Account', 'Capital and financial account',\n",
       "       'Capital account', 'Financial account', 'Net Errors and Omissions'], dtype=object)"
      ]
     },
     "execution_count": 31,
     "metadata": {},
     "output_type": "execute_result"
    }
   ],
   "source": [
    "balance.Classification.unique()"
   ]
  },
  {
   "cell_type": "code",
   "execution_count": 32,
   "metadata": {},
   "outputs": [],
   "source": [
    "current = balance[balance['Classification'] == 'Current Account']\n",
    "capital = balance[balance['Classification'] == 'Capital account']\n",
    "financial = balance[balance['Classification'] == 'Financial account']\n",
    "errors = balance[balance['Classification'] == 'Net Errors and Omissions']"
   ]
  },
  {
   "cell_type": "code",
   "execution_count": 33,
   "metadata": {},
   "outputs": [
    {
     "name": "stderr",
     "output_type": "stream",
     "text": [
      "/opt/conda/lib/python3.6/site-packages/ipykernel_launcher.py:1: SettingWithCopyWarning: \n",
      "A value is trying to be set on a copy of a slice from a DataFrame.\n",
      "Try using .loc[row_indexer,col_indexer] = value instead\n",
      "\n",
      "See the caveats in the documentation: http://pandas.pydata.org/pandas-docs/stable/indexing.html#indexing-view-versus-copy\n",
      "  \"\"\"Entry point for launching an IPython kernel.\n",
      "/opt/conda/lib/python3.6/site-packages/ipykernel_launcher.py:6: SettingWithCopyWarning: \n",
      "A value is trying to be set on a copy of a slice from a DataFrame.\n",
      "Try using .loc[row_indexer,col_indexer] = value instead\n",
      "\n",
      "See the caveats in the documentation: http://pandas.pydata.org/pandas-docs/stable/indexing.html#indexing-view-versus-copy\n",
      "  \n",
      "/opt/conda/lib/python3.6/site-packages/ipykernel_launcher.py:11: SettingWithCopyWarning: \n",
      "A value is trying to be set on a copy of a slice from a DataFrame.\n",
      "Try using .loc[row_indexer,col_indexer] = value instead\n",
      "\n",
      "See the caveats in the documentation: http://pandas.pydata.org/pandas-docs/stable/indexing.html#indexing-view-versus-copy\n",
      "  # This is added back by InteractiveShellApp.init_path()\n",
      "/opt/conda/lib/python3.6/site-packages/ipykernel_launcher.py:16: SettingWithCopyWarning: \n",
      "A value is trying to be set on a copy of a slice from a DataFrame.\n",
      "Try using .loc[row_indexer,col_indexer] = value instead\n",
      "\n",
      "See the caveats in the documentation: http://pandas.pydata.org/pandas-docs/stable/indexing.html#indexing-view-versus-copy\n",
      "  app.launch_new_instance()\n"
     ]
    }
   ],
   "source": [
    "current['Date'] = pd.to_datetime(current['Date'])\n",
    "current.set_index('Date', inplace=True)\n",
    "current = current.resample('1M').last()\n",
    "current.drop(labels='Classification', axis=1, inplace=True)\n",
    "\n",
    "capital['Date'] = pd.to_datetime(capital['Date'])\n",
    "capital.set_index('Date', inplace=True)\n",
    "capital = capital.resample('1M').last()\n",
    "capital.drop(labels='Classification', axis=1, inplace=True)\n",
    "\n",
    "financial['Date'] = pd.to_datetime(financial['Date'])\n",
    "financial.set_index('Date', inplace=True)\n",
    "financial = financial.resample('1M').last()\n",
    "financial.drop(labels='Classification', axis=1, inplace=True)\n",
    "\n",
    "errors['Date'] = pd.to_datetime(errors['Date'])\n",
    "errors.set_index('Date', inplace=True)\n",
    "errors = errors.resample('1M').last()\n",
    "errors.drop(labels='Classification', axis=1, inplace=True)"
   ]
  },
  {
   "cell_type": "code",
   "execution_count": 34,
   "metadata": {},
   "outputs": [
    {
     "data": {
      "text/html": [
       "<div>\n",
       "<style scoped>\n",
       "    .dataframe tbody tr th:only-of-type {\n",
       "        vertical-align: middle;\n",
       "    }\n",
       "\n",
       "    .dataframe tbody tr th {\n",
       "        vertical-align: top;\n",
       "    }\n",
       "\n",
       "    .dataframe thead th {\n",
       "        text-align: right;\n",
       "    }\n",
       "</style>\n",
       "<table border=\"1\" class=\"dataframe\">\n",
       "  <thead>\n",
       "    <tr style=\"text-align: right;\">\n",
       "      <th></th>\n",
       "      <th>Value</th>\n",
       "    </tr>\n",
       "    <tr>\n",
       "      <th>Date</th>\n",
       "      <th></th>\n",
       "    </tr>\n",
       "  </thead>\n",
       "  <tbody>\n",
       "    <tr>\n",
       "      <th>1998-01-31</th>\n",
       "      <td>-8.8</td>\n",
       "    </tr>\n",
       "    <tr>\n",
       "      <th>1998-02-28</th>\n",
       "      <td>-8.8</td>\n",
       "    </tr>\n",
       "    <tr>\n",
       "      <th>1998-03-31</th>\n",
       "      <td>-8.8</td>\n",
       "    </tr>\n",
       "    <tr>\n",
       "      <th>1998-04-30</th>\n",
       "      <td>-71.9</td>\n",
       "    </tr>\n",
       "    <tr>\n",
       "      <th>1998-05-31</th>\n",
       "      <td>-71.9</td>\n",
       "    </tr>\n",
       "  </tbody>\n",
       "</table>\n",
       "</div>"
      ],
      "text/plain": [
       "            Value\n",
       "Date             \n",
       "1998-01-31   -8.8\n",
       "1998-02-28   -8.8\n",
       "1998-03-31   -8.8\n",
       "1998-04-30  -71.9\n",
       "1998-05-31  -71.9"
      ]
     },
     "execution_count": 34,
     "metadata": {},
     "output_type": "execute_result"
    }
   ],
   "source": [
    "current.head()"
   ]
  },
  {
   "cell_type": "code",
   "execution_count": 35,
   "metadata": {},
   "outputs": [
    {
     "data": {
      "text/html": [
       "<div>\n",
       "<style scoped>\n",
       "    .dataframe tbody tr th:only-of-type {\n",
       "        vertical-align: middle;\n",
       "    }\n",
       "\n",
       "    .dataframe tbody tr th {\n",
       "        vertical-align: top;\n",
       "    }\n",
       "\n",
       "    .dataframe thead th {\n",
       "        text-align: right;\n",
       "    }\n",
       "</style>\n",
       "<table border=\"1\" class=\"dataframe\">\n",
       "  <thead>\n",
       "    <tr style=\"text-align: right;\">\n",
       "      <th></th>\n",
       "      <th>Value</th>\n",
       "    </tr>\n",
       "    <tr>\n",
       "      <th>Date</th>\n",
       "      <th></th>\n",
       "    </tr>\n",
       "  </thead>\n",
       "  <tbody>\n",
       "    <tr>\n",
       "      <th>2018-02-28</th>\n",
       "      <td>-359.9</td>\n",
       "    </tr>\n",
       "    <tr>\n",
       "      <th>2018-03-31</th>\n",
       "      <td>-359.9</td>\n",
       "    </tr>\n",
       "    <tr>\n",
       "      <th>2018-04-30</th>\n",
       "      <td>-319.4</td>\n",
       "    </tr>\n",
       "    <tr>\n",
       "      <th>2018-05-31</th>\n",
       "      <td>-319.4</td>\n",
       "    </tr>\n",
       "    <tr>\n",
       "      <th>2018-06-30</th>\n",
       "      <td>-319.4</td>\n",
       "    </tr>\n",
       "  </tbody>\n",
       "</table>\n",
       "</div>"
      ],
      "text/plain": [
       "            Value\n",
       "Date             \n",
       "2018-02-28 -359.9\n",
       "2018-03-31 -359.9\n",
       "2018-04-30 -319.4\n",
       "2018-05-31 -319.4\n",
       "2018-06-30 -319.4"
      ]
     },
     "execution_count": 35,
     "metadata": {},
     "output_type": "execute_result"
    }
   ],
   "source": [
    "current.tail()"
   ]
  },
  {
   "cell_type": "markdown",
   "metadata": {},
   "source": [
    "### External Trade"
   ]
  },
  {
   "cell_type": "code",
   "execution_count": 36,
   "metadata": {},
   "outputs": [],
   "source": [
    "trade = pd.read_csv('Data/Raw Data/DT_NSO_1400_001V1_-_2018-11-19 - External Trade.csv')"
   ]
  },
  {
   "cell_type": "code",
   "execution_count": 37,
   "metadata": {},
   "outputs": [
    {
     "data": {
      "text/html": [
       "<div>\n",
       "<style scoped>\n",
       "    .dataframe tbody tr th:only-of-type {\n",
       "        vertical-align: middle;\n",
       "    }\n",
       "\n",
       "    .dataframe tbody tr th {\n",
       "        vertical-align: top;\n",
       "    }\n",
       "\n",
       "    .dataframe thead th {\n",
       "        text-align: right;\n",
       "    }\n",
       "</style>\n",
       "<table border=\"1\" class=\"dataframe\">\n",
       "  <thead>\n",
       "    <tr style=\"text-align: right;\">\n",
       "      <th></th>\n",
       "      <th>main indicators of foreign trade</th>\n",
       "      <th>1997-01</th>\n",
       "      <th>1997-02</th>\n",
       "      <th>1997-03</th>\n",
       "      <th>1997-04</th>\n",
       "      <th>1997-05</th>\n",
       "      <th>1997-06</th>\n",
       "      <th>1997-07</th>\n",
       "      <th>1997-08</th>\n",
       "      <th>1997-09</th>\n",
       "      <th>...</th>\n",
       "      <th>2018-01</th>\n",
       "      <th>2018-02</th>\n",
       "      <th>2018-03</th>\n",
       "      <th>2018-04</th>\n",
       "      <th>2018-05</th>\n",
       "      <th>2018-06</th>\n",
       "      <th>2018-07</th>\n",
       "      <th>2018-08</th>\n",
       "      <th>2018-09</th>\n",
       "      <th>2018-10</th>\n",
       "    </tr>\n",
       "  </thead>\n",
       "  <tbody>\n",
       "    <tr>\n",
       "      <th>0</th>\n",
       "      <td>Export</td>\n",
       "      <td>23.4</td>\n",
       "      <td>46.8</td>\n",
       "      <td>102.0</td>\n",
       "      <td>138.3</td>\n",
       "      <td>180.3</td>\n",
       "      <td>232.2</td>\n",
       "      <td>265.7</td>\n",
       "      <td>309.2</td>\n",
       "      <td>366.5</td>\n",
       "      <td>...</td>\n",
       "      <td>423.84</td>\n",
       "      <td>838.4</td>\n",
       "      <td>1,482.41</td>\n",
       "      <td>2,125.40</td>\n",
       "      <td>2,885.20</td>\n",
       "      <td>3,581.40</td>\n",
       "      <td>4,116.70</td>\n",
       "      <td>4,671.20</td>\n",
       "      <td>5,282.80</td>\n",
       "      <td>5,944.80</td>\n",
       "    </tr>\n",
       "    <tr>\n",
       "      <th>1</th>\n",
       "      <td>Imports</td>\n",
       "      <td>15.9</td>\n",
       "      <td>35.8</td>\n",
       "      <td>70.7</td>\n",
       "      <td>103.7</td>\n",
       "      <td>126.3</td>\n",
       "      <td>180.1</td>\n",
       "      <td>220.7</td>\n",
       "      <td>265.4</td>\n",
       "      <td>303.6</td>\n",
       "      <td>...</td>\n",
       "      <td>361.13</td>\n",
       "      <td>726.0</td>\n",
       "      <td>1,130.47</td>\n",
       "      <td>1,581.90</td>\n",
       "      <td>2,178.80</td>\n",
       "      <td>2,759.10</td>\n",
       "      <td>3,265.70</td>\n",
       "      <td>3,802.00</td>\n",
       "      <td>4,351.10</td>\n",
       "      <td>4,875.60</td>\n",
       "    </tr>\n",
       "    <tr>\n",
       "      <th>2</th>\n",
       "      <td>Balance</td>\n",
       "      <td>7.5</td>\n",
       "      <td>11.0</td>\n",
       "      <td>31.3</td>\n",
       "      <td>34.6</td>\n",
       "      <td>54.1</td>\n",
       "      <td>52.1</td>\n",
       "      <td>45.0</td>\n",
       "      <td>43.8</td>\n",
       "      <td>62.8</td>\n",
       "      <td>...</td>\n",
       "      <td>62.71</td>\n",
       "      <td>112.4</td>\n",
       "      <td>351.94</td>\n",
       "      <td>543.40</td>\n",
       "      <td>706.40</td>\n",
       "      <td>822.20</td>\n",
       "      <td>851.00</td>\n",
       "      <td>869.20</td>\n",
       "      <td>931.70</td>\n",
       "      <td>1,069.20</td>\n",
       "    </tr>\n",
       "  </tbody>\n",
       "</table>\n",
       "<p>3 rows × 263 columns</p>\n",
       "</div>"
      ],
      "text/plain": [
       "  main indicators of foreign trade  1997-01  1997-02  1997-03  1997-04  \\\n",
       "0                           Export     23.4     46.8    102.0    138.3   \n",
       "1                          Imports     15.9     35.8     70.7    103.7   \n",
       "2                          Balance      7.5     11.0     31.3     34.6   \n",
       "\n",
       "   1997-05  1997-06  1997-07  1997-08  1997-09    ...     2018-01  2018-02  \\\n",
       "0    180.3    232.2    265.7    309.2    366.5    ...      423.84    838.4   \n",
       "1    126.3    180.1    220.7    265.4    303.6    ...      361.13    726.0   \n",
       "2     54.1     52.1     45.0     43.8     62.8    ...       62.71    112.4   \n",
       "\n",
       "    2018-03   2018-04   2018-05   2018-06   2018-07   2018-08   2018-09  \\\n",
       "0  1,482.41  2,125.40  2,885.20  3,581.40  4,116.70  4,671.20  5,282.80   \n",
       "1  1,130.47  1,581.90  2,178.80  2,759.10  3,265.70  3,802.00  4,351.10   \n",
       "2    351.94    543.40    706.40    822.20    851.00    869.20    931.70   \n",
       "\n",
       "    2018-10  \n",
       "0  5,944.80  \n",
       "1  4,875.60  \n",
       "2  1,069.20  \n",
       "\n",
       "[3 rows x 263 columns]"
      ]
     },
     "execution_count": 37,
     "metadata": {},
     "output_type": "execute_result"
    }
   ],
   "source": [
    "trade.head()"
   ]
  },
  {
   "cell_type": "code",
   "execution_count": 38,
   "metadata": {},
   "outputs": [],
   "source": [
    "trade = trade.melt(id_vars='main indicators of foreign trade', var_name='Date')"
   ]
  },
  {
   "cell_type": "code",
   "execution_count": 39,
   "metadata": {},
   "outputs": [],
   "source": [
    "balance = trade[trade['main indicators of foreign trade'] == 'Balance']"
   ]
  },
  {
   "cell_type": "code",
   "execution_count": 40,
   "metadata": {},
   "outputs": [
    {
     "name": "stderr",
     "output_type": "stream",
     "text": [
      "/opt/conda/lib/python3.6/site-packages/ipykernel_launcher.py:1: SettingWithCopyWarning: \n",
      "A value is trying to be set on a copy of a slice from a DataFrame.\n",
      "Try using .loc[row_indexer,col_indexer] = value instead\n",
      "\n",
      "See the caveats in the documentation: http://pandas.pydata.org/pandas-docs/stable/indexing.html#indexing-view-versus-copy\n",
      "  \"\"\"Entry point for launching an IPython kernel.\n"
     ]
    }
   ],
   "source": [
    "balance['Date'] = pd.to_datetime(balance['Date'])\n",
    "balance.set_index('Date', inplace=True)\n",
    "balance = balance.resample('1M').last()\n",
    "balance.drop(labels='main indicators of foreign trade', axis=1, inplace=True)"
   ]
  },
  {
   "cell_type": "markdown",
   "metadata": {},
   "source": [
    "## Combine Dataframes\n",
    "\n",
    "Not that we have the data imported and formatted the way we need it, we can combine the dataframes to start our analysis. The dataframes we need to combine are:\n",
    "\n",
    "- mnt\n",
    "- cpi\n",
    "- m2\n",
    "- m1\n",
    "- quasi\n",
    "- circulation\n",
    "- domestic\n",
    "- foreign\n",
    "- current\n",
    "- capital\n",
    "- financial\n",
    "- errors\n",
    "- export\n",
    "- imports\n",
    "- balance\n",
    "- government_balance"
   ]
  },
  {
   "cell_type": "code",
   "execution_count": 41,
   "metadata": {},
   "outputs": [],
   "source": [
    "# Create df and merge MNT with CPI\n",
    "df = mnt.merge(cpi, how='left', left_index=True, right_index=True)\n",
    "df.rename(columns={'value': 'cpi'}, inplace=True)"
   ]
  },
  {
   "cell_type": "code",
   "execution_count": 42,
   "metadata": {},
   "outputs": [],
   "source": [
    "# Merge df with m2\n",
    "df = df.merge(m2, how='left', left_index=True, right_index=True)\n",
    "df.rename(columns={'value': 'm2'}, inplace=True)"
   ]
  },
  {
   "cell_type": "code",
   "execution_count": 43,
   "metadata": {},
   "outputs": [],
   "source": [
    "# Merge df with m1\n",
    "df = df.merge(m1, how='left', left_index=True, right_index=True)\n",
    "df.rename(columns={'value': 'm1'}, inplace=True)"
   ]
  },
  {
   "cell_type": "code",
   "execution_count": 44,
   "metadata": {},
   "outputs": [],
   "source": [
    "# Merge df with current\n",
    "df = df.merge(current, how='left', left_index=True, right_index=True)\n",
    "df.rename(columns={'Value': 'current'}, inplace=True)"
   ]
  },
  {
   "cell_type": "code",
   "execution_count": 45,
   "metadata": {},
   "outputs": [],
   "source": [
    "# Merge df with capital\n",
    "df = df.merge(capital, how='left', left_index=True, right_index=True)\n",
    "df.rename(columns={'Value': 'capital'}, inplace=True)"
   ]
  },
  {
   "cell_type": "code",
   "execution_count": 46,
   "metadata": {},
   "outputs": [],
   "source": [
    "# Merge df with fiancial\n",
    "df = df.merge(financial, how='left', left_index=True, right_index=True)\n",
    "df.rename(columns={'Value': 'financial'}, inplace=True)"
   ]
  },
  {
   "cell_type": "code",
   "execution_count": 47,
   "metadata": {},
   "outputs": [],
   "source": [
    "# Merge df with errors\n",
    "df = df.merge(errors, how='left', left_index=True, right_index=True)\n",
    "df.rename(columns={'Value': 'errors'}, inplace=True)"
   ]
  },
  {
   "cell_type": "code",
   "execution_count": 48,
   "metadata": {},
   "outputs": [],
   "source": [
    "# Merge df with balance\n",
    "df = df.merge(balance, how='left', left_index=True, right_index=True)\n",
    "df.rename(columns={'value': 'balance'}, inplace=True)"
   ]
  },
  {
   "cell_type": "code",
   "execution_count": 50,
   "metadata": {},
   "outputs": [
    {
     "data": {
      "text/html": [
       "<div>\n",
       "<style scoped>\n",
       "    .dataframe tbody tr th:only-of-type {\n",
       "        vertical-align: middle;\n",
       "    }\n",
       "\n",
       "    .dataframe tbody tr th {\n",
       "        vertical-align: top;\n",
       "    }\n",
       "\n",
       "    .dataframe thead th {\n",
       "        text-align: right;\n",
       "    }\n",
       "</style>\n",
       "<table border=\"1\" class=\"dataframe\">\n",
       "  <thead>\n",
       "    <tr style=\"text-align: right;\">\n",
       "      <th></th>\n",
       "      <th>USD</th>\n",
       "      <th>cpi</th>\n",
       "      <th>m2</th>\n",
       "      <th>m1</th>\n",
       "      <th>current</th>\n",
       "      <th>capital</th>\n",
       "      <th>financial</th>\n",
       "      <th>errors</th>\n",
       "      <th>balance</th>\n",
       "    </tr>\n",
       "    <tr>\n",
       "      <th>Date</th>\n",
       "      <th></th>\n",
       "      <th></th>\n",
       "      <th></th>\n",
       "      <th></th>\n",
       "      <th></th>\n",
       "      <th></th>\n",
       "      <th></th>\n",
       "      <th></th>\n",
       "      <th></th>\n",
       "    </tr>\n",
       "  </thead>\n",
       "  <tbody>\n",
       "    <tr>\n",
       "      <th>2008-01-31</th>\n",
       "      <td>1171.77</td>\n",
       "      <td>2.0</td>\n",
       "      <td>2,307</td>\n",
       "      <td>551.9</td>\n",
       "      <td>-63.3</td>\n",
       "      <td>18.6</td>\n",
       "      <td>242.7</td>\n",
       "      <td>-147.4</td>\n",
       "      <td>17.6</td>\n",
       "    </tr>\n",
       "    <tr>\n",
       "      <th>2008-02-29</th>\n",
       "      <td>1171.82</td>\n",
       "      <td>2.7</td>\n",
       "      <td>2,417.2</td>\n",
       "      <td>549.2</td>\n",
       "      <td>-63.3</td>\n",
       "      <td>18.6</td>\n",
       "      <td>242.7</td>\n",
       "      <td>-147.4</td>\n",
       "      <td>57.3</td>\n",
       "    </tr>\n",
       "    <tr>\n",
       "      <th>2008-03-31</th>\n",
       "      <td>1168.17</td>\n",
       "      <td>3.4</td>\n",
       "      <td>2,454.8</td>\n",
       "      <td>577.7</td>\n",
       "      <td>-63.3</td>\n",
       "      <td>18.6</td>\n",
       "      <td>242.7</td>\n",
       "      <td>-147.4</td>\n",
       "      <td>-19.5</td>\n",
       "    </tr>\n",
       "    <tr>\n",
       "      <th>2008-04-30</th>\n",
       "      <td>1164.94</td>\n",
       "      <td>5.7</td>\n",
       "      <td>2,466.3</td>\n",
       "      <td>583.7</td>\n",
       "      <td>-130.6</td>\n",
       "      <td>20.1</td>\n",
       "      <td>282.8</td>\n",
       "      <td>-161.4</td>\n",
       "      <td>-93.5</td>\n",
       "    </tr>\n",
       "    <tr>\n",
       "      <th>2008-05-31</th>\n",
       "      <td>1161.37</td>\n",
       "      <td>4.3</td>\n",
       "      <td>2,516.2</td>\n",
       "      <td>620.6</td>\n",
       "      <td>-130.6</td>\n",
       "      <td>20.1</td>\n",
       "      <td>282.8</td>\n",
       "      <td>-161.4</td>\n",
       "      <td>-153.40</td>\n",
       "    </tr>\n",
       "  </tbody>\n",
       "</table>\n",
       "</div>"
      ],
      "text/plain": [
       "                USD  cpi       m2     m1  current  capital  financial  errors  \\\n",
       "Date                                                                            \n",
       "2008-01-31  1171.77  2.0    2,307  551.9    -63.3     18.6      242.7  -147.4   \n",
       "2008-02-29  1171.82  2.7  2,417.2  549.2    -63.3     18.6      242.7  -147.4   \n",
       "2008-03-31  1168.17  3.4  2,454.8  577.7    -63.3     18.6      242.7  -147.4   \n",
       "2008-04-30  1164.94  5.7  2,466.3  583.7   -130.6     20.1      282.8  -161.4   \n",
       "2008-05-31  1161.37  4.3  2,516.2  620.6   -130.6     20.1      282.8  -161.4   \n",
       "\n",
       "            balance  \n",
       "Date                 \n",
       "2008-01-31     17.6  \n",
       "2008-02-29     57.3  \n",
       "2008-03-31    -19.5  \n",
       "2008-04-30    -93.5  \n",
       "2008-05-31  -153.40  "
      ]
     },
     "execution_count": 50,
     "metadata": {},
     "output_type": "execute_result"
    }
   ],
   "source": [
    "df.head()"
   ]
  },
  {
   "cell_type": "code",
   "execution_count": 51,
   "metadata": {},
   "outputs": [
    {
     "data": {
      "text/html": [
       "<div>\n",
       "<style scoped>\n",
       "    .dataframe tbody tr th:only-of-type {\n",
       "        vertical-align: middle;\n",
       "    }\n",
       "\n",
       "    .dataframe tbody tr th {\n",
       "        vertical-align: top;\n",
       "    }\n",
       "\n",
       "    .dataframe thead th {\n",
       "        text-align: right;\n",
       "    }\n",
       "</style>\n",
       "<table border=\"1\" class=\"dataframe\">\n",
       "  <thead>\n",
       "    <tr style=\"text-align: right;\">\n",
       "      <th></th>\n",
       "      <th>USD</th>\n",
       "      <th>cpi</th>\n",
       "      <th>m2</th>\n",
       "      <th>m1</th>\n",
       "      <th>current</th>\n",
       "      <th>capital</th>\n",
       "      <th>financial</th>\n",
       "      <th>errors</th>\n",
       "      <th>balance</th>\n",
       "    </tr>\n",
       "    <tr>\n",
       "      <th>Date</th>\n",
       "      <th></th>\n",
       "      <th></th>\n",
       "      <th></th>\n",
       "      <th></th>\n",
       "      <th></th>\n",
       "      <th></th>\n",
       "      <th></th>\n",
       "      <th></th>\n",
       "      <th></th>\n",
       "    </tr>\n",
       "  </thead>\n",
       "  <tbody>\n",
       "    <tr>\n",
       "      <th>2018-06-30</th>\n",
       "      <td>2462.82</td>\n",
       "      <td>0.5</td>\n",
       "      <td>17,342.9</td>\n",
       "      <td>3,352.9</td>\n",
       "      <td>-319.4</td>\n",
       "      <td>26.5</td>\n",
       "      <td>-376.6</td>\n",
       "      <td>-176.7</td>\n",
       "      <td>822.20</td>\n",
       "    </tr>\n",
       "    <tr>\n",
       "      <th>2018-07-31</th>\n",
       "      <td>2463.25</td>\n",
       "      <td>0.5</td>\n",
       "      <td>17,189.3</td>\n",
       "      <td>3,086</td>\n",
       "      <td>NaN</td>\n",
       "      <td>NaN</td>\n",
       "      <td>NaN</td>\n",
       "      <td>NaN</td>\n",
       "      <td>851.00</td>\n",
       "    </tr>\n",
       "    <tr>\n",
       "      <th>2018-08-31</th>\n",
       "      <td>2472.99</td>\n",
       "      <td>-0.8</td>\n",
       "      <td>17,440.8</td>\n",
       "      <td>3,222.8</td>\n",
       "      <td>NaN</td>\n",
       "      <td>NaN</td>\n",
       "      <td>NaN</td>\n",
       "      <td>NaN</td>\n",
       "      <td>869.20</td>\n",
       "    </tr>\n",
       "    <tr>\n",
       "      <th>2018-09-30</th>\n",
       "      <td>2552.13</td>\n",
       "      <td>-0.1</td>\n",
       "      <td>17,911.8</td>\n",
       "      <td>3,412.7</td>\n",
       "      <td>NaN</td>\n",
       "      <td>NaN</td>\n",
       "      <td>NaN</td>\n",
       "      <td>NaN</td>\n",
       "      <td>931.70</td>\n",
       "    </tr>\n",
       "    <tr>\n",
       "      <th>2018-10-31</th>\n",
       "      <td>2564.44</td>\n",
       "      <td>1.0</td>\n",
       "      <td>18,311.5</td>\n",
       "      <td>3,428.6</td>\n",
       "      <td>NaN</td>\n",
       "      <td>NaN</td>\n",
       "      <td>NaN</td>\n",
       "      <td>NaN</td>\n",
       "      <td>1,069.20</td>\n",
       "    </tr>\n",
       "  </tbody>\n",
       "</table>\n",
       "</div>"
      ],
      "text/plain": [
       "                USD  cpi        m2       m1  current  capital  financial  \\\n",
       "Date                                                                       \n",
       "2018-06-30  2462.82  0.5  17,342.9  3,352.9   -319.4     26.5     -376.6   \n",
       "2018-07-31  2463.25  0.5  17,189.3    3,086      NaN      NaN        NaN   \n",
       "2018-08-31  2472.99 -0.8  17,440.8  3,222.8      NaN      NaN        NaN   \n",
       "2018-09-30  2552.13 -0.1  17,911.8  3,412.7      NaN      NaN        NaN   \n",
       "2018-10-31  2564.44  1.0  18,311.5  3,428.6      NaN      NaN        NaN   \n",
       "\n",
       "            errors   balance  \n",
       "Date                          \n",
       "2018-06-30  -176.7    822.20  \n",
       "2018-07-31     NaN    851.00  \n",
       "2018-08-31     NaN    869.20  \n",
       "2018-09-30     NaN    931.70  \n",
       "2018-10-31     NaN  1,069.20  "
      ]
     },
     "execution_count": 51,
     "metadata": {},
     "output_type": "execute_result"
    }
   ],
   "source": [
    "df.tail()"
   ]
  },
  {
   "cell_type": "code",
   "execution_count": 52,
   "metadata": {},
   "outputs": [],
   "source": [
    "df.to_csv('Data/Modified Data/data.csv')"
   ]
  },
  {
   "cell_type": "code",
   "execution_count": null,
   "metadata": {},
   "outputs": [],
   "source": []
  }
 ],
 "metadata": {
  "kernelspec": {
   "display_name": "Python 3",
   "language": "python",
   "name": "python3"
  },
  "language_info": {
   "codemirror_mode": {
    "name": "ipython",
    "version": 3
   },
   "file_extension": ".py",
   "mimetype": "text/x-python",
   "name": "python",
   "nbconvert_exporter": "python",
   "pygments_lexer": "ipython3",
   "version": "3.6.6"
  },
  "toc-showmarkdowntxt": false,
  "toc-showtags": false
 },
 "nbformat": 4,
 "nbformat_minor": 2
}
