{
 "cells": [
  {
   "cell_type": "markdown",
   "metadata": {},
   "source": [
    "# Forecasting USD-MNT Exchange Rate Using Machine Learning"
   ]
  },
  {
   "cell_type": "markdown",
   "metadata": {},
   "source": [
    "In this analysis I hope to show that it is possible and practical to forecast USD-MNT exchange rates using machine learning. Traditional methods for forecasting exchange rates rely on complicated formulas or time series forecasting. With the advent of machine learning I hope to show that a reliable forecast can be made using new machine learning techniques. \n",
    "\n",
    "Macroeconomics literature states that there are many factors that contribute to determine the exchange rate of a currency pair. As many of these factors are included as possible given available statistical data. \n",
    "\n",
    "External factors to test:\n",
    "- M1 and M2 money supplies\n",
    "- Foreign currency on deposit\n",
    "- Inflation rates\n",
    "- Interest rates (policy rate)\n",
    "- Balance of Payments"
   ]
  },
  {
   "cell_type": "code",
   "execution_count": 1,
   "metadata": {},
   "outputs": [],
   "source": [
    "import pandas as pd\n",
    "import matplotlib.pyplot as plt\n",
    "%matplotlib inline\n",
    "plt.style.use('C:\\\\Users\\\\rober\\\\.matplotlib\\\\mpl_configdir\\\\stylelib\\\\mds.mplstyle')"
   ]
  },
  {
   "cell_type": "markdown",
   "metadata": {},
   "source": [
    "## Importing and Formatting Datasets"
   ]
  },
  {
   "cell_type": "markdown",
   "metadata": {},
   "source": [
    "First we will import our various datasets. As they come in various time frequencies, we will resample each dataset to be monthly. We will handle each dataset as follows:\n",
    "\n",
    "- For our exchange rate, we will take the ending price. \n",
    "- For monthly datasets no resampling is needed. \n",
    "- For quarterly datasets we use the quarterly value for each month in that period."
   ]
  },
  {
   "cell_type": "code",
   "execution_count": 2,
   "metadata": {},
   "outputs": [],
   "source": [
    "# Convenience function that 1) converts date field to datetime, 2) sets date field as index, 3) resamples to monthly\n",
    "def convert_dataframe(df):\n",
    "    '''Fields: df = dataframe, labelname = name of field label\n",
    "    Requires that the date field be called \"Date\"'''\n",
    "    df['Date'] = pd.to_datetime(df['Date'])\n",
    "    df.set_index('Date', inplace=True)\n",
    "    df = df.resample('1M').last()"
   ]
  },
  {
   "cell_type": "markdown",
   "metadata": {},
   "source": [
    "### Exchange Rate"
   ]
  },
  {
   "cell_type": "code",
   "execution_count": 3,
   "metadata": {},
   "outputs": [
    {
     "data": {
      "text/plain": [
       "['USD-MNT ARIMA Model - Abandoned.ipynb',\n",
       " 'USD-MNT Machine Learning Model - Data Import and Formatting.ipynb',\n",
       " '.ipynb_checkpoints',\n",
       " 'Data',\n",
       " 'Output']"
      ]
     },
     "execution_count": 3,
     "metadata": {},
     "output_type": "execute_result"
    }
   ],
   "source": [
    "import os\n",
    "os.listdir()"
   ]
  },
  {
   "cell_type": "code",
   "execution_count": 4,
   "metadata": {},
   "outputs": [],
   "source": [
    "mnt = pd.read_csv('Data/USD-MNT.csv')"
   ]
  },
  {
   "cell_type": "code",
   "execution_count": 52,
   "metadata": {},
   "outputs": [
    {
     "data": {
      "text/html": [
       "<div>\n",
       "<style scoped>\n",
       "    .dataframe tbody tr th:only-of-type {\n",
       "        vertical-align: middle;\n",
       "    }\n",
       "\n",
       "    .dataframe tbody tr th {\n",
       "        vertical-align: top;\n",
       "    }\n",
       "\n",
       "    .dataframe thead th {\n",
       "        text-align: right;\n",
       "    }\n",
       "</style>\n",
       "<table border=\"1\" class=\"dataframe\">\n",
       "  <thead>\n",
       "    <tr style=\"text-align: right;\">\n",
       "      <th></th>\n",
       "      <th>USD</th>\n",
       "    </tr>\n",
       "    <tr>\n",
       "      <th>Date</th>\n",
       "      <th></th>\n",
       "    </tr>\n",
       "  </thead>\n",
       "  <tbody>\n",
       "    <tr>\n",
       "      <th>2008-01-31</th>\n",
       "      <td>1171.77</td>\n",
       "    </tr>\n",
       "    <tr>\n",
       "      <th>2008-02-29</th>\n",
       "      <td>1171.82</td>\n",
       "    </tr>\n",
       "    <tr>\n",
       "      <th>2008-03-31</th>\n",
       "      <td>1168.17</td>\n",
       "    </tr>\n",
       "    <tr>\n",
       "      <th>2008-04-30</th>\n",
       "      <td>1164.94</td>\n",
       "    </tr>\n",
       "    <tr>\n",
       "      <th>2008-05-31</th>\n",
       "      <td>1161.37</td>\n",
       "    </tr>\n",
       "  </tbody>\n",
       "</table>\n",
       "</div>"
      ],
      "text/plain": [
       "                USD\n",
       "Date               \n",
       "2008-01-31  1171.77\n",
       "2008-02-29  1171.82\n",
       "2008-03-31  1168.17\n",
       "2008-04-30  1164.94\n",
       "2008-05-31  1161.37"
      ]
     },
     "execution_count": 52,
     "metadata": {},
     "output_type": "execute_result"
    }
   ],
   "source": [
    "mnt.head()"
   ]
  },
  {
   "cell_type": "code",
   "execution_count": 51,
   "metadata": {},
   "outputs": [
    {
     "data": {
      "text/html": [
       "<div>\n",
       "<style scoped>\n",
       "    .dataframe tbody tr th:only-of-type {\n",
       "        vertical-align: middle;\n",
       "    }\n",
       "\n",
       "    .dataframe tbody tr th {\n",
       "        vertical-align: top;\n",
       "    }\n",
       "\n",
       "    .dataframe thead th {\n",
       "        text-align: right;\n",
       "    }\n",
       "</style>\n",
       "<table border=\"1\" class=\"dataframe\">\n",
       "  <thead>\n",
       "    <tr style=\"text-align: right;\">\n",
       "      <th></th>\n",
       "      <th>USD</th>\n",
       "    </tr>\n",
       "    <tr>\n",
       "      <th>Date</th>\n",
       "      <th></th>\n",
       "    </tr>\n",
       "  </thead>\n",
       "  <tbody>\n",
       "    <tr>\n",
       "      <th>2018-07-31</th>\n",
       "      <td>2463.25</td>\n",
       "    </tr>\n",
       "    <tr>\n",
       "      <th>2018-08-31</th>\n",
       "      <td>2472.99</td>\n",
       "    </tr>\n",
       "    <tr>\n",
       "      <th>2018-09-30</th>\n",
       "      <td>2552.13</td>\n",
       "    </tr>\n",
       "    <tr>\n",
       "      <th>2018-10-31</th>\n",
       "      <td>2564.44</td>\n",
       "    </tr>\n",
       "    <tr>\n",
       "      <th>2018-11-30</th>\n",
       "      <td>2565.73</td>\n",
       "    </tr>\n",
       "  </tbody>\n",
       "</table>\n",
       "</div>"
      ],
      "text/plain": [
       "                USD\n",
       "Date               \n",
       "2018-07-31  2463.25\n",
       "2018-08-31  2472.99\n",
       "2018-09-30  2552.13\n",
       "2018-10-31  2564.44\n",
       "2018-11-30  2565.73"
      ]
     },
     "execution_count": 51,
     "metadata": {},
     "output_type": "execute_result"
    }
   ],
   "source": [
    "mnt.tail()"
   ]
  },
  {
   "cell_type": "code",
   "execution_count": 6,
   "metadata": {},
   "outputs": [
    {
     "data": {
      "text/plain": [
       "Date     object\n",
       "USD     float64\n",
       "dtype: object"
      ]
     },
     "execution_count": 6,
     "metadata": {},
     "output_type": "execute_result"
    }
   ],
   "source": [
    "mnt.dtypes"
   ]
  },
  {
   "cell_type": "code",
   "execution_count": 7,
   "metadata": {},
   "outputs": [],
   "source": [
    "mnt['Date'] = pd.to_datetime(mnt['Date'])"
   ]
  },
  {
   "cell_type": "code",
   "execution_count": 8,
   "metadata": {},
   "outputs": [],
   "source": [
    "mnt.set_index('Date', inplace=True)"
   ]
  },
  {
   "cell_type": "code",
   "execution_count": 9,
   "metadata": {},
   "outputs": [],
   "source": [
    "mnt = mnt.resample('1M').last()"
   ]
  },
  {
   "cell_type": "code",
   "execution_count": 54,
   "metadata": {},
   "outputs": [
    {
     "data": {
      "text/plain": [
       "DatetimeIndex(['2008-01-31', '2008-02-29', '2008-03-31', '2008-04-30',\n",
       "               '2008-05-31', '2008-06-30', '2008-07-31', '2008-08-31',\n",
       "               '2008-09-30', '2008-10-31',\n",
       "               ...\n",
       "               '2018-02-28', '2018-03-31', '2018-04-30', '2018-05-31',\n",
       "               '2018-06-30', '2018-07-31', '2018-08-31', '2018-09-30',\n",
       "               '2018-10-31', '2018-11-30'],\n",
       "              dtype='datetime64[ns]', name='Date', length=131, freq='M')"
      ]
     },
     "execution_count": 54,
     "metadata": {},
     "output_type": "execute_result"
    }
   ],
   "source": [
    "mnt.index"
   ]
  },
  {
   "cell_type": "code",
   "execution_count": 58,
   "metadata": {},
   "outputs": [],
   "source": [
    "mnt = mnt[mnt.index <= '2018-11']"
   ]
  },
  {
   "cell_type": "markdown",
   "metadata": {},
   "source": [
    "### CPI Percent Change"
   ]
  },
  {
   "cell_type": "code",
   "execution_count": 65,
   "metadata": {},
   "outputs": [],
   "source": [
    "cpi = pd.read_csv('Data/DT_NSO_0600_009V1_-_2018-11-19 - CPI Change.csv')"
   ]
  },
  {
   "cell_type": "code",
   "execution_count": 66,
   "metadata": {},
   "outputs": [
    {
     "data": {
      "text/html": [
       "<div>\n",
       "<style scoped>\n",
       "    .dataframe tbody tr th:only-of-type {\n",
       "        vertical-align: middle;\n",
       "    }\n",
       "\n",
       "    .dataframe tbody tr th {\n",
       "        vertical-align: top;\n",
       "    }\n",
       "\n",
       "    .dataframe thead th {\n",
       "        text-align: right;\n",
       "    }\n",
       "</style>\n",
       "<table border=\"1\" class=\"dataframe\">\n",
       "  <thead>\n",
       "    <tr style=\"text-align: right;\">\n",
       "      <th></th>\n",
       "      <th>INDICATOR</th>\n",
       "      <th>1991-10</th>\n",
       "      <th>1991-11</th>\n",
       "      <th>1991-12</th>\n",
       "      <th>1992-01</th>\n",
       "      <th>1992-02</th>\n",
       "      <th>1992-03</th>\n",
       "      <th>1992-04</th>\n",
       "      <th>1992-05</th>\n",
       "      <th>1992-06</th>\n",
       "      <th>...</th>\n",
       "      <th>2018-01</th>\n",
       "      <th>2018-02</th>\n",
       "      <th>2018-03</th>\n",
       "      <th>2018-04</th>\n",
       "      <th>2018-05</th>\n",
       "      <th>2018-06</th>\n",
       "      <th>2018-07</th>\n",
       "      <th>2018-08</th>\n",
       "      <th>2018-09</th>\n",
       "      <th>2018-10</th>\n",
       "    </tr>\n",
       "  </thead>\n",
       "  <tbody>\n",
       "    <tr>\n",
       "      <th>0</th>\n",
       "      <td>Overall index</td>\n",
       "      <td>3.2</td>\n",
       "      <td>5.1</td>\n",
       "      <td>4.4</td>\n",
       "      <td>3.6</td>\n",
       "      <td>9.8</td>\n",
       "      <td>32.9</td>\n",
       "      <td>13.7</td>\n",
       "      <td>4.5</td>\n",
       "      <td>24.0</td>\n",
       "      <td>...</td>\n",
       "      <td>1.4</td>\n",
       "      <td>0.8</td>\n",
       "      <td>0.9</td>\n",
       "      <td>0.6</td>\n",
       "      <td>0.6</td>\n",
       "      <td>0.5</td>\n",
       "      <td>0.5</td>\n",
       "      <td>-0.8</td>\n",
       "      <td>-0.1</td>\n",
       "      <td>1.0</td>\n",
       "    </tr>\n",
       "  </tbody>\n",
       "</table>\n",
       "<p>1 rows × 326 columns</p>\n",
       "</div>"
      ],
      "text/plain": [
       "       INDICATOR  1991-10  1991-11  1991-12  1992-01  1992-02  1992-03  \\\n",
       "0  Overall index      3.2      5.1      4.4      3.6      9.8     32.9   \n",
       "\n",
       "   1992-04  1992-05  1992-06   ...     2018-01  2018-02  2018-03  2018-04  \\\n",
       "0     13.7      4.5     24.0   ...         1.4      0.8      0.9      0.6   \n",
       "\n",
       "   2018-05  2018-06  2018-07  2018-08  2018-09  2018-10  \n",
       "0      0.6      0.5      0.5     -0.8     -0.1      1.0  \n",
       "\n",
       "[1 rows x 326 columns]"
      ]
     },
     "execution_count": 66,
     "metadata": {},
     "output_type": "execute_result"
    }
   ],
   "source": [
    "cpi.head()"
   ]
  },
  {
   "cell_type": "code",
   "execution_count": 67,
   "metadata": {},
   "outputs": [],
   "source": [
    "cpi = cpi.melt(id_vars='INDICATOR', var_name='Date')"
   ]
  },
  {
   "cell_type": "code",
   "execution_count": 68,
   "metadata": {},
   "outputs": [
    {
     "data": {
      "text/html": [
       "<div>\n",
       "<style scoped>\n",
       "    .dataframe tbody tr th:only-of-type {\n",
       "        vertical-align: middle;\n",
       "    }\n",
       "\n",
       "    .dataframe tbody tr th {\n",
       "        vertical-align: top;\n",
       "    }\n",
       "\n",
       "    .dataframe thead th {\n",
       "        text-align: right;\n",
       "    }\n",
       "</style>\n",
       "<table border=\"1\" class=\"dataframe\">\n",
       "  <thead>\n",
       "    <tr style=\"text-align: right;\">\n",
       "      <th></th>\n",
       "      <th>INDICATOR</th>\n",
       "      <th>Date</th>\n",
       "      <th>value</th>\n",
       "    </tr>\n",
       "  </thead>\n",
       "  <tbody>\n",
       "    <tr>\n",
       "      <th>0</th>\n",
       "      <td>Overall index</td>\n",
       "      <td>1991-10</td>\n",
       "      <td>3.2</td>\n",
       "    </tr>\n",
       "    <tr>\n",
       "      <th>1</th>\n",
       "      <td>Overall index</td>\n",
       "      <td>1991-11</td>\n",
       "      <td>5.1</td>\n",
       "    </tr>\n",
       "    <tr>\n",
       "      <th>2</th>\n",
       "      <td>Overall index</td>\n",
       "      <td>1991-12</td>\n",
       "      <td>4.4</td>\n",
       "    </tr>\n",
       "    <tr>\n",
       "      <th>3</th>\n",
       "      <td>Overall index</td>\n",
       "      <td>1992-01</td>\n",
       "      <td>3.6</td>\n",
       "    </tr>\n",
       "    <tr>\n",
       "      <th>4</th>\n",
       "      <td>Overall index</td>\n",
       "      <td>1992-02</td>\n",
       "      <td>9.8</td>\n",
       "    </tr>\n",
       "  </tbody>\n",
       "</table>\n",
       "</div>"
      ],
      "text/plain": [
       "       INDICATOR     Date  value\n",
       "0  Overall index  1991-10    3.2\n",
       "1  Overall index  1991-11    5.1\n",
       "2  Overall index  1991-12    4.4\n",
       "3  Overall index  1992-01    3.6\n",
       "4  Overall index  1992-02    9.8"
      ]
     },
     "execution_count": 68,
     "metadata": {},
     "output_type": "execute_result"
    }
   ],
   "source": [
    "cpi.head()"
   ]
  },
  {
   "cell_type": "code",
   "execution_count": 69,
   "metadata": {},
   "outputs": [],
   "source": [
    "cpi['Date'] = pd.to_datetime(cpi['Date'])\n",
    "cpi.set_index('Date', inplace=True)\n",
    "cpi = cpi.drop(labels='INDICATOR', axis=1)\n",
    "cpi = cpi.resample('1M').last()"
   ]
  },
  {
   "cell_type": "code",
   "execution_count": 72,
   "metadata": {},
   "outputs": [
    {
     "data": {
      "text/html": [
       "<div>\n",
       "<style scoped>\n",
       "    .dataframe tbody tr th:only-of-type {\n",
       "        vertical-align: middle;\n",
       "    }\n",
       "\n",
       "    .dataframe tbody tr th {\n",
       "        vertical-align: top;\n",
       "    }\n",
       "\n",
       "    .dataframe thead th {\n",
       "        text-align: right;\n",
       "    }\n",
       "</style>\n",
       "<table border=\"1\" class=\"dataframe\">\n",
       "  <thead>\n",
       "    <tr style=\"text-align: right;\">\n",
       "      <th></th>\n",
       "      <th>value</th>\n",
       "    </tr>\n",
       "    <tr>\n",
       "      <th>Date</th>\n",
       "      <th></th>\n",
       "    </tr>\n",
       "  </thead>\n",
       "  <tbody>\n",
       "    <tr>\n",
       "      <th>1991-10-31</th>\n",
       "      <td>3.2</td>\n",
       "    </tr>\n",
       "    <tr>\n",
       "      <th>1991-11-30</th>\n",
       "      <td>5.1</td>\n",
       "    </tr>\n",
       "    <tr>\n",
       "      <th>1991-12-31</th>\n",
       "      <td>4.4</td>\n",
       "    </tr>\n",
       "    <tr>\n",
       "      <th>1992-01-31</th>\n",
       "      <td>3.6</td>\n",
       "    </tr>\n",
       "    <tr>\n",
       "      <th>1992-02-29</th>\n",
       "      <td>9.8</td>\n",
       "    </tr>\n",
       "  </tbody>\n",
       "</table>\n",
       "</div>"
      ],
      "text/plain": [
       "            value\n",
       "Date             \n",
       "1991-10-31    3.2\n",
       "1991-11-30    5.1\n",
       "1991-12-31    4.4\n",
       "1992-01-31    3.6\n",
       "1992-02-29    9.8"
      ]
     },
     "execution_count": 72,
     "metadata": {},
     "output_type": "execute_result"
    }
   ],
   "source": [
    "cpi.head()"
   ]
  },
  {
   "cell_type": "code",
   "execution_count": 73,
   "metadata": {},
   "outputs": [
    {
     "data": {
      "text/html": [
       "<div>\n",
       "<style scoped>\n",
       "    .dataframe tbody tr th:only-of-type {\n",
       "        vertical-align: middle;\n",
       "    }\n",
       "\n",
       "    .dataframe tbody tr th {\n",
       "        vertical-align: top;\n",
       "    }\n",
       "\n",
       "    .dataframe thead th {\n",
       "        text-align: right;\n",
       "    }\n",
       "</style>\n",
       "<table border=\"1\" class=\"dataframe\">\n",
       "  <thead>\n",
       "    <tr style=\"text-align: right;\">\n",
       "      <th></th>\n",
       "      <th>value</th>\n",
       "    </tr>\n",
       "    <tr>\n",
       "      <th>Date</th>\n",
       "      <th></th>\n",
       "    </tr>\n",
       "  </thead>\n",
       "  <tbody>\n",
       "    <tr>\n",
       "      <th>2018-06-30</th>\n",
       "      <td>0.5</td>\n",
       "    </tr>\n",
       "    <tr>\n",
       "      <th>2018-07-31</th>\n",
       "      <td>0.5</td>\n",
       "    </tr>\n",
       "    <tr>\n",
       "      <th>2018-08-31</th>\n",
       "      <td>-0.8</td>\n",
       "    </tr>\n",
       "    <tr>\n",
       "      <th>2018-09-30</th>\n",
       "      <td>-0.1</td>\n",
       "    </tr>\n",
       "    <tr>\n",
       "      <th>2018-10-31</th>\n",
       "      <td>1.0</td>\n",
       "    </tr>\n",
       "  </tbody>\n",
       "</table>\n",
       "</div>"
      ],
      "text/plain": [
       "            value\n",
       "Date             \n",
       "2018-06-30    0.5\n",
       "2018-07-31    0.5\n",
       "2018-08-31   -0.8\n",
       "2018-09-30   -0.1\n",
       "2018-10-31    1.0"
      ]
     },
     "execution_count": 73,
     "metadata": {},
     "output_type": "execute_result"
    }
   ],
   "source": [
    "cpi.tail()"
   ]
  },
  {
   "cell_type": "markdown",
   "metadata": {},
   "source": [
    "### Money Supply"
   ]
  },
  {
   "cell_type": "code",
   "execution_count": 86,
   "metadata": {},
   "outputs": [],
   "source": [
    "money = pd.read_csv('Data/DT_NSO_0700_001V2_-_2018-11-19 - Money Supply.csv')"
   ]
  },
  {
   "cell_type": "code",
   "execution_count": 87,
   "metadata": {},
   "outputs": [
    {
     "data": {
      "text/html": [
       "<div>\n",
       "<style scoped>\n",
       "    .dataframe tbody tr th:only-of-type {\n",
       "        vertical-align: middle;\n",
       "    }\n",
       "\n",
       "    .dataframe tbody tr th {\n",
       "        vertical-align: top;\n",
       "    }\n",
       "\n",
       "    .dataframe thead th {\n",
       "        text-align: right;\n",
       "    }\n",
       "</style>\n",
       "<table border=\"1\" class=\"dataframe\">\n",
       "  <thead>\n",
       "    <tr style=\"text-align: right;\">\n",
       "      <th></th>\n",
       "      <th>Indicators</th>\n",
       "      <th>1997-01</th>\n",
       "      <th>1997-02</th>\n",
       "      <th>1997-03</th>\n",
       "      <th>1997-04</th>\n",
       "      <th>1997-05</th>\n",
       "      <th>1997-06</th>\n",
       "      <th>1997-07</th>\n",
       "      <th>1997-08</th>\n",
       "      <th>1997-09</th>\n",
       "      <th>...</th>\n",
       "      <th>2018-01</th>\n",
       "      <th>2018-02</th>\n",
       "      <th>2018-03</th>\n",
       "      <th>2018-04</th>\n",
       "      <th>2018-05</th>\n",
       "      <th>2018-06</th>\n",
       "      <th>2018-07</th>\n",
       "      <th>2018-08</th>\n",
       "      <th>2018-09</th>\n",
       "      <th>2018-10</th>\n",
       "    </tr>\n",
       "  </thead>\n",
       "  <tbody>\n",
       "    <tr>\n",
       "      <th>0</th>\n",
       "      <td>Money M2</td>\n",
       "      <td>116.6</td>\n",
       "      <td>115.0</td>\n",
       "      <td>114.5</td>\n",
       "      <td>123.4</td>\n",
       "      <td>133.1</td>\n",
       "      <td>137.9</td>\n",
       "      <td>152.8</td>\n",
       "      <td>150.6</td>\n",
       "      <td>151.6</td>\n",
       "      <td>...</td>\n",
       "      <td>15,763</td>\n",
       "      <td>15,912.4</td>\n",
       "      <td>16,073.9</td>\n",
       "      <td>16,240.1</td>\n",
       "      <td>17,045.3</td>\n",
       "      <td>17,342.9</td>\n",
       "      <td>17,189.3</td>\n",
       "      <td>17,440.8</td>\n",
       "      <td>17,911.8</td>\n",
       "      <td>18,311.5</td>\n",
       "    </tr>\n",
       "    <tr>\n",
       "      <th>1</th>\n",
       "      <td>Money M1</td>\n",
       "      <td>57.1</td>\n",
       "      <td>56.9</td>\n",
       "      <td>52.7</td>\n",
       "      <td>59.3</td>\n",
       "      <td>64.5</td>\n",
       "      <td>67.6</td>\n",
       "      <td>75.4</td>\n",
       "      <td>74.1</td>\n",
       "      <td>75.7</td>\n",
       "      <td>...</td>\n",
       "      <td>2,632.7</td>\n",
       "      <td>2,733.6</td>\n",
       "      <td>2,776.7</td>\n",
       "      <td>2,871</td>\n",
       "      <td>3,201.5</td>\n",
       "      <td>3,352.9</td>\n",
       "      <td>3,086</td>\n",
       "      <td>3,222.8</td>\n",
       "      <td>3,412.7</td>\n",
       "      <td>3,428.6</td>\n",
       "    </tr>\n",
       "    <tr>\n",
       "      <th>2</th>\n",
       "      <td>Quasi money</td>\n",
       "      <td>59.5</td>\n",
       "      <td>58.1</td>\n",
       "      <td>61.8</td>\n",
       "      <td>64.1</td>\n",
       "      <td>68.6</td>\n",
       "      <td>70.2</td>\n",
       "      <td>77.5</td>\n",
       "      <td>76.5</td>\n",
       "      <td>75.9</td>\n",
       "      <td>...</td>\n",
       "      <td>13,130.3</td>\n",
       "      <td>13,178.9</td>\n",
       "      <td>13,297.3</td>\n",
       "      <td>13,369.2</td>\n",
       "      <td>13,843.8</td>\n",
       "      <td>13,990</td>\n",
       "      <td>14,103.3</td>\n",
       "      <td>14,217.9</td>\n",
       "      <td>14,499.1</td>\n",
       "      <td>14,882.9</td>\n",
       "    </tr>\n",
       "    <tr>\n",
       "      <th>3</th>\n",
       "      <td>Currency issued in  circulation</td>\n",
       "      <td>44.7</td>\n",
       "      <td>43.8</td>\n",
       "      <td>41.1</td>\n",
       "      <td>45.1</td>\n",
       "      <td>48.8</td>\n",
       "      <td>52.8</td>\n",
       "      <td>57.3</td>\n",
       "      <td>58.0</td>\n",
       "      <td>58.2</td>\n",
       "      <td>...</td>\n",
       "      <td>801.9</td>\n",
       "      <td>850.4</td>\n",
       "      <td>840.4</td>\n",
       "      <td>937.6</td>\n",
       "      <td>935.9</td>\n",
       "      <td>931.1</td>\n",
       "      <td>917.1</td>\n",
       "      <td>927.5</td>\n",
       "      <td>929.1</td>\n",
       "      <td>887.8</td>\n",
       "    </tr>\n",
       "  </tbody>\n",
       "</table>\n",
       "<p>4 rows × 263 columns</p>\n",
       "</div>"
      ],
      "text/plain": [
       "                        Indicators  1997-01  1997-02  1997-03  1997-04  \\\n",
       "0                         Money M2    116.6    115.0    114.5    123.4   \n",
       "1                         Money M1     57.1     56.9     52.7     59.3   \n",
       "2                      Quasi money     59.5     58.1     61.8     64.1   \n",
       "3  Currency issued in  circulation     44.7     43.8     41.1     45.1   \n",
       "\n",
       "   1997-05  1997-06  1997-07  1997-08  1997-09    ...      2018-01   2018-02  \\\n",
       "0    133.1    137.9    152.8    150.6    151.6    ...       15,763  15,912.4   \n",
       "1     64.5     67.6     75.4     74.1     75.7    ...      2,632.7   2,733.6   \n",
       "2     68.6     70.2     77.5     76.5     75.9    ...     13,130.3  13,178.9   \n",
       "3     48.8     52.8     57.3     58.0     58.2    ...        801.9     850.4   \n",
       "\n",
       "    2018-03   2018-04   2018-05   2018-06   2018-07   2018-08   2018-09  \\\n",
       "0  16,073.9  16,240.1  17,045.3  17,342.9  17,189.3  17,440.8  17,911.8   \n",
       "1   2,776.7     2,871   3,201.5   3,352.9     3,086   3,222.8   3,412.7   \n",
       "2  13,297.3  13,369.2  13,843.8    13,990  14,103.3  14,217.9  14,499.1   \n",
       "3     840.4     937.6     935.9     931.1     917.1     927.5     929.1   \n",
       "\n",
       "    2018-10  \n",
       "0  18,311.5  \n",
       "1   3,428.6  \n",
       "2  14,882.9  \n",
       "3     887.8  \n",
       "\n",
       "[4 rows x 263 columns]"
      ]
     },
     "execution_count": 87,
     "metadata": {},
     "output_type": "execute_result"
    }
   ],
   "source": [
    "money.head()"
   ]
  },
  {
   "cell_type": "code",
   "execution_count": 88,
   "metadata": {},
   "outputs": [],
   "source": [
    "money = money.melt(id_vars='Indicators', var_name='Date')"
   ]
  },
  {
   "cell_type": "code",
   "execution_count": 89,
   "metadata": {},
   "outputs": [
    {
     "data": {
      "text/plain": [
       "array(['Money M2', 'Money M1', 'Quasi money',\n",
       "       'Currency issued in  circulation'], dtype=object)"
      ]
     },
     "execution_count": 89,
     "metadata": {},
     "output_type": "execute_result"
    }
   ],
   "source": [
    "money.Indicators.unique()"
   ]
  },
  {
   "cell_type": "code",
   "execution_count": 90,
   "metadata": {},
   "outputs": [
    {
     "data": {
      "text/html": [
       "<div>\n",
       "<style scoped>\n",
       "    .dataframe tbody tr th:only-of-type {\n",
       "        vertical-align: middle;\n",
       "    }\n",
       "\n",
       "    .dataframe tbody tr th {\n",
       "        vertical-align: top;\n",
       "    }\n",
       "\n",
       "    .dataframe thead th {\n",
       "        text-align: right;\n",
       "    }\n",
       "</style>\n",
       "<table border=\"1\" class=\"dataframe\">\n",
       "  <thead>\n",
       "    <tr style=\"text-align: right;\">\n",
       "      <th></th>\n",
       "      <th>Indicators</th>\n",
       "      <th>Date</th>\n",
       "      <th>value</th>\n",
       "    </tr>\n",
       "  </thead>\n",
       "  <tbody>\n",
       "    <tr>\n",
       "      <th>0</th>\n",
       "      <td>Money M2</td>\n",
       "      <td>1997-01</td>\n",
       "      <td>116.6</td>\n",
       "    </tr>\n",
       "    <tr>\n",
       "      <th>1</th>\n",
       "      <td>Money M1</td>\n",
       "      <td>1997-01</td>\n",
       "      <td>57.1</td>\n",
       "    </tr>\n",
       "    <tr>\n",
       "      <th>2</th>\n",
       "      <td>Quasi money</td>\n",
       "      <td>1997-01</td>\n",
       "      <td>59.5</td>\n",
       "    </tr>\n",
       "    <tr>\n",
       "      <th>3</th>\n",
       "      <td>Currency issued in  circulation</td>\n",
       "      <td>1997-01</td>\n",
       "      <td>44.7</td>\n",
       "    </tr>\n",
       "    <tr>\n",
       "      <th>4</th>\n",
       "      <td>Money M2</td>\n",
       "      <td>1997-02</td>\n",
       "      <td>115</td>\n",
       "    </tr>\n",
       "  </tbody>\n",
       "</table>\n",
       "</div>"
      ],
      "text/plain": [
       "                        Indicators     Date  value\n",
       "0                         Money M2  1997-01  116.6\n",
       "1                         Money M1  1997-01   57.1\n",
       "2                      Quasi money  1997-01   59.5\n",
       "3  Currency issued in  circulation  1997-01   44.7\n",
       "4                         Money M2  1997-02    115"
      ]
     },
     "execution_count": 90,
     "metadata": {},
     "output_type": "execute_result"
    }
   ],
   "source": [
    "money.head()"
   ]
  },
  {
   "cell_type": "code",
   "execution_count": 91,
   "metadata": {},
   "outputs": [],
   "source": [
    "m2 = money[money['Indicators'] == 'Money M2']\n",
    "m1 = money[money['Indicators'] == 'Money M1']\n",
    "quasi = money[money['Indicators'] == 'Quasi money']\n",
    "circulation = money[money['Indicators'] == 'Currency issued in  circulation']"
   ]
  },
  {
   "cell_type": "code",
   "execution_count": 92,
   "metadata": {},
   "outputs": [
    {
     "name": "stderr",
     "output_type": "stream",
     "text": [
      "C:\\ProgramData\\Anaconda3\\lib\\site-packages\\ipykernel_launcher.py:1: SettingWithCopyWarning: \n",
      "A value is trying to be set on a copy of a slice from a DataFrame.\n",
      "Try using .loc[row_indexer,col_indexer] = value instead\n",
      "\n",
      "See the caveats in the documentation: http://pandas.pydata.org/pandas-docs/stable/indexing.html#indexing-view-versus-copy\n",
      "  \"\"\"Entry point for launching an IPython kernel.\n"
     ]
    }
   ],
   "source": [
    "m2['Date'] = pd.to_datetime(m2['Date'])\n",
    "m2.set_index('Date', inplace=True)\n",
    "m2 = m2.resample('1M').last()\n",
    "m2.drop(labels='Indicators', axis=1, inplace=True)"
   ]
  },
  {
   "cell_type": "code",
   "execution_count": 93,
   "metadata": {},
   "outputs": [
    {
     "name": "stderr",
     "output_type": "stream",
     "text": [
      "C:\\ProgramData\\Anaconda3\\lib\\site-packages\\ipykernel_launcher.py:1: SettingWithCopyWarning: \n",
      "A value is trying to be set on a copy of a slice from a DataFrame.\n",
      "Try using .loc[row_indexer,col_indexer] = value instead\n",
      "\n",
      "See the caveats in the documentation: http://pandas.pydata.org/pandas-docs/stable/indexing.html#indexing-view-versus-copy\n",
      "  \"\"\"Entry point for launching an IPython kernel.\n"
     ]
    }
   ],
   "source": [
    "m1['Date'] = pd.to_datetime(m1['Date'])\n",
    "m1.set_index('Date', inplace=True)\n",
    "m1 = m1.resample('1M').last()\n",
    "m1.drop(labels='Indicators', axis=1, inplace=True)"
   ]
  },
  {
   "cell_type": "code",
   "execution_count": 94,
   "metadata": {},
   "outputs": [
    {
     "name": "stderr",
     "output_type": "stream",
     "text": [
      "C:\\ProgramData\\Anaconda3\\lib\\site-packages\\ipykernel_launcher.py:1: SettingWithCopyWarning: \n",
      "A value is trying to be set on a copy of a slice from a DataFrame.\n",
      "Try using .loc[row_indexer,col_indexer] = value instead\n",
      "\n",
      "See the caveats in the documentation: http://pandas.pydata.org/pandas-docs/stable/indexing.html#indexing-view-versus-copy\n",
      "  \"\"\"Entry point for launching an IPython kernel.\n"
     ]
    }
   ],
   "source": [
    "quasi['Date'] = pd.to_datetime(quasi['Date'])\n",
    "quasi.set_index('Date', inplace=True)\n",
    "quasi = quasi.resample('1M').last()\n",
    "quasi.drop(labels='Indicators', axis=1, inplace=True)"
   ]
  },
  {
   "cell_type": "code",
   "execution_count": 95,
   "metadata": {},
   "outputs": [
    {
     "name": "stderr",
     "output_type": "stream",
     "text": [
      "C:\\ProgramData\\Anaconda3\\lib\\site-packages\\ipykernel_launcher.py:1: SettingWithCopyWarning: \n",
      "A value is trying to be set on a copy of a slice from a DataFrame.\n",
      "Try using .loc[row_indexer,col_indexer] = value instead\n",
      "\n",
      "See the caveats in the documentation: http://pandas.pydata.org/pandas-docs/stable/indexing.html#indexing-view-versus-copy\n",
      "  \"\"\"Entry point for launching an IPython kernel.\n"
     ]
    }
   ],
   "source": [
    "circulation['Date'] = pd.to_datetime(circulation['Date'])\n",
    "circulation.set_index('Date', inplace=True)\n",
    "circulation = circulation.resample('1M').last()\n",
    "circulation.drop(labels='Indicators', axis=1, inplace=True)"
   ]
  },
  {
   "cell_type": "code",
   "execution_count": 99,
   "metadata": {},
   "outputs": [
    {
     "data": {
      "text/html": [
       "<div>\n",
       "<style scoped>\n",
       "    .dataframe tbody tr th:only-of-type {\n",
       "        vertical-align: middle;\n",
       "    }\n",
       "\n",
       "    .dataframe tbody tr th {\n",
       "        vertical-align: top;\n",
       "    }\n",
       "\n",
       "    .dataframe thead th {\n",
       "        text-align: right;\n",
       "    }\n",
       "</style>\n",
       "<table border=\"1\" class=\"dataframe\">\n",
       "  <thead>\n",
       "    <tr style=\"text-align: right;\">\n",
       "      <th></th>\n",
       "      <th>value</th>\n",
       "    </tr>\n",
       "    <tr>\n",
       "      <th>Date</th>\n",
       "      <th></th>\n",
       "    </tr>\n",
       "  </thead>\n",
       "  <tbody>\n",
       "    <tr>\n",
       "      <th>1997-01-31</th>\n",
       "      <td>59.5</td>\n",
       "    </tr>\n",
       "    <tr>\n",
       "      <th>1997-02-28</th>\n",
       "      <td>58.1</td>\n",
       "    </tr>\n",
       "    <tr>\n",
       "      <th>1997-03-31</th>\n",
       "      <td>61.8</td>\n",
       "    </tr>\n",
       "    <tr>\n",
       "      <th>1997-04-30</th>\n",
       "      <td>64.1</td>\n",
       "    </tr>\n",
       "    <tr>\n",
       "      <th>1997-05-31</th>\n",
       "      <td>68.6</td>\n",
       "    </tr>\n",
       "  </tbody>\n",
       "</table>\n",
       "</div>"
      ],
      "text/plain": [
       "           value\n",
       "Date            \n",
       "1997-01-31  59.5\n",
       "1997-02-28  58.1\n",
       "1997-03-31  61.8\n",
       "1997-04-30  64.1\n",
       "1997-05-31  68.6"
      ]
     },
     "execution_count": 99,
     "metadata": {},
     "output_type": "execute_result"
    }
   ],
   "source": [
    "quasi.head()"
   ]
  },
  {
   "cell_type": "code",
   "execution_count": 100,
   "metadata": {},
   "outputs": [
    {
     "data": {
      "text/html": [
       "<div>\n",
       "<style scoped>\n",
       "    .dataframe tbody tr th:only-of-type {\n",
       "        vertical-align: middle;\n",
       "    }\n",
       "\n",
       "    .dataframe tbody tr th {\n",
       "        vertical-align: top;\n",
       "    }\n",
       "\n",
       "    .dataframe thead th {\n",
       "        text-align: right;\n",
       "    }\n",
       "</style>\n",
       "<table border=\"1\" class=\"dataframe\">\n",
       "  <thead>\n",
       "    <tr style=\"text-align: right;\">\n",
       "      <th></th>\n",
       "      <th>value</th>\n",
       "    </tr>\n",
       "    <tr>\n",
       "      <th>Date</th>\n",
       "      <th></th>\n",
       "    </tr>\n",
       "  </thead>\n",
       "  <tbody>\n",
       "    <tr>\n",
       "      <th>2018-06-30</th>\n",
       "      <td>13,990</td>\n",
       "    </tr>\n",
       "    <tr>\n",
       "      <th>2018-07-31</th>\n",
       "      <td>14,103.3</td>\n",
       "    </tr>\n",
       "    <tr>\n",
       "      <th>2018-08-31</th>\n",
       "      <td>14,217.9</td>\n",
       "    </tr>\n",
       "    <tr>\n",
       "      <th>2018-09-30</th>\n",
       "      <td>14,499.1</td>\n",
       "    </tr>\n",
       "    <tr>\n",
       "      <th>2018-10-31</th>\n",
       "      <td>14,882.9</td>\n",
       "    </tr>\n",
       "  </tbody>\n",
       "</table>\n",
       "</div>"
      ],
      "text/plain": [
       "               value\n",
       "Date                \n",
       "2018-06-30    13,990\n",
       "2018-07-31  14,103.3\n",
       "2018-08-31  14,217.9\n",
       "2018-09-30  14,499.1\n",
       "2018-10-31  14,882.9"
      ]
     },
     "execution_count": 100,
     "metadata": {},
     "output_type": "execute_result"
    }
   ],
   "source": [
    "quasi.tail()"
   ]
  },
  {
   "cell_type": "markdown",
   "metadata": {},
   "source": [
    "### Loan Interest Rates"
   ]
  },
  {
   "cell_type": "code",
   "execution_count": 109,
   "metadata": {},
   "outputs": [],
   "source": [
    "interest = pd.read_csv('Data/DT_NSO_0700_018V1_-_2018-11-19 - Loan Interest Rates.csv')"
   ]
  },
  {
   "cell_type": "code",
   "execution_count": 110,
   "metadata": {},
   "outputs": [
    {
     "data": {
      "text/html": [
       "<div>\n",
       "<style scoped>\n",
       "    .dataframe tbody tr th:only-of-type {\n",
       "        vertical-align: middle;\n",
       "    }\n",
       "\n",
       "    .dataframe tbody tr th {\n",
       "        vertical-align: top;\n",
       "    }\n",
       "\n",
       "    .dataframe thead th {\n",
       "        text-align: right;\n",
       "    }\n",
       "</style>\n",
       "<table border=\"1\" class=\"dataframe\">\n",
       "  <thead>\n",
       "    <tr style=\"text-align: right;\">\n",
       "      <th></th>\n",
       "      <th>LOAN_RATE</th>\n",
       "      <th>2004-01</th>\n",
       "      <th>2004-02</th>\n",
       "      <th>2004-03</th>\n",
       "      <th>2004-04</th>\n",
       "      <th>2004-05</th>\n",
       "      <th>2004-06</th>\n",
       "      <th>2004-07</th>\n",
       "      <th>2004-08</th>\n",
       "      <th>2004-09</th>\n",
       "      <th>...</th>\n",
       "      <th>2017-10</th>\n",
       "      <th>2017-11</th>\n",
       "      <th>2017-12</th>\n",
       "      <th>2018-01</th>\n",
       "      <th>2018-02</th>\n",
       "      <th>2018-03</th>\n",
       "      <th>2018-04</th>\n",
       "      <th>2018-05</th>\n",
       "      <th>2018-06</th>\n",
       "      <th>2018-07</th>\n",
       "    </tr>\n",
       "  </thead>\n",
       "  <tbody>\n",
       "    <tr>\n",
       "      <th>0</th>\n",
       "      <td>Domestic currency</td>\n",
       "      <td>34.0</td>\n",
       "      <td>32.4</td>\n",
       "      <td>30.3</td>\n",
       "      <td>30.5</td>\n",
       "      <td>30.5</td>\n",
       "      <td>30.3</td>\n",
       "      <td>31.0</td>\n",
       "      <td>33.1</td>\n",
       "      <td>32.3</td>\n",
       "      <td>...</td>\n",
       "      <td>19.9</td>\n",
       "      <td>19.4</td>\n",
       "      <td>18.6</td>\n",
       "      <td>19.2</td>\n",
       "      <td>18.9</td>\n",
       "      <td>18.9</td>\n",
       "      <td>19.1</td>\n",
       "      <td>18.5</td>\n",
       "      <td>17.7</td>\n",
       "      <td>17.6</td>\n",
       "    </tr>\n",
       "    <tr>\n",
       "      <th>1</th>\n",
       "      <td>Foreign currency</td>\n",
       "      <td>19.2</td>\n",
       "      <td>17.8</td>\n",
       "      <td>19.7</td>\n",
       "      <td>21.0</td>\n",
       "      <td>19.9</td>\n",
       "      <td>21.8</td>\n",
       "      <td>20.4</td>\n",
       "      <td>19.2</td>\n",
       "      <td>18.2</td>\n",
       "      <td>...</td>\n",
       "      <td>9.8</td>\n",
       "      <td>11.8</td>\n",
       "      <td>11.6</td>\n",
       "      <td>10.8</td>\n",
       "      <td>11.5</td>\n",
       "      <td>11.3</td>\n",
       "      <td>10.2</td>\n",
       "      <td>10.1</td>\n",
       "      <td>10.2</td>\n",
       "      <td>10.4</td>\n",
       "    </tr>\n",
       "  </tbody>\n",
       "</table>\n",
       "<p>2 rows × 176 columns</p>\n",
       "</div>"
      ],
      "text/plain": [
       "           LOAN_RATE  2004-01  2004-02  2004-03  2004-04  2004-05  2004-06  \\\n",
       "0  Domestic currency     34.0     32.4     30.3     30.5     30.5     30.3   \n",
       "1   Foreign currency     19.2     17.8     19.7     21.0     19.9     21.8   \n",
       "\n",
       "   2004-07  2004-08  2004-09   ...     2017-10  2017-11  2017-12  2018-01  \\\n",
       "0     31.0     33.1     32.3   ...        19.9     19.4     18.6     19.2   \n",
       "1     20.4     19.2     18.2   ...         9.8     11.8     11.6     10.8   \n",
       "\n",
       "   2018-02  2018-03  2018-04  2018-05  2018-06  2018-07  \n",
       "0     18.9     18.9     19.1     18.5     17.7     17.6  \n",
       "1     11.5     11.3     10.2     10.1     10.2     10.4  \n",
       "\n",
       "[2 rows x 176 columns]"
      ]
     },
     "execution_count": 110,
     "metadata": {},
     "output_type": "execute_result"
    }
   ],
   "source": [
    "interest.head()"
   ]
  },
  {
   "cell_type": "code",
   "execution_count": 111,
   "metadata": {},
   "outputs": [],
   "source": [
    "interest = interest.melt(id_vars='LOAN_RATE', var_name='Date')"
   ]
  },
  {
   "cell_type": "code",
   "execution_count": 112,
   "metadata": {},
   "outputs": [
    {
     "data": {
      "text/html": [
       "<div>\n",
       "<style scoped>\n",
       "    .dataframe tbody tr th:only-of-type {\n",
       "        vertical-align: middle;\n",
       "    }\n",
       "\n",
       "    .dataframe tbody tr th {\n",
       "        vertical-align: top;\n",
       "    }\n",
       "\n",
       "    .dataframe thead th {\n",
       "        text-align: right;\n",
       "    }\n",
       "</style>\n",
       "<table border=\"1\" class=\"dataframe\">\n",
       "  <thead>\n",
       "    <tr style=\"text-align: right;\">\n",
       "      <th></th>\n",
       "      <th>LOAN_RATE</th>\n",
       "      <th>Date</th>\n",
       "      <th>value</th>\n",
       "    </tr>\n",
       "  </thead>\n",
       "  <tbody>\n",
       "    <tr>\n",
       "      <th>0</th>\n",
       "      <td>Domestic currency</td>\n",
       "      <td>2004-01</td>\n",
       "      <td>34.0</td>\n",
       "    </tr>\n",
       "    <tr>\n",
       "      <th>1</th>\n",
       "      <td>Foreign currency</td>\n",
       "      <td>2004-01</td>\n",
       "      <td>19.2</td>\n",
       "    </tr>\n",
       "    <tr>\n",
       "      <th>2</th>\n",
       "      <td>Domestic currency</td>\n",
       "      <td>2004-02</td>\n",
       "      <td>32.4</td>\n",
       "    </tr>\n",
       "    <tr>\n",
       "      <th>3</th>\n",
       "      <td>Foreign currency</td>\n",
       "      <td>2004-02</td>\n",
       "      <td>17.8</td>\n",
       "    </tr>\n",
       "    <tr>\n",
       "      <th>4</th>\n",
       "      <td>Domestic currency</td>\n",
       "      <td>2004-03</td>\n",
       "      <td>30.3</td>\n",
       "    </tr>\n",
       "  </tbody>\n",
       "</table>\n",
       "</div>"
      ],
      "text/plain": [
       "           LOAN_RATE     Date  value\n",
       "0  Domestic currency  2004-01   34.0\n",
       "1   Foreign currency  2004-01   19.2\n",
       "2  Domestic currency  2004-02   32.4\n",
       "3   Foreign currency  2004-02   17.8\n",
       "4  Domestic currency  2004-03   30.3"
      ]
     },
     "execution_count": 112,
     "metadata": {},
     "output_type": "execute_result"
    }
   ],
   "source": [
    "interest.head(5)"
   ]
  },
  {
   "cell_type": "code",
   "execution_count": 113,
   "metadata": {},
   "outputs": [
    {
     "data": {
      "text/plain": [
       "array(['Domestic currency', 'Foreign currency'], dtype=object)"
      ]
     },
     "execution_count": 113,
     "metadata": {},
     "output_type": "execute_result"
    }
   ],
   "source": [
    "interest['LOAN_RATE'].unique()"
   ]
  },
  {
   "cell_type": "code",
   "execution_count": 114,
   "metadata": {},
   "outputs": [],
   "source": [
    "domestic = interest[interest['LOAN_RATE'] == 'Domestic currency']\n",
    "foreign = interest[interest['LOAN_RATE'] == 'Foreign currency']"
   ]
  },
  {
   "cell_type": "code",
   "execution_count": 115,
   "metadata": {},
   "outputs": [
    {
     "name": "stderr",
     "output_type": "stream",
     "text": [
      "C:\\ProgramData\\Anaconda3\\lib\\site-packages\\ipykernel_launcher.py:1: SettingWithCopyWarning: \n",
      "A value is trying to be set on a copy of a slice from a DataFrame.\n",
      "Try using .loc[row_indexer,col_indexer] = value instead\n",
      "\n",
      "See the caveats in the documentation: http://pandas.pydata.org/pandas-docs/stable/indexing.html#indexing-view-versus-copy\n",
      "  \"\"\"Entry point for launching an IPython kernel.\n"
     ]
    }
   ],
   "source": [
    "domestic['Date'] = pd.to_datetime(domestic['Date'])\n",
    "domestic.set_index('Date', inplace=True)\n",
    "domestic = domestic.resample('1M').last()\n",
    "domestic.drop(labels='LOAN_RATE', axis=1, inplace=True)"
   ]
  },
  {
   "cell_type": "code",
   "execution_count": 116,
   "metadata": {},
   "outputs": [
    {
     "name": "stderr",
     "output_type": "stream",
     "text": [
      "C:\\ProgramData\\Anaconda3\\lib\\site-packages\\ipykernel_launcher.py:1: SettingWithCopyWarning: \n",
      "A value is trying to be set on a copy of a slice from a DataFrame.\n",
      "Try using .loc[row_indexer,col_indexer] = value instead\n",
      "\n",
      "See the caveats in the documentation: http://pandas.pydata.org/pandas-docs/stable/indexing.html#indexing-view-versus-copy\n",
      "  \"\"\"Entry point for launching an IPython kernel.\n"
     ]
    }
   ],
   "source": [
    "foreign['Date'] = pd.to_datetime(foreign['Date'])\n",
    "foreign.set_index('Date', inplace=True)\n",
    "foreign = foreign.resample('1M').last()\n",
    "foreign.drop(labels='LOAN_RATE', axis=1, inplace=True)"
   ]
  },
  {
   "cell_type": "code",
   "execution_count": 117,
   "metadata": {},
   "outputs": [
    {
     "data": {
      "text/html": [
       "<div>\n",
       "<style scoped>\n",
       "    .dataframe tbody tr th:only-of-type {\n",
       "        vertical-align: middle;\n",
       "    }\n",
       "\n",
       "    .dataframe tbody tr th {\n",
       "        vertical-align: top;\n",
       "    }\n",
       "\n",
       "    .dataframe thead th {\n",
       "        text-align: right;\n",
       "    }\n",
       "</style>\n",
       "<table border=\"1\" class=\"dataframe\">\n",
       "  <thead>\n",
       "    <tr style=\"text-align: right;\">\n",
       "      <th></th>\n",
       "      <th>value</th>\n",
       "    </tr>\n",
       "    <tr>\n",
       "      <th>Date</th>\n",
       "      <th></th>\n",
       "    </tr>\n",
       "  </thead>\n",
       "  <tbody>\n",
       "    <tr>\n",
       "      <th>2018-03-31</th>\n",
       "      <td>11.3</td>\n",
       "    </tr>\n",
       "    <tr>\n",
       "      <th>2018-04-30</th>\n",
       "      <td>10.2</td>\n",
       "    </tr>\n",
       "    <tr>\n",
       "      <th>2018-05-31</th>\n",
       "      <td>10.1</td>\n",
       "    </tr>\n",
       "    <tr>\n",
       "      <th>2018-06-30</th>\n",
       "      <td>10.2</td>\n",
       "    </tr>\n",
       "    <tr>\n",
       "      <th>2018-07-31</th>\n",
       "      <td>10.4</td>\n",
       "    </tr>\n",
       "  </tbody>\n",
       "</table>\n",
       "</div>"
      ],
      "text/plain": [
       "            value\n",
       "Date             \n",
       "2018-03-31   11.3\n",
       "2018-04-30   10.2\n",
       "2018-05-31   10.1\n",
       "2018-06-30   10.2\n",
       "2018-07-31   10.4"
      ]
     },
     "execution_count": 117,
     "metadata": {},
     "output_type": "execute_result"
    }
   ],
   "source": [
    "foreign.tail()"
   ]
  },
  {
   "cell_type": "markdown",
   "metadata": {},
   "source": [
    "### Balance of Payments"
   ]
  },
  {
   "cell_type": "markdown",
   "metadata": {},
   "source": [
    "The original data was modified in Excel to resample from quarter to months. "
   ]
  },
  {
   "cell_type": "code",
   "execution_count": 119,
   "metadata": {},
   "outputs": [],
   "source": [
    "balance = pd.read_csv('Data/Modified Data/Balance of Payments - Edited.csv')"
   ]
  },
  {
   "cell_type": "code",
   "execution_count": 120,
   "metadata": {},
   "outputs": [
    {
     "data": {
      "text/html": [
       "<div>\n",
       "<style scoped>\n",
       "    .dataframe tbody tr th:only-of-type {\n",
       "        vertical-align: middle;\n",
       "    }\n",
       "\n",
       "    .dataframe tbody tr th {\n",
       "        vertical-align: top;\n",
       "    }\n",
       "\n",
       "    .dataframe thead th {\n",
       "        text-align: right;\n",
       "    }\n",
       "</style>\n",
       "<table border=\"1\" class=\"dataframe\">\n",
       "  <thead>\n",
       "    <tr style=\"text-align: right;\">\n",
       "      <th></th>\n",
       "      <th>Classification</th>\n",
       "      <th>Date</th>\n",
       "      <th>Value</th>\n",
       "    </tr>\n",
       "  </thead>\n",
       "  <tbody>\n",
       "    <tr>\n",
       "      <th>0</th>\n",
       "      <td>Current Account</td>\n",
       "      <td>1/1998</td>\n",
       "      <td>-8.8</td>\n",
       "    </tr>\n",
       "    <tr>\n",
       "      <th>1</th>\n",
       "      <td>Current Account</td>\n",
       "      <td>2/1998</td>\n",
       "      <td>-8.8</td>\n",
       "    </tr>\n",
       "    <tr>\n",
       "      <th>2</th>\n",
       "      <td>Current Account</td>\n",
       "      <td>3/1998</td>\n",
       "      <td>-8.8</td>\n",
       "    </tr>\n",
       "    <tr>\n",
       "      <th>3</th>\n",
       "      <td>Current Account</td>\n",
       "      <td>4/1998</td>\n",
       "      <td>-71.9</td>\n",
       "    </tr>\n",
       "    <tr>\n",
       "      <th>4</th>\n",
       "      <td>Current Account</td>\n",
       "      <td>5/1998</td>\n",
       "      <td>-71.9</td>\n",
       "    </tr>\n",
       "  </tbody>\n",
       "</table>\n",
       "</div>"
      ],
      "text/plain": [
       "    Classification    Date  Value\n",
       "0  Current Account  1/1998   -8.8\n",
       "1  Current Account  2/1998   -8.8\n",
       "2  Current Account  3/1998   -8.8\n",
       "3  Current Account  4/1998  -71.9\n",
       "4  Current Account  5/1998  -71.9"
      ]
     },
     "execution_count": 120,
     "metadata": {},
     "output_type": "execute_result"
    }
   ],
   "source": [
    "balance.head()"
   ]
  },
  {
   "cell_type": "code",
   "execution_count": 121,
   "metadata": {},
   "outputs": [
    {
     "data": {
      "text/plain": [
       "array(['Current Account', 'Capital and financial account',\n",
       "       'Capital account', 'Financial account', 'Net Errors and Omissions'],\n",
       "      dtype=object)"
      ]
     },
     "execution_count": 121,
     "metadata": {},
     "output_type": "execute_result"
    }
   ],
   "source": [
    "balance.Classification.unique()"
   ]
  },
  {
   "cell_type": "code",
   "execution_count": 125,
   "metadata": {},
   "outputs": [],
   "source": [
    "current = balance[balance['Classification'] == 'Current Account']\n",
    "capital = balance[balance['Classification'] == 'Capital account']\n",
    "financial = balance[balance['Classification'] == 'Financial account']\n",
    "errors = balance[balance['Classification'] == 'Net Errors and Omissions']"
   ]
  },
  {
   "cell_type": "code",
   "execution_count": 126,
   "metadata": {},
   "outputs": [
    {
     "name": "stderr",
     "output_type": "stream",
     "text": [
      "C:\\ProgramData\\Anaconda3\\lib\\site-packages\\ipykernel_launcher.py:1: SettingWithCopyWarning: \n",
      "A value is trying to be set on a copy of a slice from a DataFrame.\n",
      "Try using .loc[row_indexer,col_indexer] = value instead\n",
      "\n",
      "See the caveats in the documentation: http://pandas.pydata.org/pandas-docs/stable/indexing.html#indexing-view-versus-copy\n",
      "  \"\"\"Entry point for launching an IPython kernel.\n",
      "C:\\ProgramData\\Anaconda3\\lib\\site-packages\\ipykernel_launcher.py:6: SettingWithCopyWarning: \n",
      "A value is trying to be set on a copy of a slice from a DataFrame.\n",
      "Try using .loc[row_indexer,col_indexer] = value instead\n",
      "\n",
      "See the caveats in the documentation: http://pandas.pydata.org/pandas-docs/stable/indexing.html#indexing-view-versus-copy\n",
      "  \n",
      "C:\\ProgramData\\Anaconda3\\lib\\site-packages\\ipykernel_launcher.py:11: SettingWithCopyWarning: \n",
      "A value is trying to be set on a copy of a slice from a DataFrame.\n",
      "Try using .loc[row_indexer,col_indexer] = value instead\n",
      "\n",
      "See the caveats in the documentation: http://pandas.pydata.org/pandas-docs/stable/indexing.html#indexing-view-versus-copy\n",
      "  # This is added back by InteractiveShellApp.init_path()\n",
      "C:\\ProgramData\\Anaconda3\\lib\\site-packages\\ipykernel_launcher.py:16: SettingWithCopyWarning: \n",
      "A value is trying to be set on a copy of a slice from a DataFrame.\n",
      "Try using .loc[row_indexer,col_indexer] = value instead\n",
      "\n",
      "See the caveats in the documentation: http://pandas.pydata.org/pandas-docs/stable/indexing.html#indexing-view-versus-copy\n",
      "  app.launch_new_instance()\n"
     ]
    }
   ],
   "source": [
    "current['Date'] = pd.to_datetime(current['Date'])\n",
    "current.set_index('Date', inplace=True)\n",
    "current = current.resample('1M').last()\n",
    "current.drop(labels='Classification', axis=1, inplace=True)\n",
    "\n",
    "capital['Date'] = pd.to_datetime(capital['Date'])\n",
    "capital.set_index('Date', inplace=True)\n",
    "capital = capital.resample('1M').last()\n",
    "capital.drop(labels='Classification', axis=1, inplace=True)\n",
    "\n",
    "financial['Date'] = pd.to_datetime(financial['Date'])\n",
    "financial.set_index('Date', inplace=True)\n",
    "financial = financial.resample('1M').last()\n",
    "financial.drop(labels='Classification', axis=1, inplace=True)\n",
    "\n",
    "errors['Date'] = pd.to_datetime(errors['Date'])\n",
    "errors.set_index('Date', inplace=True)\n",
    "errors = errors.resample('1M').last()\n",
    "errors.drop(labels='Classification', axis=1, inplace=True)"
   ]
  },
  {
   "cell_type": "code",
   "execution_count": 127,
   "metadata": {},
   "outputs": [
    {
     "data": {
      "text/html": [
       "<div>\n",
       "<style scoped>\n",
       "    .dataframe tbody tr th:only-of-type {\n",
       "        vertical-align: middle;\n",
       "    }\n",
       "\n",
       "    .dataframe tbody tr th {\n",
       "        vertical-align: top;\n",
       "    }\n",
       "\n",
       "    .dataframe thead th {\n",
       "        text-align: right;\n",
       "    }\n",
       "</style>\n",
       "<table border=\"1\" class=\"dataframe\">\n",
       "  <thead>\n",
       "    <tr style=\"text-align: right;\">\n",
       "      <th></th>\n",
       "      <th>Value</th>\n",
       "    </tr>\n",
       "    <tr>\n",
       "      <th>Date</th>\n",
       "      <th></th>\n",
       "    </tr>\n",
       "  </thead>\n",
       "  <tbody>\n",
       "    <tr>\n",
       "      <th>1998-01-31</th>\n",
       "      <td>-8.8</td>\n",
       "    </tr>\n",
       "    <tr>\n",
       "      <th>1998-02-28</th>\n",
       "      <td>-8.8</td>\n",
       "    </tr>\n",
       "    <tr>\n",
       "      <th>1998-03-31</th>\n",
       "      <td>-8.8</td>\n",
       "    </tr>\n",
       "    <tr>\n",
       "      <th>1998-04-30</th>\n",
       "      <td>-71.9</td>\n",
       "    </tr>\n",
       "    <tr>\n",
       "      <th>1998-05-31</th>\n",
       "      <td>-71.9</td>\n",
       "    </tr>\n",
       "  </tbody>\n",
       "</table>\n",
       "</div>"
      ],
      "text/plain": [
       "            Value\n",
       "Date             \n",
       "1998-01-31   -8.8\n",
       "1998-02-28   -8.8\n",
       "1998-03-31   -8.8\n",
       "1998-04-30  -71.9\n",
       "1998-05-31  -71.9"
      ]
     },
     "execution_count": 127,
     "metadata": {},
     "output_type": "execute_result"
    }
   ],
   "source": [
    "current.head()"
   ]
  },
  {
   "cell_type": "code",
   "execution_count": 128,
   "metadata": {},
   "outputs": [
    {
     "data": {
      "text/html": [
       "<div>\n",
       "<style scoped>\n",
       "    .dataframe tbody tr th:only-of-type {\n",
       "        vertical-align: middle;\n",
       "    }\n",
       "\n",
       "    .dataframe tbody tr th {\n",
       "        vertical-align: top;\n",
       "    }\n",
       "\n",
       "    .dataframe thead th {\n",
       "        text-align: right;\n",
       "    }\n",
       "</style>\n",
       "<table border=\"1\" class=\"dataframe\">\n",
       "  <thead>\n",
       "    <tr style=\"text-align: right;\">\n",
       "      <th></th>\n",
       "      <th>Value</th>\n",
       "    </tr>\n",
       "    <tr>\n",
       "      <th>Date</th>\n",
       "      <th></th>\n",
       "    </tr>\n",
       "  </thead>\n",
       "  <tbody>\n",
       "    <tr>\n",
       "      <th>2018-02-28</th>\n",
       "      <td>-359.9</td>\n",
       "    </tr>\n",
       "    <tr>\n",
       "      <th>2018-03-31</th>\n",
       "      <td>-359.9</td>\n",
       "    </tr>\n",
       "    <tr>\n",
       "      <th>2018-04-30</th>\n",
       "      <td>-319.4</td>\n",
       "    </tr>\n",
       "    <tr>\n",
       "      <th>2018-05-31</th>\n",
       "      <td>-319.4</td>\n",
       "    </tr>\n",
       "    <tr>\n",
       "      <th>2018-06-30</th>\n",
       "      <td>-319.4</td>\n",
       "    </tr>\n",
       "  </tbody>\n",
       "</table>\n",
       "</div>"
      ],
      "text/plain": [
       "            Value\n",
       "Date             \n",
       "2018-02-28 -359.9\n",
       "2018-03-31 -359.9\n",
       "2018-04-30 -319.4\n",
       "2018-05-31 -319.4\n",
       "2018-06-30 -319.4"
      ]
     },
     "execution_count": 128,
     "metadata": {},
     "output_type": "execute_result"
    }
   ],
   "source": [
    "current.tail()"
   ]
  },
  {
   "cell_type": "markdown",
   "metadata": {},
   "source": [
    "### External Trade"
   ]
  },
  {
   "cell_type": "code",
   "execution_count": 129,
   "metadata": {},
   "outputs": [],
   "source": [
    "trade = pd.read_csv('Data/DT_NSO_1400_001V1_-_2018-11-19 - External Trade.csv')"
   ]
  },
  {
   "cell_type": "code",
   "execution_count": 130,
   "metadata": {},
   "outputs": [
    {
     "data": {
      "text/html": [
       "<div>\n",
       "<style scoped>\n",
       "    .dataframe tbody tr th:only-of-type {\n",
       "        vertical-align: middle;\n",
       "    }\n",
       "\n",
       "    .dataframe tbody tr th {\n",
       "        vertical-align: top;\n",
       "    }\n",
       "\n",
       "    .dataframe thead th {\n",
       "        text-align: right;\n",
       "    }\n",
       "</style>\n",
       "<table border=\"1\" class=\"dataframe\">\n",
       "  <thead>\n",
       "    <tr style=\"text-align: right;\">\n",
       "      <th></th>\n",
       "      <th>main indicators of foreign trade</th>\n",
       "      <th>1997-01</th>\n",
       "      <th>1997-02</th>\n",
       "      <th>1997-03</th>\n",
       "      <th>1997-04</th>\n",
       "      <th>1997-05</th>\n",
       "      <th>1997-06</th>\n",
       "      <th>1997-07</th>\n",
       "      <th>1997-08</th>\n",
       "      <th>1997-09</th>\n",
       "      <th>...</th>\n",
       "      <th>2018-01</th>\n",
       "      <th>2018-02</th>\n",
       "      <th>2018-03</th>\n",
       "      <th>2018-04</th>\n",
       "      <th>2018-05</th>\n",
       "      <th>2018-06</th>\n",
       "      <th>2018-07</th>\n",
       "      <th>2018-08</th>\n",
       "      <th>2018-09</th>\n",
       "      <th>2018-10</th>\n",
       "    </tr>\n",
       "  </thead>\n",
       "  <tbody>\n",
       "    <tr>\n",
       "      <th>0</th>\n",
       "      <td>Export</td>\n",
       "      <td>23.4</td>\n",
       "      <td>46.8</td>\n",
       "      <td>102.0</td>\n",
       "      <td>138.3</td>\n",
       "      <td>180.3</td>\n",
       "      <td>232.2</td>\n",
       "      <td>265.7</td>\n",
       "      <td>309.2</td>\n",
       "      <td>366.5</td>\n",
       "      <td>...</td>\n",
       "      <td>423.84</td>\n",
       "      <td>838.4</td>\n",
       "      <td>1,482.41</td>\n",
       "      <td>2,125.40</td>\n",
       "      <td>2,885.20</td>\n",
       "      <td>3,581.40</td>\n",
       "      <td>4,116.70</td>\n",
       "      <td>4,671.20</td>\n",
       "      <td>5,282.80</td>\n",
       "      <td>5,944.80</td>\n",
       "    </tr>\n",
       "    <tr>\n",
       "      <th>1</th>\n",
       "      <td>Imports</td>\n",
       "      <td>15.9</td>\n",
       "      <td>35.8</td>\n",
       "      <td>70.7</td>\n",
       "      <td>103.7</td>\n",
       "      <td>126.3</td>\n",
       "      <td>180.1</td>\n",
       "      <td>220.7</td>\n",
       "      <td>265.4</td>\n",
       "      <td>303.6</td>\n",
       "      <td>...</td>\n",
       "      <td>361.13</td>\n",
       "      <td>726.0</td>\n",
       "      <td>1,130.47</td>\n",
       "      <td>1,581.90</td>\n",
       "      <td>2,178.80</td>\n",
       "      <td>2,759.10</td>\n",
       "      <td>3,265.70</td>\n",
       "      <td>3,802.00</td>\n",
       "      <td>4,351.10</td>\n",
       "      <td>4,875.60</td>\n",
       "    </tr>\n",
       "    <tr>\n",
       "      <th>2</th>\n",
       "      <td>Balance</td>\n",
       "      <td>7.5</td>\n",
       "      <td>11.0</td>\n",
       "      <td>31.3</td>\n",
       "      <td>34.6</td>\n",
       "      <td>54.1</td>\n",
       "      <td>52.1</td>\n",
       "      <td>45.0</td>\n",
       "      <td>43.8</td>\n",
       "      <td>62.8</td>\n",
       "      <td>...</td>\n",
       "      <td>62.71</td>\n",
       "      <td>112.4</td>\n",
       "      <td>351.94</td>\n",
       "      <td>543.40</td>\n",
       "      <td>706.40</td>\n",
       "      <td>822.20</td>\n",
       "      <td>851.00</td>\n",
       "      <td>869.20</td>\n",
       "      <td>931.70</td>\n",
       "      <td>1,069.20</td>\n",
       "    </tr>\n",
       "  </tbody>\n",
       "</table>\n",
       "<p>3 rows × 263 columns</p>\n",
       "</div>"
      ],
      "text/plain": [
       "  main indicators of foreign trade  1997-01  1997-02  1997-03  1997-04  \\\n",
       "0                           Export     23.4     46.8    102.0    138.3   \n",
       "1                          Imports     15.9     35.8     70.7    103.7   \n",
       "2                          Balance      7.5     11.0     31.3     34.6   \n",
       "\n",
       "   1997-05  1997-06  1997-07  1997-08  1997-09    ...     2018-01  2018-02  \\\n",
       "0    180.3    232.2    265.7    309.2    366.5    ...      423.84    838.4   \n",
       "1    126.3    180.1    220.7    265.4    303.6    ...      361.13    726.0   \n",
       "2     54.1     52.1     45.0     43.8     62.8    ...       62.71    112.4   \n",
       "\n",
       "    2018-03   2018-04   2018-05   2018-06   2018-07   2018-08   2018-09  \\\n",
       "0  1,482.41  2,125.40  2,885.20  3,581.40  4,116.70  4,671.20  5,282.80   \n",
       "1  1,130.47  1,581.90  2,178.80  2,759.10  3,265.70  3,802.00  4,351.10   \n",
       "2    351.94    543.40    706.40    822.20    851.00    869.20    931.70   \n",
       "\n",
       "    2018-10  \n",
       "0  5,944.80  \n",
       "1  4,875.60  \n",
       "2  1,069.20  \n",
       "\n",
       "[3 rows x 263 columns]"
      ]
     },
     "execution_count": 130,
     "metadata": {},
     "output_type": "execute_result"
    }
   ],
   "source": [
    "trade.head()"
   ]
  },
  {
   "cell_type": "code",
   "execution_count": 131,
   "metadata": {},
   "outputs": [],
   "source": [
    "trade = trade.melt(id_vars='main indicators of foreign trade', var_name='Date')"
   ]
  },
  {
   "cell_type": "code",
   "execution_count": 132,
   "metadata": {},
   "outputs": [],
   "source": [
    "export = trade[trade['main indicators of foreign trade'] == 'Export']\n",
    "imports = trade[trade['main indicators of foreign trade'] == 'Imports']\n",
    "balance = trade[trade['main indicators of foreign trade'] == 'Balance']"
   ]
  },
  {
   "cell_type": "code",
   "execution_count": 133,
   "metadata": {},
   "outputs": [
    {
     "name": "stderr",
     "output_type": "stream",
     "text": [
      "C:\\ProgramData\\Anaconda3\\lib\\site-packages\\ipykernel_launcher.py:1: SettingWithCopyWarning: \n",
      "A value is trying to be set on a copy of a slice from a DataFrame.\n",
      "Try using .loc[row_indexer,col_indexer] = value instead\n",
      "\n",
      "See the caveats in the documentation: http://pandas.pydata.org/pandas-docs/stable/indexing.html#indexing-view-versus-copy\n",
      "  \"\"\"Entry point for launching an IPython kernel.\n",
      "C:\\ProgramData\\Anaconda3\\lib\\site-packages\\ipykernel_launcher.py:6: SettingWithCopyWarning: \n",
      "A value is trying to be set on a copy of a slice from a DataFrame.\n",
      "Try using .loc[row_indexer,col_indexer] = value instead\n",
      "\n",
      "See the caveats in the documentation: http://pandas.pydata.org/pandas-docs/stable/indexing.html#indexing-view-versus-copy\n",
      "  \n",
      "C:\\ProgramData\\Anaconda3\\lib\\site-packages\\ipykernel_launcher.py:11: SettingWithCopyWarning: \n",
      "A value is trying to be set on a copy of a slice from a DataFrame.\n",
      "Try using .loc[row_indexer,col_indexer] = value instead\n",
      "\n",
      "See the caveats in the documentation: http://pandas.pydata.org/pandas-docs/stable/indexing.html#indexing-view-versus-copy\n",
      "  # This is added back by InteractiveShellApp.init_path()\n"
     ]
    }
   ],
   "source": [
    "export['Date'] = pd.to_datetime(export['Date'])\n",
    "export.set_index('Date', inplace=True)\n",
    "export = export.resample('1M').last()\n",
    "export.drop(labels='main indicators of foreign trade', axis=1, inplace=True)\n",
    "\n",
    "imports['Date'] = pd.to_datetime(imports['Date'])\n",
    "imports.set_index('Date', inplace=True)\n",
    "imports = imports.resample('1M').last()\n",
    "imports.drop(labels='main indicators of foreign trade', axis=1, inplace=True)\n",
    "\n",
    "balance['Date'] = pd.to_datetime(balance['Date'])\n",
    "balance.set_index('Date', inplace=True)\n",
    "balance = balance.resample('1M').last()\n",
    "balance.drop(labels='main indicators of foreign trade', axis=1, inplace=True)"
   ]
  },
  {
   "cell_type": "markdown",
   "metadata": {},
   "source": [
    "### Government Budget"
   ]
  },
  {
   "cell_type": "code",
   "execution_count": 134,
   "metadata": {},
   "outputs": [],
   "source": [
    "government_balance = pd.read_csv('Data/DT_NSO_0800_008V1_-_2018-11-19 - Government Budget Balance.csv')"
   ]
  },
  {
   "cell_type": "code",
   "execution_count": 135,
   "metadata": {},
   "outputs": [
    {
     "data": {
      "text/html": [
       "<div>\n",
       "<style scoped>\n",
       "    .dataframe tbody tr th:only-of-type {\n",
       "        vertical-align: middle;\n",
       "    }\n",
       "\n",
       "    .dataframe tbody tr th {\n",
       "        vertical-align: top;\n",
       "    }\n",
       "\n",
       "    .dataframe thead th {\n",
       "        text-align: right;\n",
       "    }\n",
       "</style>\n",
       "<table border=\"1\" class=\"dataframe\">\n",
       "  <thead>\n",
       "    <tr style=\"text-align: right;\">\n",
       "      <th></th>\n",
       "      <th>Total</th>\n",
       "      <th>2000-01</th>\n",
       "      <th>2000-02</th>\n",
       "      <th>2000-03</th>\n",
       "      <th>2000-04</th>\n",
       "      <th>2000-05</th>\n",
       "      <th>2000-06</th>\n",
       "      <th>2000-07</th>\n",
       "      <th>2000-08</th>\n",
       "      <th>2000-09</th>\n",
       "      <th>...</th>\n",
       "      <th>2018-01</th>\n",
       "      <th>2018-02</th>\n",
       "      <th>2018-03</th>\n",
       "      <th>2018-04</th>\n",
       "      <th>2018-05</th>\n",
       "      <th>2018-06</th>\n",
       "      <th>2018-07</th>\n",
       "      <th>2018-08</th>\n",
       "      <th>2018-09</th>\n",
       "      <th>2018-10</th>\n",
       "    </tr>\n",
       "  </thead>\n",
       "  <tbody>\n",
       "    <tr>\n",
       "      <th>0</th>\n",
       "      <td>Balance</td>\n",
       "      <td>-7,924.30</td>\n",
       "      <td>-15,096.10</td>\n",
       "      <td>-30,207.80</td>\n",
       "      <td>-30,630.40</td>\n",
       "      <td>-40,186.40</td>\n",
       "      <td>-50,092.60</td>\n",
       "      <td>-50,731.47</td>\n",
       "      <td>-51,125.09</td>\n",
       "      <td>-39,805.48</td>\n",
       "      <td>...</td>\n",
       "      <td>114,181.30</td>\n",
       "      <td>73,130.70</td>\n",
       "      <td>-25,771.90</td>\n",
       "      <td>98,178.60</td>\n",
       "      <td>45,435.80</td>\n",
       "      <td>12,932.70</td>\n",
       "      <td>278,385.50</td>\n",
       "      <td>119,495.80</td>\n",
       "      <td>-169,137.80</td>\n",
       "      <td>100,215.80</td>\n",
       "    </tr>\n",
       "  </tbody>\n",
       "</table>\n",
       "<p>1 rows × 227 columns</p>\n",
       "</div>"
      ],
      "text/plain": [
       "     Total    2000-01     2000-02     2000-03     2000-04     2000-05  \\\n",
       "0  Balance  -7,924.30  -15,096.10  -30,207.80  -30,630.40  -40,186.40   \n",
       "\n",
       "      2000-06     2000-07     2000-08     2000-09     ...         2018-01  \\\n",
       "0  -50,092.60  -50,731.47  -51,125.09  -39,805.48     ...      114,181.30   \n",
       "\n",
       "     2018-02     2018-03    2018-04    2018-05    2018-06     2018-07  \\\n",
       "0  73,130.70  -25,771.90  98,178.60  45,435.80  12,932.70  278,385.50   \n",
       "\n",
       "      2018-08      2018-09     2018-10  \n",
       "0  119,495.80  -169,137.80  100,215.80  \n",
       "\n",
       "[1 rows x 227 columns]"
      ]
     },
     "execution_count": 135,
     "metadata": {},
     "output_type": "execute_result"
    }
   ],
   "source": [
    "government_balance.head()"
   ]
  },
  {
   "cell_type": "code",
   "execution_count": 136,
   "metadata": {},
   "outputs": [],
   "source": [
    "government_balance = government_balance.melt(id_vars='Total', var_name='Date')"
   ]
  },
  {
   "cell_type": "code",
   "execution_count": 137,
   "metadata": {},
   "outputs": [],
   "source": [
    "government_balance['Date'] = pd.to_datetime(government_balance['Date'])\n",
    "government_balance.set_index('Date', inplace=True)\n",
    "government_balance = government_balance.resample('1M').last()\n",
    "government_balance.drop(labels='Total', axis=1, inplace=True)"
   ]
  },
  {
   "cell_type": "code",
   "execution_count": 138,
   "metadata": {},
   "outputs": [
    {
     "data": {
      "text/html": [
       "<div>\n",
       "<style scoped>\n",
       "    .dataframe tbody tr th:only-of-type {\n",
       "        vertical-align: middle;\n",
       "    }\n",
       "\n",
       "    .dataframe tbody tr th {\n",
       "        vertical-align: top;\n",
       "    }\n",
       "\n",
       "    .dataframe thead th {\n",
       "        text-align: right;\n",
       "    }\n",
       "</style>\n",
       "<table border=\"1\" class=\"dataframe\">\n",
       "  <thead>\n",
       "    <tr style=\"text-align: right;\">\n",
       "      <th></th>\n",
       "      <th>value</th>\n",
       "    </tr>\n",
       "    <tr>\n",
       "      <th>Date</th>\n",
       "      <th></th>\n",
       "    </tr>\n",
       "  </thead>\n",
       "  <tbody>\n",
       "    <tr>\n",
       "      <th>2000-01-31</th>\n",
       "      <td>-7,924.30</td>\n",
       "    </tr>\n",
       "    <tr>\n",
       "      <th>2000-02-29</th>\n",
       "      <td>-15,096.10</td>\n",
       "    </tr>\n",
       "    <tr>\n",
       "      <th>2000-03-31</th>\n",
       "      <td>-30,207.80</td>\n",
       "    </tr>\n",
       "    <tr>\n",
       "      <th>2000-04-30</th>\n",
       "      <td>-30,630.40</td>\n",
       "    </tr>\n",
       "    <tr>\n",
       "      <th>2000-05-31</th>\n",
       "      <td>-40,186.40</td>\n",
       "    </tr>\n",
       "  </tbody>\n",
       "</table>\n",
       "</div>"
      ],
      "text/plain": [
       "                 value\n",
       "Date                  \n",
       "2000-01-31   -7,924.30\n",
       "2000-02-29  -15,096.10\n",
       "2000-03-31  -30,207.80\n",
       "2000-04-30  -30,630.40\n",
       "2000-05-31  -40,186.40"
      ]
     },
     "execution_count": 138,
     "metadata": {},
     "output_type": "execute_result"
    }
   ],
   "source": [
    "government_balance.head()"
   ]
  },
  {
   "cell_type": "code",
   "execution_count": 139,
   "metadata": {},
   "outputs": [
    {
     "data": {
      "text/html": [
       "<div>\n",
       "<style scoped>\n",
       "    .dataframe tbody tr th:only-of-type {\n",
       "        vertical-align: middle;\n",
       "    }\n",
       "\n",
       "    .dataframe tbody tr th {\n",
       "        vertical-align: top;\n",
       "    }\n",
       "\n",
       "    .dataframe thead th {\n",
       "        text-align: right;\n",
       "    }\n",
       "</style>\n",
       "<table border=\"1\" class=\"dataframe\">\n",
       "  <thead>\n",
       "    <tr style=\"text-align: right;\">\n",
       "      <th></th>\n",
       "      <th>value</th>\n",
       "    </tr>\n",
       "    <tr>\n",
       "      <th>Date</th>\n",
       "      <th></th>\n",
       "    </tr>\n",
       "  </thead>\n",
       "  <tbody>\n",
       "    <tr>\n",
       "      <th>2018-06-30</th>\n",
       "      <td>12,932.70</td>\n",
       "    </tr>\n",
       "    <tr>\n",
       "      <th>2018-07-31</th>\n",
       "      <td>278,385.50</td>\n",
       "    </tr>\n",
       "    <tr>\n",
       "      <th>2018-08-31</th>\n",
       "      <td>119,495.80</td>\n",
       "    </tr>\n",
       "    <tr>\n",
       "      <th>2018-09-30</th>\n",
       "      <td>-169,137.80</td>\n",
       "    </tr>\n",
       "    <tr>\n",
       "      <th>2018-10-31</th>\n",
       "      <td>100,215.80</td>\n",
       "    </tr>\n",
       "  </tbody>\n",
       "</table>\n",
       "</div>"
      ],
      "text/plain": [
       "                  value\n",
       "Date                   \n",
       "2018-06-30    12,932.70\n",
       "2018-07-31   278,385.50\n",
       "2018-08-31   119,495.80\n",
       "2018-09-30  -169,137.80\n",
       "2018-10-31   100,215.80"
      ]
     },
     "execution_count": 139,
     "metadata": {},
     "output_type": "execute_result"
    }
   ],
   "source": [
    "government_balance.tail()"
   ]
  },
  {
   "cell_type": "markdown",
   "metadata": {},
   "source": [
    "## Combine Dataframes\n",
    "\n",
    "Not that we have the data imported and formatted the way we need it, we can combine the dataframes to start our analysis. The dataframes we need to combine are:\n",
    "\n",
    "- mnt\n",
    "- cpi\n",
    "- m2\n",
    "- m1\n",
    "- quasi\n",
    "- circulation\n",
    "- domestic\n",
    "- foreign\n",
    "- current\n",
    "- capital\n",
    "- financial\n",
    "- errors\n",
    "- export\n",
    "- imports\n",
    "- balance\n",
    "- government_balance"
   ]
  },
  {
   "cell_type": "code",
   "execution_count": 221,
   "metadata": {},
   "outputs": [],
   "source": [
    "# Create df and merge MNT with CPI\n",
    "df = mnt.merge(cpi, how='left', left_index=True, right_index=True)\n",
    "df.rename(columns={'value': 'cpi'}, inplace=True)"
   ]
  },
  {
   "cell_type": "code",
   "execution_count": 222,
   "metadata": {},
   "outputs": [],
   "source": [
    "# Merge df with m2\n",
    "df = df.merge(m2, how='left', left_index=True, right_index=True)\n",
    "df.rename(columns={'value': 'm2'}, inplace=True)"
   ]
  },
  {
   "cell_type": "code",
   "execution_count": 223,
   "metadata": {},
   "outputs": [],
   "source": [
    "# Merge df with m1\n",
    "df = df.merge(m1, how='left', left_index=True, right_index=True)\n",
    "df.rename(columns={'value': 'm1'}, inplace=True)"
   ]
  },
  {
   "cell_type": "code",
   "execution_count": 224,
   "metadata": {},
   "outputs": [],
   "source": [
    "# Merge df with quasi\n",
    "df = df.merge(quasi, how='left', left_index=True, right_index=True)\n",
    "df.rename(columns={'value': 'quasi'}, inplace=True)"
   ]
  },
  {
   "cell_type": "code",
   "execution_count": 225,
   "metadata": {},
   "outputs": [],
   "source": [
    "# Merge df with circulation\n",
    "df = df.merge(circulation, how='left', left_index=True, right_index=True)\n",
    "df.rename(columns={'value': 'circulation'}, inplace=True)"
   ]
  },
  {
   "cell_type": "code",
   "execution_count": 226,
   "metadata": {},
   "outputs": [],
   "source": [
    "# Merge df with domestic\n",
    "df = df.merge(domestic, how='left', left_index=True, right_index=True)\n",
    "df.rename(columns={'value': 'domestic'}, inplace=True)"
   ]
  },
  {
   "cell_type": "code",
   "execution_count": 227,
   "metadata": {},
   "outputs": [],
   "source": [
    "# Merge df with foreign\n",
    "df = df.merge(foreign, how='left', left_index=True, right_index=True)\n",
    "df.rename(columns={'value': 'foreign'}, inplace=True)"
   ]
  },
  {
   "cell_type": "code",
   "execution_count": 228,
   "metadata": {},
   "outputs": [],
   "source": [
    "# Merge df with current\n",
    "df = df.merge(current, how='left', left_index=True, right_index=True)\n",
    "df.rename(columns={'Value': 'current'}, inplace=True)"
   ]
  },
  {
   "cell_type": "code",
   "execution_count": 229,
   "metadata": {},
   "outputs": [],
   "source": [
    "# Merge df with capital\n",
    "df = df.merge(capital, how='left', left_index=True, right_index=True)\n",
    "df.rename(columns={'Value': 'capital'}, inplace=True)"
   ]
  },
  {
   "cell_type": "code",
   "execution_count": 230,
   "metadata": {},
   "outputs": [],
   "source": [
    "# Merge df with fiancial\n",
    "df = df.merge(financial, how='left', left_index=True, right_index=True)\n",
    "df.rename(columns={'Value': 'financial'}, inplace=True)"
   ]
  },
  {
   "cell_type": "code",
   "execution_count": 231,
   "metadata": {},
   "outputs": [],
   "source": [
    "# Merge df with errors\n",
    "df = df.merge(errors, how='left', left_index=True, right_index=True)\n",
    "df.rename(columns={'Value': 'errors'}, inplace=True)"
   ]
  },
  {
   "cell_type": "code",
   "execution_count": 232,
   "metadata": {},
   "outputs": [],
   "source": [
    "# Merge df with export\n",
    "df = df.merge(export, how='left', left_index=True, right_index=True)\n",
    "df.rename(columns={'value': 'export'}, inplace=True)"
   ]
  },
  {
   "cell_type": "code",
   "execution_count": 233,
   "metadata": {},
   "outputs": [],
   "source": [
    "# Merge df with imports\n",
    "df = df.merge(imports, how='left', left_index=True, right_index=True)\n",
    "df.rename(columns={'value': 'imports'}, inplace=True)"
   ]
  },
  {
   "cell_type": "code",
   "execution_count": 236,
   "metadata": {},
   "outputs": [],
   "source": [
    "# Merge df with balance\n",
    "df = df.merge(balance, how='left', left_index=True, right_index=True)\n",
    "df.rename(columns={'value': 'balance'}, inplace=True)"
   ]
  },
  {
   "cell_type": "code",
   "execution_count": 239,
   "metadata": {},
   "outputs": [],
   "source": [
    "# Merge df with government_balance\n",
    "df = df.merge(government_balance, how='left', left_index=True, right_index=True)\n",
    "df.rename(columns={'value': 'government_balance'}, inplace=True)"
   ]
  },
  {
   "cell_type": "code",
   "execution_count": 240,
   "metadata": {},
   "outputs": [
    {
     "data": {
      "text/html": [
       "<div>\n",
       "<style scoped>\n",
       "    .dataframe tbody tr th:only-of-type {\n",
       "        vertical-align: middle;\n",
       "    }\n",
       "\n",
       "    .dataframe tbody tr th {\n",
       "        vertical-align: top;\n",
       "    }\n",
       "\n",
       "    .dataframe thead th {\n",
       "        text-align: right;\n",
       "    }\n",
       "</style>\n",
       "<table border=\"1\" class=\"dataframe\">\n",
       "  <thead>\n",
       "    <tr style=\"text-align: right;\">\n",
       "      <th></th>\n",
       "      <th>USD</th>\n",
       "      <th>cpi</th>\n",
       "      <th>m2</th>\n",
       "      <th>m1</th>\n",
       "      <th>quasi</th>\n",
       "      <th>circulation</th>\n",
       "      <th>domestic</th>\n",
       "      <th>foreign</th>\n",
       "      <th>current</th>\n",
       "      <th>capital</th>\n",
       "      <th>financial</th>\n",
       "      <th>errors</th>\n",
       "      <th>export</th>\n",
       "      <th>imports</th>\n",
       "      <th>balance</th>\n",
       "      <th>government_balance</th>\n",
       "    </tr>\n",
       "    <tr>\n",
       "      <th>Date</th>\n",
       "      <th></th>\n",
       "      <th></th>\n",
       "      <th></th>\n",
       "      <th></th>\n",
       "      <th></th>\n",
       "      <th></th>\n",
       "      <th></th>\n",
       "      <th></th>\n",
       "      <th></th>\n",
       "      <th></th>\n",
       "      <th></th>\n",
       "      <th></th>\n",
       "      <th></th>\n",
       "      <th></th>\n",
       "      <th></th>\n",
       "      <th></th>\n",
       "    </tr>\n",
       "  </thead>\n",
       "  <tbody>\n",
       "    <tr>\n",
       "      <th>2008-01-31</th>\n",
       "      <td>1171.77</td>\n",
       "      <td>2.0</td>\n",
       "      <td>2,307</td>\n",
       "      <td>551.9</td>\n",
       "      <td>1,755.1</td>\n",
       "      <td>338.5</td>\n",
       "      <td>17.3</td>\n",
       "      <td>13.9</td>\n",
       "      <td>-63.3</td>\n",
       "      <td>18.6</td>\n",
       "      <td>242.7</td>\n",
       "      <td>-147.4</td>\n",
       "      <td>216.5</td>\n",
       "      <td>199</td>\n",
       "      <td>17.6</td>\n",
       "      <td>38,429.40</td>\n",
       "    </tr>\n",
       "    <tr>\n",
       "      <th>2008-02-29</th>\n",
       "      <td>1171.82</td>\n",
       "      <td>2.7</td>\n",
       "      <td>2,417.2</td>\n",
       "      <td>549.2</td>\n",
       "      <td>1,868</td>\n",
       "      <td>310</td>\n",
       "      <td>22.1</td>\n",
       "      <td>16.3</td>\n",
       "      <td>-63.3</td>\n",
       "      <td>18.6</td>\n",
       "      <td>242.7</td>\n",
       "      <td>-147.4</td>\n",
       "      <td>433.4</td>\n",
       "      <td>376.1</td>\n",
       "      <td>57.3</td>\n",
       "      <td>55,273.47</td>\n",
       "    </tr>\n",
       "    <tr>\n",
       "      <th>2008-03-31</th>\n",
       "      <td>1168.17</td>\n",
       "      <td>3.4</td>\n",
       "      <td>2,454.8</td>\n",
       "      <td>577.7</td>\n",
       "      <td>1,877</td>\n",
       "      <td>328.5</td>\n",
       "      <td>20.8</td>\n",
       "      <td>13.8</td>\n",
       "      <td>-63.3</td>\n",
       "      <td>18.6</td>\n",
       "      <td>242.7</td>\n",
       "      <td>-147.4</td>\n",
       "      <td>579.8</td>\n",
       "      <td>599.3</td>\n",
       "      <td>-19.5</td>\n",
       "      <td>57,348.37</td>\n",
       "    </tr>\n",
       "    <tr>\n",
       "      <th>2008-04-30</th>\n",
       "      <td>1164.94</td>\n",
       "      <td>5.7</td>\n",
       "      <td>2,466.3</td>\n",
       "      <td>583.7</td>\n",
       "      <td>1,882.6</td>\n",
       "      <td>344.1</td>\n",
       "      <td>21.7</td>\n",
       "      <td>13.9</td>\n",
       "      <td>-130.6</td>\n",
       "      <td>20.1</td>\n",
       "      <td>282.8</td>\n",
       "      <td>-161.4</td>\n",
       "      <td>771.1</td>\n",
       "      <td>864.6</td>\n",
       "      <td>-93.5</td>\n",
       "      <td>48,746.80</td>\n",
       "    </tr>\n",
       "    <tr>\n",
       "      <th>2008-05-31</th>\n",
       "      <td>1161.37</td>\n",
       "      <td>4.3</td>\n",
       "      <td>2,516.2</td>\n",
       "      <td>620.6</td>\n",
       "      <td>1,895.6</td>\n",
       "      <td>373.6</td>\n",
       "      <td>18.4</td>\n",
       "      <td>17.1</td>\n",
       "      <td>-130.6</td>\n",
       "      <td>20.1</td>\n",
       "      <td>282.8</td>\n",
       "      <td>-161.4</td>\n",
       "      <td>996.20</td>\n",
       "      <td>1,149.60</td>\n",
       "      <td>-153.40</td>\n",
       "      <td>7,603.11</td>\n",
       "    </tr>\n",
       "  </tbody>\n",
       "</table>\n",
       "</div>"
      ],
      "text/plain": [
       "                USD  cpi       m2     m1    quasi circulation  domestic  \\\n",
       "Date                                                                      \n",
       "2008-01-31  1171.77  2.0    2,307  551.9  1,755.1       338.5      17.3   \n",
       "2008-02-29  1171.82  2.7  2,417.2  549.2    1,868         310      22.1   \n",
       "2008-03-31  1168.17  3.4  2,454.8  577.7    1,877       328.5      20.8   \n",
       "2008-04-30  1164.94  5.7  2,466.3  583.7  1,882.6       344.1      21.7   \n",
       "2008-05-31  1161.37  4.3  2,516.2  620.6  1,895.6       373.6      18.4   \n",
       "\n",
       "            foreign  current  capital  financial  errors  export   imports  \\\n",
       "Date                                                                         \n",
       "2008-01-31     13.9    -63.3     18.6      242.7  -147.4   216.5       199   \n",
       "2008-02-29     16.3    -63.3     18.6      242.7  -147.4   433.4     376.1   \n",
       "2008-03-31     13.8    -63.3     18.6      242.7  -147.4   579.8     599.3   \n",
       "2008-04-30     13.9   -130.6     20.1      282.8  -161.4   771.1     864.6   \n",
       "2008-05-31     17.1   -130.6     20.1      282.8  -161.4  996.20  1,149.60   \n",
       "\n",
       "            balance government_balance  \n",
       "Date                                    \n",
       "2008-01-31     17.6          38,429.40  \n",
       "2008-02-29     57.3          55,273.47  \n",
       "2008-03-31    -19.5          57,348.37  \n",
       "2008-04-30    -93.5          48,746.80  \n",
       "2008-05-31  -153.40           7,603.11  "
      ]
     },
     "execution_count": 240,
     "metadata": {},
     "output_type": "execute_result"
    }
   ],
   "source": [
    "df.head()"
   ]
  },
  {
   "cell_type": "code",
   "execution_count": 241,
   "metadata": {},
   "outputs": [
    {
     "data": {
      "text/html": [
       "<div>\n",
       "<style scoped>\n",
       "    .dataframe tbody tr th:only-of-type {\n",
       "        vertical-align: middle;\n",
       "    }\n",
       "\n",
       "    .dataframe tbody tr th {\n",
       "        vertical-align: top;\n",
       "    }\n",
       "\n",
       "    .dataframe thead th {\n",
       "        text-align: right;\n",
       "    }\n",
       "</style>\n",
       "<table border=\"1\" class=\"dataframe\">\n",
       "  <thead>\n",
       "    <tr style=\"text-align: right;\">\n",
       "      <th></th>\n",
       "      <th>USD</th>\n",
       "      <th>cpi</th>\n",
       "      <th>m2</th>\n",
       "      <th>m1</th>\n",
       "      <th>quasi</th>\n",
       "      <th>circulation</th>\n",
       "      <th>domestic</th>\n",
       "      <th>foreign</th>\n",
       "      <th>current</th>\n",
       "      <th>capital</th>\n",
       "      <th>financial</th>\n",
       "      <th>errors</th>\n",
       "      <th>export</th>\n",
       "      <th>imports</th>\n",
       "      <th>balance</th>\n",
       "      <th>government_balance</th>\n",
       "    </tr>\n",
       "    <tr>\n",
       "      <th>Date</th>\n",
       "      <th></th>\n",
       "      <th></th>\n",
       "      <th></th>\n",
       "      <th></th>\n",
       "      <th></th>\n",
       "      <th></th>\n",
       "      <th></th>\n",
       "      <th></th>\n",
       "      <th></th>\n",
       "      <th></th>\n",
       "      <th></th>\n",
       "      <th></th>\n",
       "      <th></th>\n",
       "      <th></th>\n",
       "      <th></th>\n",
       "      <th></th>\n",
       "    </tr>\n",
       "  </thead>\n",
       "  <tbody>\n",
       "    <tr>\n",
       "      <th>2018-06-30</th>\n",
       "      <td>2462.82</td>\n",
       "      <td>0.5</td>\n",
       "      <td>17,342.9</td>\n",
       "      <td>3,352.9</td>\n",
       "      <td>13,990</td>\n",
       "      <td>931.1</td>\n",
       "      <td>17.7</td>\n",
       "      <td>10.2</td>\n",
       "      <td>-319.4</td>\n",
       "      <td>26.5</td>\n",
       "      <td>-376.6</td>\n",
       "      <td>-176.7</td>\n",
       "      <td>3,581.40</td>\n",
       "      <td>2,759.10</td>\n",
       "      <td>822.20</td>\n",
       "      <td>12,932.70</td>\n",
       "    </tr>\n",
       "    <tr>\n",
       "      <th>2018-07-31</th>\n",
       "      <td>2463.25</td>\n",
       "      <td>0.5</td>\n",
       "      <td>17,189.3</td>\n",
       "      <td>3,086</td>\n",
       "      <td>14,103.3</td>\n",
       "      <td>917.1</td>\n",
       "      <td>17.6</td>\n",
       "      <td>10.4</td>\n",
       "      <td>NaN</td>\n",
       "      <td>NaN</td>\n",
       "      <td>NaN</td>\n",
       "      <td>NaN</td>\n",
       "      <td>4,116.70</td>\n",
       "      <td>3,265.70</td>\n",
       "      <td>851.00</td>\n",
       "      <td>278,385.50</td>\n",
       "    </tr>\n",
       "    <tr>\n",
       "      <th>2018-08-31</th>\n",
       "      <td>2472.99</td>\n",
       "      <td>-0.8</td>\n",
       "      <td>17,440.8</td>\n",
       "      <td>3,222.8</td>\n",
       "      <td>14,217.9</td>\n",
       "      <td>927.5</td>\n",
       "      <td>NaN</td>\n",
       "      <td>NaN</td>\n",
       "      <td>NaN</td>\n",
       "      <td>NaN</td>\n",
       "      <td>NaN</td>\n",
       "      <td>NaN</td>\n",
       "      <td>4,671.20</td>\n",
       "      <td>3,802.00</td>\n",
       "      <td>869.20</td>\n",
       "      <td>119,495.80</td>\n",
       "    </tr>\n",
       "    <tr>\n",
       "      <th>2018-09-30</th>\n",
       "      <td>2552.13</td>\n",
       "      <td>-0.1</td>\n",
       "      <td>17,911.8</td>\n",
       "      <td>3,412.7</td>\n",
       "      <td>14,499.1</td>\n",
       "      <td>929.1</td>\n",
       "      <td>NaN</td>\n",
       "      <td>NaN</td>\n",
       "      <td>NaN</td>\n",
       "      <td>NaN</td>\n",
       "      <td>NaN</td>\n",
       "      <td>NaN</td>\n",
       "      <td>5,282.80</td>\n",
       "      <td>4,351.10</td>\n",
       "      <td>931.70</td>\n",
       "      <td>-169,137.80</td>\n",
       "    </tr>\n",
       "    <tr>\n",
       "      <th>2018-10-31</th>\n",
       "      <td>2564.44</td>\n",
       "      <td>1.0</td>\n",
       "      <td>18,311.5</td>\n",
       "      <td>3,428.6</td>\n",
       "      <td>14,882.9</td>\n",
       "      <td>887.8</td>\n",
       "      <td>NaN</td>\n",
       "      <td>NaN</td>\n",
       "      <td>NaN</td>\n",
       "      <td>NaN</td>\n",
       "      <td>NaN</td>\n",
       "      <td>NaN</td>\n",
       "      <td>5,944.80</td>\n",
       "      <td>4,875.60</td>\n",
       "      <td>1,069.20</td>\n",
       "      <td>100,215.80</td>\n",
       "    </tr>\n",
       "  </tbody>\n",
       "</table>\n",
       "</div>"
      ],
      "text/plain": [
       "                USD  cpi        m2       m1     quasi circulation  domestic  \\\n",
       "Date                                                                          \n",
       "2018-06-30  2462.82  0.5  17,342.9  3,352.9    13,990       931.1      17.7   \n",
       "2018-07-31  2463.25  0.5  17,189.3    3,086  14,103.3       917.1      17.6   \n",
       "2018-08-31  2472.99 -0.8  17,440.8  3,222.8  14,217.9       927.5       NaN   \n",
       "2018-09-30  2552.13 -0.1  17,911.8  3,412.7  14,499.1       929.1       NaN   \n",
       "2018-10-31  2564.44  1.0  18,311.5  3,428.6  14,882.9       887.8       NaN   \n",
       "\n",
       "            foreign  current  capital  financial  errors    export   imports  \\\n",
       "Date                                                                           \n",
       "2018-06-30     10.2   -319.4     26.5     -376.6  -176.7  3,581.40  2,759.10   \n",
       "2018-07-31     10.4      NaN      NaN        NaN     NaN  4,116.70  3,265.70   \n",
       "2018-08-31      NaN      NaN      NaN        NaN     NaN  4,671.20  3,802.00   \n",
       "2018-09-30      NaN      NaN      NaN        NaN     NaN  5,282.80  4,351.10   \n",
       "2018-10-31      NaN      NaN      NaN        NaN     NaN  5,944.80  4,875.60   \n",
       "\n",
       "             balance government_balance  \n",
       "Date                                     \n",
       "2018-06-30    822.20          12,932.70  \n",
       "2018-07-31    851.00         278,385.50  \n",
       "2018-08-31    869.20         119,495.80  \n",
       "2018-09-30    931.70        -169,137.80  \n",
       "2018-10-31  1,069.20         100,215.80  "
      ]
     },
     "execution_count": 241,
     "metadata": {},
     "output_type": "execute_result"
    }
   ],
   "source": [
    "df.tail()"
   ]
  },
  {
   "cell_type": "code",
   "execution_count": 242,
   "metadata": {},
   "outputs": [],
   "source": [
    "df.to_csv('Data/Modified Data/data.csv')"
   ]
  },
  {
   "cell_type": "code",
   "execution_count": null,
   "metadata": {},
   "outputs": [],
   "source": []
  }
 ],
 "metadata": {
  "kernelspec": {
   "display_name": "Python 3",
   "language": "python",
   "name": "python3"
  },
  "language_info": {
   "codemirror_mode": {
    "name": "ipython",
    "version": 3
   },
   "file_extension": ".py",
   "mimetype": "text/x-python",
   "name": "python",
   "nbconvert_exporter": "python",
   "pygments_lexer": "ipython3",
   "version": "3.6.3"
  },
  "toc-showmarkdowntxt": false,
  "toc-showtags": false
 },
 "nbformat": 4,
 "nbformat_minor": 2
}
