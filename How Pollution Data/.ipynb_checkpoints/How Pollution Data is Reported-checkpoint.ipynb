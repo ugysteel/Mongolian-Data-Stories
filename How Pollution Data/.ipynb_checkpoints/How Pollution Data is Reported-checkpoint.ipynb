{
 "cells": [
  {
   "cell_type": "markdown",
   "metadata": {},
   "source": [
    "# How Pollution Data is Reported in Ulaanbaatar"
   ]
  },
  {
   "cell_type": "code",
   "execution_count": 59,
   "metadata": {},
   "outputs": [],
   "source": [
    "import pandas as pd\n",
    "import plotly\n",
    "import plotly.express as px\n",
    "import plotly.graph_objs as go\n",
    "import matplotlib.pyplot as plt\n",
    "import numpy as np\n",
    "%matplotlib inline\n",
    "plt.style.use('../mds.mplstyle')"
   ]
  },
  {
   "cell_type": "code",
   "execution_count": 74,
   "metadata": {},
   "outputs": [],
   "source": [
    "with open('../mapbox_key.txt', mode='r') as f:\n",
    "    mapbox_access_token = f.read()"
   ]
  },
  {
   "cell_type": "markdown",
   "metadata": {},
   "source": [
    "## Import Data"
   ]
  },
  {
   "cell_type": "code",
   "execution_count": 75,
   "metadata": {},
   "outputs": [],
   "source": [
    "stations = pd.read_csv('station_list.csv')"
   ]
  },
  {
   "cell_type": "code",
   "execution_count": 76,
   "metadata": {},
   "outputs": [
    {
     "data": {
      "text/html": [
       "<div>\n",
       "<style scoped>\n",
       "    .dataframe tbody tr th:only-of-type {\n",
       "        vertical-align: middle;\n",
       "    }\n",
       "\n",
       "    .dataframe tbody tr th {\n",
       "        vertical-align: top;\n",
       "    }\n",
       "\n",
       "    .dataframe thead th {\n",
       "        text-align: right;\n",
       "    }\n",
       "</style>\n",
       "<table border=\"1\" class=\"dataframe\">\n",
       "  <thead>\n",
       "    <tr style=\"text-align: right;\">\n",
       "      <th></th>\n",
       "      <th>name</th>\n",
       "      <th>name_mn</th>\n",
       "      <th>source</th>\n",
       "      <th>address</th>\n",
       "      <th>lat</th>\n",
       "      <th>lon</th>\n",
       "      <th>type</th>\n",
       "    </tr>\n",
       "  </thead>\n",
       "  <tbody>\n",
       "    <tr>\n",
       "      <td>0</td>\n",
       "      <td>Nisekh</td>\n",
       "      <td>Нисэх</td>\n",
       "      <td>agaar.mn</td>\n",
       "      <td>Улаанбаатар хот, Хан-Уул дүүрэг, 16-р хороо, Г...</td>\n",
       "      <td>47.863943</td>\n",
       "      <td>106.779094</td>\n",
       "      <td>PM10, PM2.5, CO, SO2, NO2, O3</td>\n",
       "    </tr>\n",
       "    <tr>\n",
       "      <td>1</td>\n",
       "      <td>Tolgoit</td>\n",
       "      <td>Толгойт</td>\n",
       "      <td>agaar.mn</td>\n",
       "      <td>Улаанбаатар хот, Сонгинохайрхан дүүрэг, 3-р хо...</td>\n",
       "      <td>47.922495</td>\n",
       "      <td>106.794805</td>\n",
       "      <td>PM10, PM2.5, CO, SO2, NO2, O3</td>\n",
       "    </tr>\n",
       "    <tr>\n",
       "      <td>2</td>\n",
       "      <td>MNB</td>\n",
       "      <td>МҮОНРТ</td>\n",
       "      <td>agaar.mn</td>\n",
       "      <td>Улаанбаатар хот, Баянгол дүүрэг, 11-р хороо, М...</td>\n",
       "      <td>47.929732</td>\n",
       "      <td>106.888629</td>\n",
       "      <td>PM10, PM2.5, CO, SO2, NO2, O3</td>\n",
       "    </tr>\n",
       "    <tr>\n",
       "      <td>3</td>\n",
       "      <td>Amgalan</td>\n",
       "      <td>Амгалан</td>\n",
       "      <td>agaar.mn</td>\n",
       "      <td>Улаанбаатар хот, Баянзүрх дүүрэг, 8-р хороо, Ө...</td>\n",
       "      <td>47.913429</td>\n",
       "      <td>106.997907</td>\n",
       "      <td>PM10, PM2.5, CO, SO2, NO2, O3</td>\n",
       "    </tr>\n",
       "    <tr>\n",
       "      <td>4</td>\n",
       "      <td>Misheel Expo</td>\n",
       "      <td>Мишээл экспо</td>\n",
       "      <td>agaar.mn</td>\n",
       "      <td>Улаанбаатар хот, Хан-Уул дүүрэг, 3-р хороо, Чи...</td>\n",
       "      <td>47.894339</td>\n",
       "      <td>106.882472</td>\n",
       "      <td>PM10, CO, SO2, NO2, O3</td>\n",
       "    </tr>\n",
       "  </tbody>\n",
       "</table>\n",
       "</div>"
      ],
      "text/plain": [
       "           name       name_mn    source  \\\n",
       "0        Nisekh         Нисэх  agaar.mn   \n",
       "1       Tolgoit       Толгойт  agaar.mn   \n",
       "2           MNB        МҮОНРТ  agaar.mn   \n",
       "3       Amgalan       Амгалан  agaar.mn   \n",
       "4  Misheel Expo  Мишээл экспо  agaar.mn   \n",
       "\n",
       "                                             address        lat         lon  \\\n",
       "0  Улаанбаатар хот, Хан-Уул дүүрэг, 16-р хороо, Г...  47.863943  106.779094   \n",
       "1  Улаанбаатар хот, Сонгинохайрхан дүүрэг, 3-р хо...  47.922495  106.794805   \n",
       "2  Улаанбаатар хот, Баянгол дүүрэг, 11-р хороо, М...  47.929732  106.888629   \n",
       "3  Улаанбаатар хот, Баянзүрх дүүрэг, 8-р хороо, Ө...  47.913429  106.997907   \n",
       "4  Улаанбаатар хот, Хан-Уул дүүрэг, 3-р хороо, Чи...  47.894339  106.882472   \n",
       "\n",
       "                            type  \n",
       "0  PM10, PM2.5, CO, SO2, NO2, O3  \n",
       "1  PM10, PM2.5, CO, SO2, NO2, O3  \n",
       "2  PM10, PM2.5, CO, SO2, NO2, O3  \n",
       "3  PM10, PM2.5, CO, SO2, NO2, O3  \n",
       "4         PM10, CO, SO2, NO2, O3  "
      ]
     },
     "execution_count": 76,
     "metadata": {},
     "output_type": "execute_result"
    }
   ],
   "source": [
    "stations.head()"
   ]
  },
  {
   "cell_type": "code",
   "execution_count": 77,
   "metadata": {},
   "outputs": [],
   "source": [
    "aqi_table = pd.read_csv('aqi_table.csv')"
   ]
  },
  {
   "cell_type": "code",
   "execution_count": 78,
   "metadata": {},
   "outputs": [
    {
     "data": {
      "text/html": [
       "<div>\n",
       "<style scoped>\n",
       "    .dataframe tbody tr th:only-of-type {\n",
       "        vertical-align: middle;\n",
       "    }\n",
       "\n",
       "    .dataframe tbody tr th {\n",
       "        vertical-align: top;\n",
       "    }\n",
       "\n",
       "    .dataframe thead th {\n",
       "        text-align: right;\n",
       "    }\n",
       "</style>\n",
       "<table border=\"1\" class=\"dataframe\">\n",
       "  <thead>\n",
       "    <tr style=\"text-align: right;\">\n",
       "      <th></th>\n",
       "      <th>concentration</th>\n",
       "      <th>aqi_mn</th>\n",
       "      <th>aqi_us</th>\n",
       "    </tr>\n",
       "  </thead>\n",
       "  <tbody>\n",
       "    <tr>\n",
       "      <td>0</td>\n",
       "      <td>0.0</td>\n",
       "      <td>0</td>\n",
       "      <td>0</td>\n",
       "    </tr>\n",
       "    <tr>\n",
       "      <td>1</td>\n",
       "      <td>0.1</td>\n",
       "      <td>0</td>\n",
       "      <td>0</td>\n",
       "    </tr>\n",
       "    <tr>\n",
       "      <td>2</td>\n",
       "      <td>0.2</td>\n",
       "      <td>0</td>\n",
       "      <td>1</td>\n",
       "    </tr>\n",
       "    <tr>\n",
       "      <td>3</td>\n",
       "      <td>0.3</td>\n",
       "      <td>0</td>\n",
       "      <td>1</td>\n",
       "    </tr>\n",
       "    <tr>\n",
       "      <td>4</td>\n",
       "      <td>0.4</td>\n",
       "      <td>1</td>\n",
       "      <td>2</td>\n",
       "    </tr>\n",
       "  </tbody>\n",
       "</table>\n",
       "</div>"
      ],
      "text/plain": [
       "   concentration  aqi_mn  aqi_us\n",
       "0            0.0       0       0\n",
       "1            0.1       0       0\n",
       "2            0.2       0       1\n",
       "3            0.3       0       1\n",
       "4            0.4       1       2"
      ]
     },
     "execution_count": 78,
     "metadata": {},
     "output_type": "execute_result"
    }
   ],
   "source": [
    "aqi_table.head()"
   ]
  },
  {
   "cell_type": "markdown",
   "metadata": {},
   "source": [
    "## Interactive Station Map"
   ]
  },
  {
   "cell_type": "code",
   "execution_count": 79,
   "metadata": {},
   "outputs": [
    {
     "data": {
      "application/vnd.plotly.v1+json": {
       "config": {
        "plotlyServerURL": "https://plot.ly"
       },
       "data": [
        {
         "customdata": [
          [
           "agaar.mn",
           "PM10, PM2.5, CO, SO2, NO2, O3"
          ],
          [
           "agaar.mn",
           "PM10, PM2.5, CO, SO2, NO2, O3"
          ],
          [
           "agaar.mn",
           "PM10, PM2.5, CO, SO2, NO2, O3"
          ],
          [
           "agaar.mn",
           "PM10, PM2.5, CO, SO2, NO2, O3"
          ],
          [
           "agaar.mn",
           "PM10, CO, SO2, NO2, O3"
          ],
          [
           "agaar.mn",
           "PM10, PM2.5, CO, SO2, NO2"
          ],
          [
           "agaar.mn",
           "PM10, PM2.5, CO, SO2, NO2, O3"
          ],
          [
           "agaar.mn",
           "PM10, CO, SO2, NO2, O3"
          ],
          [
           "agaar.mn",
           "PM10, CO, SO2, NO2"
          ],
          [
           "agaar.mn",
           "PM10, CO, SO2, NO2, O3"
          ],
          [
           "agaar.mn",
           "PM10, PM2.5, SO2"
          ],
          [
           "agaar.mn",
           "PM10, PM2.5, CO, SO2, NO2"
          ]
         ],
         "hoverlabel": {
          "namelength": 0
         },
         "hovertemplate": "<b>%{hovertext}</b><br><br>source=%{customdata[0]}<br>type=%{customdata[1]}<br>lat=%{lat}<br>lon=%{lon}",
         "hovertext": [
          "Nisekh",
          "Tolgoit",
          "MNB",
          "Amgalan",
          "Misheel Expo",
          "Baruun 4 Zam",
          "Wrestling Palace",
          "100 ail",
          "Mongol gazar",
          "Urgakh naran",
          "Bayankhoshuu",
          "#1 Khoroolol"
         ],
         "lat": [
          47.863943,
          47.922495,
          47.929732,
          47.913429,
          47.894338899999994,
          47.915383299999995,
          47.9176056,
          47.932905600000005,
          47.903538899999994,
          47.8664611,
          47.95756,
          47.917981
         ],
         "legendgroup": "source=agaar.mn",
         "lon": [
          106.779094,
          106.79480500000001,
          106.88862900000001,
          106.99790700000001,
          106.88247220000001,
          106.89419440000002,
          106.9373611,
          106.92138329999999,
          106.8507083,
          107.11801940000001,
          106.82275200000001,
          106.84806100000002
         ],
         "marker": {
          "color": "#636efa"
         },
         "mode": "markers",
         "name": "source=agaar.mn",
         "showlegend": true,
         "subplot": "mapbox",
         "type": "scattermapbox"
        },
        {
         "customdata": [
          [
           "tsag-agaar.gov.mn",
           "PM10, SO2, NO2"
          ],
          [
           "tsag-agaar.gov.mn",
           "SO2, NO2"
          ],
          [
           "tsag-agaar.gov.mn",
           "SO2, NO2"
          ],
          [
           "tsag-agaar.gov.mn",
           "SO2, NO2"
          ]
         ],
         "hoverlabel": {
          "namelength": 0
         },
         "hovertemplate": "<b>%{hovertext}</b><br><br>source=%{customdata[0]}<br>type=%{customdata[1]}<br>lat=%{lat}<br>lon=%{lon}",
         "hovertext": [
          "UB-11",
          "UB-3",
          "UB-9",
          "UB-6"
         ],
         "lat": [
          47.951,
          47.917,
          47.981,
          47.913000000000004
         ],
         "legendgroup": "source=tsag-agaar.gov.mn",
         "lon": [
          106.904,
          106.848,
          106.94,
          106.97200000000001
         ],
         "marker": {
          "color": "#EF553B"
         },
         "mode": "markers",
         "name": "source=tsag-agaar.gov.mn",
         "showlegend": true,
         "subplot": "mapbox",
         "type": "scattermapbox"
        },
        {
         "customdata": [
          [
           "stateair.mn",
           "PM2.5"
          ]
         ],
         "hoverlabel": {
          "namelength": 0
         },
         "hovertemplate": "<b>%{hovertext}</b><br><br>source=%{customdata[0]}<br>type=%{customdata[1]}<br>lat=%{lat}<br>lon=%{lon}",
         "hovertext": [
          "US Embassy"
         ],
         "lat": [
          47.928000000000004
         ],
         "legendgroup": "source=stateair.mn",
         "lon": [
          106.929
         ],
         "marker": {
          "color": "#00cc96"
         },
         "mode": "markers",
         "name": "source=stateair.mn",
         "showlegend": true,
         "subplot": "mapbox",
         "type": "scattermapbox"
        },
        {
         "customdata": [
          [
           "People in Need",
           "PM2.5"
          ],
          [
           "People in Need",
           "PM2.5"
          ],
          [
           "People in Need",
           "PM2.5"
          ],
          [
           "People in Need",
           "PM2.5"
          ],
          [
           "People in Need",
           "PM2.5"
          ],
          [
           "People in Need",
           "PM2.5"
          ],
          [
           "People in Need",
           "PM2.5"
          ],
          [
           "People in Need",
           "PM2.5"
          ],
          [
           "People in Need",
           "PM2.5"
          ],
          [
           "People in Need",
           "PM2.5"
          ],
          [
           "People in Need",
           "PM2.5"
          ],
          [
           "People in Need",
           "PM2.5"
          ],
          [
           "People in Need",
           "PM2.5"
          ],
          [
           "People in Need",
           "PM2.5"
          ],
          [
           "People in Need",
           "PM2.5"
          ],
          [
           "People in Need",
           "PM2.5"
          ]
         ],
         "hoverlabel": {
          "namelength": 0
         },
         "hovertemplate": "<b>%{hovertext}</b><br><br>source=%{customdata[0]}<br>type=%{customdata[1]}<br>lat=%{lat}<br>lon=%{lon}",
         "hovertext": [
          "Bayangol 9r khoroo",
          "Bayanzrukh 27r khoroo",
          "Bayanzurkh 21r khoroo",
          "Bayanzurkh 24r khoroo",
          "Bayanzurkh 2r khoroo",
          "Bayanzurkh 9r khoroo",
          "Songinoikhairkhan 26r khoroo",
          "Songinoikhairkhan 67r Surguuli",
          "Songinoikhairkhan 9r khoroo",
          "Songinokhairkhan",
          "Songinokhairkhan 3r khoroo",
          "Songinokhairkhan 5r khoroo",
          "Sukhbaatar 16r khoroo",
          "Sukhbaatar 9r khoroo",
          "Tuv Nomiin San",
          "Zaisan Buddha Garden"
         ],
         "lat": [
          47.924417,
          47.939127,
          47.953734000000004,
          47.925953,
          47.933671999999994,
          47.935863,
          47.937128,
          47.953246,
          47.957138,
          47.917981,
          47.922826,
          47.932849,
          47.968354999999995,
          47.929507,
          47.914649,
          47.885564
         ],
         "legendgroup": "source=People in Need",
         "lon": [
          106.865684,
          106.931421,
          106.943219,
          106.987388,
          106.93563400000001,
          107.006293,
          106.793034,
          106.82696200000001,
          106.83697099999999,
          106.84806100000002,
          106.79464499999999,
          106.81743200000001,
          106.929907,
          106.91383300000001,
          106.91701,
          106.91161000000001
         ],
         "marker": {
          "color": "#ab63fa"
         },
         "mode": "markers",
         "name": "source=People in Need",
         "showlegend": true,
         "subplot": "mapbox",
         "type": "scattermapbox"
        }
       ],
       "layout": {
        "autosize": true,
        "hovermode": "closest",
        "legend": {
         "tracegroupgap": 0
        },
        "mapbox": {
         "accesstoken": "pk.eyJ1Ijoicm9iZXJ0cml0eiIsImEiOiJjam01dGZtcnIxNDJhM3ZtbWZlMHFjZHc1In0.01rvohTgnLlD4VDtrQZX8g",
         "bearing": 0,
         "center": {
          "lat": 47.93,
          "lon": 106.91
         },
         "pitch": 0,
         "style": "dark",
         "zoom": 10.5
        },
        "margin": {
         "b": 0,
         "l": 30,
         "r": 0,
         "t": 40
        },
        "template": {
         "data": {
          "bar": [
           {
            "error_x": {
             "color": "#2a3f5f"
            },
            "error_y": {
             "color": "#2a3f5f"
            },
            "marker": {
             "line": {
              "color": "#E5ECF6",
              "width": 0.5
             }
            },
            "type": "bar"
           }
          ],
          "barpolar": [
           {
            "marker": {
             "line": {
              "color": "#E5ECF6",
              "width": 0.5
             }
            },
            "type": "barpolar"
           }
          ],
          "carpet": [
           {
            "aaxis": {
             "endlinecolor": "#2a3f5f",
             "gridcolor": "white",
             "linecolor": "white",
             "minorgridcolor": "white",
             "startlinecolor": "#2a3f5f"
            },
            "baxis": {
             "endlinecolor": "#2a3f5f",
             "gridcolor": "white",
             "linecolor": "white",
             "minorgridcolor": "white",
             "startlinecolor": "#2a3f5f"
            },
            "type": "carpet"
           }
          ],
          "choropleth": [
           {
            "colorbar": {
             "outlinewidth": 0,
             "ticks": ""
            },
            "type": "choropleth"
           }
          ],
          "contour": [
           {
            "colorbar": {
             "outlinewidth": 0,
             "ticks": ""
            },
            "colorscale": [
             [
              0,
              "#0d0887"
             ],
             [
              0.1111111111111111,
              "#46039f"
             ],
             [
              0.2222222222222222,
              "#7201a8"
             ],
             [
              0.3333333333333333,
              "#9c179e"
             ],
             [
              0.4444444444444444,
              "#bd3786"
             ],
             [
              0.5555555555555556,
              "#d8576b"
             ],
             [
              0.6666666666666666,
              "#ed7953"
             ],
             [
              0.7777777777777778,
              "#fb9f3a"
             ],
             [
              0.8888888888888888,
              "#fdca26"
             ],
             [
              1,
              "#f0f921"
             ]
            ],
            "type": "contour"
           }
          ],
          "contourcarpet": [
           {
            "colorbar": {
             "outlinewidth": 0,
             "ticks": ""
            },
            "type": "contourcarpet"
           }
          ],
          "heatmap": [
           {
            "colorbar": {
             "outlinewidth": 0,
             "ticks": ""
            },
            "colorscale": [
             [
              0,
              "#0d0887"
             ],
             [
              0.1111111111111111,
              "#46039f"
             ],
             [
              0.2222222222222222,
              "#7201a8"
             ],
             [
              0.3333333333333333,
              "#9c179e"
             ],
             [
              0.4444444444444444,
              "#bd3786"
             ],
             [
              0.5555555555555556,
              "#d8576b"
             ],
             [
              0.6666666666666666,
              "#ed7953"
             ],
             [
              0.7777777777777778,
              "#fb9f3a"
             ],
             [
              0.8888888888888888,
              "#fdca26"
             ],
             [
              1,
              "#f0f921"
             ]
            ],
            "type": "heatmap"
           }
          ],
          "heatmapgl": [
           {
            "colorbar": {
             "outlinewidth": 0,
             "ticks": ""
            },
            "colorscale": [
             [
              0,
              "#0d0887"
             ],
             [
              0.1111111111111111,
              "#46039f"
             ],
             [
              0.2222222222222222,
              "#7201a8"
             ],
             [
              0.3333333333333333,
              "#9c179e"
             ],
             [
              0.4444444444444444,
              "#bd3786"
             ],
             [
              0.5555555555555556,
              "#d8576b"
             ],
             [
              0.6666666666666666,
              "#ed7953"
             ],
             [
              0.7777777777777778,
              "#fb9f3a"
             ],
             [
              0.8888888888888888,
              "#fdca26"
             ],
             [
              1,
              "#f0f921"
             ]
            ],
            "type": "heatmapgl"
           }
          ],
          "histogram": [
           {
            "marker": {
             "colorbar": {
              "outlinewidth": 0,
              "ticks": ""
             }
            },
            "type": "histogram"
           }
          ],
          "histogram2d": [
           {
            "colorbar": {
             "outlinewidth": 0,
             "ticks": ""
            },
            "colorscale": [
             [
              0,
              "#0d0887"
             ],
             [
              0.1111111111111111,
              "#46039f"
             ],
             [
              0.2222222222222222,
              "#7201a8"
             ],
             [
              0.3333333333333333,
              "#9c179e"
             ],
             [
              0.4444444444444444,
              "#bd3786"
             ],
             [
              0.5555555555555556,
              "#d8576b"
             ],
             [
              0.6666666666666666,
              "#ed7953"
             ],
             [
              0.7777777777777778,
              "#fb9f3a"
             ],
             [
              0.8888888888888888,
              "#fdca26"
             ],
             [
              1,
              "#f0f921"
             ]
            ],
            "type": "histogram2d"
           }
          ],
          "histogram2dcontour": [
           {
            "colorbar": {
             "outlinewidth": 0,
             "ticks": ""
            },
            "colorscale": [
             [
              0,
              "#0d0887"
             ],
             [
              0.1111111111111111,
              "#46039f"
             ],
             [
              0.2222222222222222,
              "#7201a8"
             ],
             [
              0.3333333333333333,
              "#9c179e"
             ],
             [
              0.4444444444444444,
              "#bd3786"
             ],
             [
              0.5555555555555556,
              "#d8576b"
             ],
             [
              0.6666666666666666,
              "#ed7953"
             ],
             [
              0.7777777777777778,
              "#fb9f3a"
             ],
             [
              0.8888888888888888,
              "#fdca26"
             ],
             [
              1,
              "#f0f921"
             ]
            ],
            "type": "histogram2dcontour"
           }
          ],
          "mesh3d": [
           {
            "colorbar": {
             "outlinewidth": 0,
             "ticks": ""
            },
            "type": "mesh3d"
           }
          ],
          "parcoords": [
           {
            "line": {
             "colorbar": {
              "outlinewidth": 0,
              "ticks": ""
             }
            },
            "type": "parcoords"
           }
          ],
          "scatter": [
           {
            "marker": {
             "colorbar": {
              "outlinewidth": 0,
              "ticks": ""
             }
            },
            "type": "scatter"
           }
          ],
          "scatter3d": [
           {
            "line": {
             "colorbar": {
              "outlinewidth": 0,
              "ticks": ""
             }
            },
            "marker": {
             "colorbar": {
              "outlinewidth": 0,
              "ticks": ""
             }
            },
            "type": "scatter3d"
           }
          ],
          "scattercarpet": [
           {
            "marker": {
             "colorbar": {
              "outlinewidth": 0,
              "ticks": ""
             }
            },
            "type": "scattercarpet"
           }
          ],
          "scattergeo": [
           {
            "marker": {
             "colorbar": {
              "outlinewidth": 0,
              "ticks": ""
             }
            },
            "type": "scattergeo"
           }
          ],
          "scattergl": [
           {
            "marker": {
             "colorbar": {
              "outlinewidth": 0,
              "ticks": ""
             }
            },
            "type": "scattergl"
           }
          ],
          "scattermapbox": [
           {
            "marker": {
             "colorbar": {
              "outlinewidth": 0,
              "ticks": ""
             }
            },
            "type": "scattermapbox"
           }
          ],
          "scatterpolar": [
           {
            "marker": {
             "colorbar": {
              "outlinewidth": 0,
              "ticks": ""
             }
            },
            "type": "scatterpolar"
           }
          ],
          "scatterpolargl": [
           {
            "marker": {
             "colorbar": {
              "outlinewidth": 0,
              "ticks": ""
             }
            },
            "type": "scatterpolargl"
           }
          ],
          "scatterternary": [
           {
            "marker": {
             "colorbar": {
              "outlinewidth": 0,
              "ticks": ""
             }
            },
            "type": "scatterternary"
           }
          ],
          "surface": [
           {
            "colorbar": {
             "outlinewidth": 0,
             "ticks": ""
            },
            "colorscale": [
             [
              0,
              "#0d0887"
             ],
             [
              0.1111111111111111,
              "#46039f"
             ],
             [
              0.2222222222222222,
              "#7201a8"
             ],
             [
              0.3333333333333333,
              "#9c179e"
             ],
             [
              0.4444444444444444,
              "#bd3786"
             ],
             [
              0.5555555555555556,
              "#d8576b"
             ],
             [
              0.6666666666666666,
              "#ed7953"
             ],
             [
              0.7777777777777778,
              "#fb9f3a"
             ],
             [
              0.8888888888888888,
              "#fdca26"
             ],
             [
              1,
              "#f0f921"
             ]
            ],
            "type": "surface"
           }
          ],
          "table": [
           {
            "cells": {
             "fill": {
              "color": "#EBF0F8"
             },
             "line": {
              "color": "white"
             }
            },
            "header": {
             "fill": {
              "color": "#C8D4E3"
             },
             "line": {
              "color": "white"
             }
            },
            "type": "table"
           }
          ]
         },
         "layout": {
          "annotationdefaults": {
           "arrowcolor": "#2a3f5f",
           "arrowhead": 0,
           "arrowwidth": 1
          },
          "colorscale": {
           "diverging": [
            [
             0,
             "#8e0152"
            ],
            [
             0.1,
             "#c51b7d"
            ],
            [
             0.2,
             "#de77ae"
            ],
            [
             0.3,
             "#f1b6da"
            ],
            [
             0.4,
             "#fde0ef"
            ],
            [
             0.5,
             "#f7f7f7"
            ],
            [
             0.6,
             "#e6f5d0"
            ],
            [
             0.7,
             "#b8e186"
            ],
            [
             0.8,
             "#7fbc41"
            ],
            [
             0.9,
             "#4d9221"
            ],
            [
             1,
             "#276419"
            ]
           ],
           "sequential": [
            [
             0,
             "#0d0887"
            ],
            [
             0.1111111111111111,
             "#46039f"
            ],
            [
             0.2222222222222222,
             "#7201a8"
            ],
            [
             0.3333333333333333,
             "#9c179e"
            ],
            [
             0.4444444444444444,
             "#bd3786"
            ],
            [
             0.5555555555555556,
             "#d8576b"
            ],
            [
             0.6666666666666666,
             "#ed7953"
            ],
            [
             0.7777777777777778,
             "#fb9f3a"
            ],
            [
             0.8888888888888888,
             "#fdca26"
            ],
            [
             1,
             "#f0f921"
            ]
           ],
           "sequentialminus": [
            [
             0,
             "#0d0887"
            ],
            [
             0.1111111111111111,
             "#46039f"
            ],
            [
             0.2222222222222222,
             "#7201a8"
            ],
            [
             0.3333333333333333,
             "#9c179e"
            ],
            [
             0.4444444444444444,
             "#bd3786"
            ],
            [
             0.5555555555555556,
             "#d8576b"
            ],
            [
             0.6666666666666666,
             "#ed7953"
            ],
            [
             0.7777777777777778,
             "#fb9f3a"
            ],
            [
             0.8888888888888888,
             "#fdca26"
            ],
            [
             1,
             "#f0f921"
            ]
           ]
          },
          "colorway": [
           "#636efa",
           "#EF553B",
           "#00cc96",
           "#ab63fa",
           "#FFA15A",
           "#19d3f3",
           "#FF6692",
           "#B6E880",
           "#FF97FF",
           "#FECB52"
          ],
          "font": {
           "color": "#2a3f5f"
          },
          "geo": {
           "bgcolor": "white",
           "lakecolor": "white",
           "landcolor": "#E5ECF6",
           "showlakes": true,
           "showland": true,
           "subunitcolor": "white"
          },
          "hoverlabel": {
           "align": "left"
          },
          "hovermode": "closest",
          "mapbox": {
           "style": "light"
          },
          "paper_bgcolor": "white",
          "plot_bgcolor": "#E5ECF6",
          "polar": {
           "angularaxis": {
            "gridcolor": "white",
            "linecolor": "white",
            "ticks": ""
           },
           "bgcolor": "#E5ECF6",
           "radialaxis": {
            "gridcolor": "white",
            "linecolor": "white",
            "ticks": ""
           }
          },
          "scene": {
           "xaxis": {
            "backgroundcolor": "#E5ECF6",
            "gridcolor": "white",
            "gridwidth": 2,
            "linecolor": "white",
            "showbackground": true,
            "ticks": "",
            "zerolinecolor": "white"
           },
           "yaxis": {
            "backgroundcolor": "#E5ECF6",
            "gridcolor": "white",
            "gridwidth": 2,
            "linecolor": "white",
            "showbackground": true,
            "ticks": "",
            "zerolinecolor": "white"
           },
           "zaxis": {
            "backgroundcolor": "#E5ECF6",
            "gridcolor": "white",
            "gridwidth": 2,
            "linecolor": "white",
            "showbackground": true,
            "ticks": "",
            "zerolinecolor": "white"
           }
          },
          "shapedefaults": {
           "line": {
            "color": "#2a3f5f"
           }
          },
          "ternary": {
           "aaxis": {
            "gridcolor": "white",
            "linecolor": "white",
            "ticks": ""
           },
           "baxis": {
            "gridcolor": "white",
            "linecolor": "white",
            "ticks": ""
           },
           "bgcolor": "#E5ECF6",
           "caxis": {
            "gridcolor": "white",
            "linecolor": "white",
            "ticks": ""
           }
          },
          "title": {
           "x": 0.05
          },
          "xaxis": {
           "automargin": true,
           "gridcolor": "white",
           "linecolor": "white",
           "ticks": "",
           "zerolinecolor": "white",
           "zerolinewidth": 2
          },
          "yaxis": {
           "automargin": true,
           "gridcolor": "white",
           "linecolor": "white",
           "ticks": "",
           "zerolinecolor": "white",
           "zerolinewidth": 2
          }
         }
        },
        "title": {
         "font": {
          "size": 18
         },
         "text": "Ulaanbaatar Air Quality Stations"
        }
       }
      },
      "image/png": "[encoded data removed]",
      "text/html": [
       "<div>\n",
       "        \n",
       "        \n",
       "            <div id=\"0b878afc-3f72-4f03-81dd-f604ca3d4907\" class=\"plotly-graph-div\" style=\"height:400px; width:100%;\"></div>\n",
       "            <script type=\"text/javascript\">\n",
       "                require([\"plotly\"], function(Plotly) {\n",
       "                    window.PLOTLYENV=window.PLOTLYENV || {};\n",
       "                    \n",
       "                if (document.getElementById(\"0b878afc-3f72-4f03-81dd-f604ca3d4907\")) {\n",
       "                    Plotly.newPlot(\n",
       "                        '0b878afc-3f72-4f03-81dd-f604ca3d4907',\n",
       "                        [{\"customdata\": [[\"agaar.mn\", \"PM10, PM2.5, CO, SO2, NO2, O3\"], [\"agaar.mn\", \"PM10, PM2.5, CO, SO2, NO2, O3\"], [\"agaar.mn\", \"PM10, PM2.5, CO, SO2, NO2, O3\"], [\"agaar.mn\", \"PM10, PM2.5, CO, SO2, NO2, O3\"], [\"agaar.mn\", \"PM10, CO, SO2, NO2, O3\"], [\"agaar.mn\", \"PM10, PM2.5, CO, SO2, NO2\"], [\"agaar.mn\", \"PM10, PM2.5, CO, SO2, NO2, O3\"], [\"agaar.mn\", \"PM10, CO, SO2, NO2, O3\"], [\"agaar.mn\", \"PM10, CO, SO2, NO2\"], [\"agaar.mn\", \"PM10, CO, SO2, NO2, O3\"], [\"agaar.mn\", \"PM10, PM2.5, SO2\"], [\"agaar.mn\", \"PM10, PM2.5, CO, SO2, NO2\"]], \"hoverlabel\": {\"namelength\": 0}, \"hovertemplate\": \"<b>%{hovertext}</b><br><br>source=%{customdata[0]}<br>type=%{customdata[1]}<br>lat=%{lat}<br>lon=%{lon}\", \"hovertext\": [\"Nisekh\", \"Tolgoit\", \"MNB\", \"Amgalan\", \"Misheel Expo\", \"Baruun 4 Zam\", \"Wrestling Palace\", \"100 ail\", \"Mongol gazar\", \"Urgakh naran\", \"Bayankhoshuu\", \"#1 Khoroolol\"], \"lat\": [47.863943, 47.922495, 47.929732, 47.913429, 47.894338899999994, 47.915383299999995, 47.9176056, 47.932905600000005, 47.903538899999994, 47.8664611, 47.95756, 47.917981], \"legendgroup\": \"source=agaar.mn\", \"lon\": [106.779094, 106.79480500000001, 106.88862900000001, 106.99790700000001, 106.88247220000001, 106.89419440000002, 106.9373611, 106.92138329999999, 106.8507083, 107.11801940000001, 106.82275200000001, 106.84806100000002], \"marker\": {\"color\": \"#636efa\"}, \"mode\": \"markers\", \"name\": \"source=agaar.mn\", \"showlegend\": true, \"subplot\": \"mapbox\", \"type\": \"scattermapbox\"}, {\"customdata\": [[\"tsag-agaar.gov.mn\", \"PM10, SO2, NO2\"], [\"tsag-agaar.gov.mn\", \"SO2, NO2\"], [\"tsag-agaar.gov.mn\", \"SO2, NO2\"], [\"tsag-agaar.gov.mn\", \"SO2, NO2\"]], \"hoverlabel\": {\"namelength\": 0}, \"hovertemplate\": \"<b>%{hovertext}</b><br><br>source=%{customdata[0]}<br>type=%{customdata[1]}<br>lat=%{lat}<br>lon=%{lon}\", \"hovertext\": [\"UB-11\", \"UB-3\", \"UB-9\", \"UB-6\"], \"lat\": [47.951, 47.917, 47.981, 47.913000000000004], \"legendgroup\": \"source=tsag-agaar.gov.mn\", \"lon\": [106.904, 106.848, 106.94, 106.97200000000001], \"marker\": {\"color\": \"#EF553B\"}, \"mode\": \"markers\", \"name\": \"source=tsag-agaar.gov.mn\", \"showlegend\": true, \"subplot\": \"mapbox\", \"type\": \"scattermapbox\"}, {\"customdata\": [[\"stateair.mn\", \"PM2.5\"]], \"hoverlabel\": {\"namelength\": 0}, \"hovertemplate\": \"<b>%{hovertext}</b><br><br>source=%{customdata[0]}<br>type=%{customdata[1]}<br>lat=%{lat}<br>lon=%{lon}\", \"hovertext\": [\"US Embassy\"], \"lat\": [47.928000000000004], \"legendgroup\": \"source=stateair.mn\", \"lon\": [106.929], \"marker\": {\"color\": \"#00cc96\"}, \"mode\": \"markers\", \"name\": \"source=stateair.mn\", \"showlegend\": true, \"subplot\": \"mapbox\", \"type\": \"scattermapbox\"}, {\"customdata\": [[\"People in Need\", \"PM2.5\"], [\"People in Need\", \"PM2.5\"], [\"People in Need\", \"PM2.5\"], [\"People in Need\", \"PM2.5\"], [\"People in Need\", \"PM2.5\"], [\"People in Need\", \"PM2.5\"], [\"People in Need\", \"PM2.5\"], [\"People in Need\", \"PM2.5\"], [\"People in Need\", \"PM2.5\"], [\"People in Need\", \"PM2.5\"], [\"People in Need\", \"PM2.5\"], [\"People in Need\", \"PM2.5\"], [\"People in Need\", \"PM2.5\"], [\"People in Need\", \"PM2.5\"], [\"People in Need\", \"PM2.5\"], [\"People in Need\", \"PM2.5\"]], \"hoverlabel\": {\"namelength\": 0}, \"hovertemplate\": \"<b>%{hovertext}</b><br><br>source=%{customdata[0]}<br>type=%{customdata[1]}<br>lat=%{lat}<br>lon=%{lon}\", \"hovertext\": [\"Bayangol 9r khoroo\", \"Bayanzrukh 27r khoroo\", \"Bayanzurkh 21r khoroo\", \"Bayanzurkh 24r khoroo\", \"Bayanzurkh 2r khoroo\", \"Bayanzurkh 9r khoroo\", \"Songinoikhairkhan 26r khoroo\", \"Songinoikhairkhan 67r Surguuli\", \"Songinoikhairkhan 9r khoroo\", \"Songinokhairkhan\", \"Songinokhairkhan 3r khoroo\", \"Songinokhairkhan 5r khoroo\", \"Sukhbaatar 16r khoroo\", \"Sukhbaatar 9r khoroo\", \"Tuv Nomiin San\", \"Zaisan Buddha Garden\"], \"lat\": [47.924417, 47.939127, 47.953734000000004, 47.925953, 47.933671999999994, 47.935863, 47.937128, 47.953246, 47.957138, 47.917981, 47.922826, 47.932849, 47.968354999999995, 47.929507, 47.914649, 47.885564], \"legendgroup\": \"source=People in Need\", \"lon\": [106.865684, 106.931421, 106.943219, 106.987388, 106.93563400000001, 107.006293, 106.793034, 106.82696200000001, 106.83697099999999, 106.84806100000002, 106.79464499999999, 106.81743200000001, 106.929907, 106.91383300000001, 106.91701, 106.91161000000001], \"marker\": {\"color\": \"#ab63fa\"}, \"mode\": \"markers\", \"name\": \"source=People in Need\", \"showlegend\": true, \"subplot\": \"mapbox\", \"type\": \"scattermapbox\"}],\n",
       "                        {\"height\": 400, \"hovermode\": \"closest\", \"legend\": {\"tracegroupgap\": 0}, \"mapbox\": {\"accesstoken\": \"pk.eyJ1Ijoicm9iZXJ0cml0eiIsImEiOiJjam01dGZtcnIxNDJhM3ZtbWZlMHFjZHc1In0.01rvohTgnLlD4VDtrQZX8g\", \"bearing\": 0, \"center\": {\"lat\": 47.93, \"lon\": 106.91}, \"pitch\": 0, \"style\": \"dark\", \"zoom\": 10.5}, \"margin\": {\"b\": 0, \"l\": 30, \"r\": 0, \"t\": 40}, \"template\": {\"data\": {\"bar\": [{\"error_x\": {\"color\": \"#2a3f5f\"}, \"error_y\": {\"color\": \"#2a3f5f\"}, \"marker\": {\"line\": {\"color\": \"#E5ECF6\", \"width\": 0.5}}, \"type\": \"bar\"}], \"barpolar\": [{\"marker\": {\"line\": {\"color\": \"#E5ECF6\", \"width\": 0.5}}, \"type\": \"barpolar\"}], \"carpet\": [{\"aaxis\": {\"endlinecolor\": \"#2a3f5f\", \"gridcolor\": \"white\", \"linecolor\": \"white\", \"minorgridcolor\": \"white\", \"startlinecolor\": \"#2a3f5f\"}, \"baxis\": {\"endlinecolor\": \"#2a3f5f\", \"gridcolor\": \"white\", \"linecolor\": \"white\", \"minorgridcolor\": \"white\", \"startlinecolor\": \"#2a3f5f\"}, \"type\": \"carpet\"}], \"choropleth\": [{\"colorbar\": {\"outlinewidth\": 0, \"ticks\": \"\"}, \"type\": \"choropleth\"}], \"contour\": [{\"colorbar\": {\"outlinewidth\": 0, \"ticks\": \"\"}, \"colorscale\": [[0.0, \"#0d0887\"], [0.1111111111111111, \"#46039f\"], [0.2222222222222222, \"#7201a8\"], [0.3333333333333333, \"#9c179e\"], [0.4444444444444444, \"#bd3786\"], [0.5555555555555556, \"#d8576b\"], [0.6666666666666666, \"#ed7953\"], [0.7777777777777778, \"#fb9f3a\"], [0.8888888888888888, \"#fdca26\"], [1.0, \"#f0f921\"]], \"type\": \"contour\"}], \"contourcarpet\": [{\"colorbar\": {\"outlinewidth\": 0, \"ticks\": \"\"}, \"type\": \"contourcarpet\"}], \"heatmap\": [{\"colorbar\": {\"outlinewidth\": 0, \"ticks\": \"\"}, \"colorscale\": [[0.0, \"#0d0887\"], [0.1111111111111111, \"#46039f\"], [0.2222222222222222, \"#7201a8\"], [0.3333333333333333, \"#9c179e\"], [0.4444444444444444, \"#bd3786\"], [0.5555555555555556, \"#d8576b\"], [0.6666666666666666, \"#ed7953\"], [0.7777777777777778, \"#fb9f3a\"], [0.8888888888888888, \"#fdca26\"], [1.0, \"#f0f921\"]], \"type\": \"heatmap\"}], \"heatmapgl\": [{\"colorbar\": {\"outlinewidth\": 0, \"ticks\": \"\"}, \"colorscale\": [[0.0, \"#0d0887\"], [0.1111111111111111, \"#46039f\"], [0.2222222222222222, \"#7201a8\"], [0.3333333333333333, \"#9c179e\"], [0.4444444444444444, \"#bd3786\"], [0.5555555555555556, \"#d8576b\"], [0.6666666666666666, \"#ed7953\"], [0.7777777777777778, \"#fb9f3a\"], [0.8888888888888888, \"#fdca26\"], [1.0, \"#f0f921\"]], \"type\": \"heatmapgl\"}], \"histogram\": [{\"marker\": {\"colorbar\": {\"outlinewidth\": 0, \"ticks\": \"\"}}, \"type\": \"histogram\"}], \"histogram2d\": [{\"colorbar\": {\"outlinewidth\": 0, \"ticks\": \"\"}, \"colorscale\": [[0.0, \"#0d0887\"], [0.1111111111111111, \"#46039f\"], [0.2222222222222222, \"#7201a8\"], [0.3333333333333333, \"#9c179e\"], [0.4444444444444444, \"#bd3786\"], [0.5555555555555556, \"#d8576b\"], [0.6666666666666666, \"#ed7953\"], [0.7777777777777778, \"#fb9f3a\"], [0.8888888888888888, \"#fdca26\"], [1.0, \"#f0f921\"]], \"type\": \"histogram2d\"}], \"histogram2dcontour\": [{\"colorbar\": {\"outlinewidth\": 0, \"ticks\": \"\"}, \"colorscale\": [[0.0, \"#0d0887\"], [0.1111111111111111, \"#46039f\"], [0.2222222222222222, \"#7201a8\"], [0.3333333333333333, \"#9c179e\"], [0.4444444444444444, \"#bd3786\"], [0.5555555555555556, \"#d8576b\"], [0.6666666666666666, \"#ed7953\"], [0.7777777777777778, \"#fb9f3a\"], [0.8888888888888888, \"#fdca26\"], [1.0, \"#f0f921\"]], \"type\": \"histogram2dcontour\"}], \"mesh3d\": [{\"colorbar\": {\"outlinewidth\": 0, \"ticks\": \"\"}, \"type\": \"mesh3d\"}], \"parcoords\": [{\"line\": {\"colorbar\": {\"outlinewidth\": 0, \"ticks\": \"\"}}, \"type\": \"parcoords\"}], \"scatter\": [{\"marker\": {\"colorbar\": {\"outlinewidth\": 0, \"ticks\": \"\"}}, \"type\": \"scatter\"}], \"scatter3d\": [{\"line\": {\"colorbar\": {\"outlinewidth\": 0, \"ticks\": \"\"}}, \"marker\": {\"colorbar\": {\"outlinewidth\": 0, \"ticks\": \"\"}}, \"type\": \"scatter3d\"}], \"scattercarpet\": [{\"marker\": {\"colorbar\": {\"outlinewidth\": 0, \"ticks\": \"\"}}, \"type\": \"scattercarpet\"}], \"scattergeo\": [{\"marker\": {\"colorbar\": {\"outlinewidth\": 0, \"ticks\": \"\"}}, \"type\": \"scattergeo\"}], \"scattergl\": [{\"marker\": {\"colorbar\": {\"outlinewidth\": 0, \"ticks\": \"\"}}, \"type\": \"scattergl\"}], \"scattermapbox\": [{\"marker\": {\"colorbar\": {\"outlinewidth\": 0, \"ticks\": \"\"}}, \"type\": \"scattermapbox\"}], \"scatterpolar\": [{\"marker\": {\"colorbar\": {\"outlinewidth\": 0, \"ticks\": \"\"}}, \"type\": \"scatterpolar\"}], \"scatterpolargl\": [{\"marker\": {\"colorbar\": {\"outlinewidth\": 0, \"ticks\": \"\"}}, \"type\": \"scatterpolargl\"}], \"scatterternary\": [{\"marker\": {\"colorbar\": {\"outlinewidth\": 0, \"ticks\": \"\"}}, \"type\": \"scatterternary\"}], \"surface\": [{\"colorbar\": {\"outlinewidth\": 0, \"ticks\": \"\"}, \"colorscale\": [[0.0, \"#0d0887\"], [0.1111111111111111, \"#46039f\"], [0.2222222222222222, \"#7201a8\"], [0.3333333333333333, \"#9c179e\"], [0.4444444444444444, \"#bd3786\"], [0.5555555555555556, \"#d8576b\"], [0.6666666666666666, \"#ed7953\"], [0.7777777777777778, \"#fb9f3a\"], [0.8888888888888888, \"#fdca26\"], [1.0, \"#f0f921\"]], \"type\": \"surface\"}], \"table\": [{\"cells\": {\"fill\": {\"color\": \"#EBF0F8\"}, \"line\": {\"color\": \"white\"}}, \"header\": {\"fill\": {\"color\": \"#C8D4E3\"}, \"line\": {\"color\": \"white\"}}, \"type\": \"table\"}]}, \"layout\": {\"annotationdefaults\": {\"arrowcolor\": \"#2a3f5f\", \"arrowhead\": 0, \"arrowwidth\": 1}, \"colorscale\": {\"diverging\": [[0, \"#8e0152\"], [0.1, \"#c51b7d\"], [0.2, \"#de77ae\"], [0.3, \"#f1b6da\"], [0.4, \"#fde0ef\"], [0.5, \"#f7f7f7\"], [0.6, \"#e6f5d0\"], [0.7, \"#b8e186\"], [0.8, \"#7fbc41\"], [0.9, \"#4d9221\"], [1, \"#276419\"]], \"sequential\": [[0.0, \"#0d0887\"], [0.1111111111111111, \"#46039f\"], [0.2222222222222222, \"#7201a8\"], [0.3333333333333333, \"#9c179e\"], [0.4444444444444444, \"#bd3786\"], [0.5555555555555556, \"#d8576b\"], [0.6666666666666666, \"#ed7953\"], [0.7777777777777778, \"#fb9f3a\"], [0.8888888888888888, \"#fdca26\"], [1.0, \"#f0f921\"]], \"sequentialminus\": [[0.0, \"#0d0887\"], [0.1111111111111111, \"#46039f\"], [0.2222222222222222, \"#7201a8\"], [0.3333333333333333, \"#9c179e\"], [0.4444444444444444, \"#bd3786\"], [0.5555555555555556, \"#d8576b\"], [0.6666666666666666, \"#ed7953\"], [0.7777777777777778, \"#fb9f3a\"], [0.8888888888888888, \"#fdca26\"], [1.0, \"#f0f921\"]]}, \"colorway\": [\"#636efa\", \"#EF553B\", \"#00cc96\", \"#ab63fa\", \"#FFA15A\", \"#19d3f3\", \"#FF6692\", \"#B6E880\", \"#FF97FF\", \"#FECB52\"], \"font\": {\"color\": \"#2a3f5f\"}, \"geo\": {\"bgcolor\": \"white\", \"lakecolor\": \"white\", \"landcolor\": \"#E5ECF6\", \"showlakes\": true, \"showland\": true, \"subunitcolor\": \"white\"}, \"hoverlabel\": {\"align\": \"left\"}, \"hovermode\": \"closest\", \"mapbox\": {\"style\": \"light\"}, \"paper_bgcolor\": \"white\", \"plot_bgcolor\": \"#E5ECF6\", \"polar\": {\"angularaxis\": {\"gridcolor\": \"white\", \"linecolor\": \"white\", \"ticks\": \"\"}, \"bgcolor\": \"#E5ECF6\", \"radialaxis\": {\"gridcolor\": \"white\", \"linecolor\": \"white\", \"ticks\": \"\"}}, \"scene\": {\"xaxis\": {\"backgroundcolor\": \"#E5ECF6\", \"gridcolor\": \"white\", \"gridwidth\": 2, \"linecolor\": \"white\", \"showbackground\": true, \"ticks\": \"\", \"zerolinecolor\": \"white\"}, \"yaxis\": {\"backgroundcolor\": \"#E5ECF6\", \"gridcolor\": \"white\", \"gridwidth\": 2, \"linecolor\": \"white\", \"showbackground\": true, \"ticks\": \"\", \"zerolinecolor\": \"white\"}, \"zaxis\": {\"backgroundcolor\": \"#E5ECF6\", \"gridcolor\": \"white\", \"gridwidth\": 2, \"linecolor\": \"white\", \"showbackground\": true, \"ticks\": \"\", \"zerolinecolor\": \"white\"}}, \"shapedefaults\": {\"line\": {\"color\": \"#2a3f5f\"}}, \"ternary\": {\"aaxis\": {\"gridcolor\": \"white\", \"linecolor\": \"white\", \"ticks\": \"\"}, \"baxis\": {\"gridcolor\": \"white\", \"linecolor\": \"white\", \"ticks\": \"\"}, \"bgcolor\": \"#E5ECF6\", \"caxis\": {\"gridcolor\": \"white\", \"linecolor\": \"white\", \"ticks\": \"\"}}, \"title\": {\"x\": 0.05}, \"xaxis\": {\"automargin\": true, \"gridcolor\": \"white\", \"linecolor\": \"white\", \"ticks\": \"\", \"zerolinecolor\": \"white\", \"zerolinewidth\": 2}, \"yaxis\": {\"automargin\": true, \"gridcolor\": \"white\", \"linecolor\": \"white\", \"ticks\": \"\", \"zerolinecolor\": \"white\", \"zerolinewidth\": 2}}}, \"title\": {\"font\": {\"size\": 18}, \"text\": \"Ulaanbaatar Air Quality Stations\"}},\n",
       "                        {\"responsive\": true}\n",
       "                    ).then(function(){\n",
       "                            \n",
       "var gd = document.getElementById('0b878afc-3f72-4f03-81dd-f604ca3d4907');\n",
       "var x = new MutationObserver(function (mutations, observer) {{\n",
       "        var display = window.getComputedStyle(gd).display;\n",
       "        if (!display || display === 'none') {{\n",
       "            console.log([gd, 'removed!']);\n",
       "            Plotly.purge(gd);\n",
       "            observer.disconnect();\n",
       "        }}\n",
       "}});\n",
       "\n",
       "// Listen for the removal of the full notebook cells\n",
       "var notebookContainer = gd.closest('#notebook-container');\n",
       "if (notebookContainer) {{\n",
       "    x.observe(notebookContainer, {childList: true});\n",
       "}}\n",
       "\n",
       "// Listen for the clearing of the current output cell\n",
       "var outputEl = gd.closest('.output');\n",
       "if (outputEl) {{\n",
       "    x.observe(outputEl, {childList: true});\n",
       "}}\n",
       "\n",
       "                        })\n",
       "                };\n",
       "                });\n",
       "            </script>\n",
       "        </div>"
      ]
     },
     "metadata": {},
     "output_type": "display_data"
    }
   ],
   "source": [
    "fig = px.scatter_mapbox(stations, lat=\"lat\", lon=\"lon\", hover_name=\"name\", color='source', hover_data=['source','type'], \n",
    "                        zoom=10, height=400)\n",
    "fig.update_layout(\n",
    "    hovermode='closest',\n",
    "    mapbox=go.layout.Mapbox(\n",
    "        accesstoken=mapbox_token,\n",
    "        bearing=0,\n",
    "        center=go.layout.mapbox.Center(\n",
    "            lat=47.93,\n",
    "            lon=106.91\n",
    "        ),\n",
    "        pitch=0,\n",
    "        style='dark',\n",
    "        zoom=10.5\n",
    "    ),\n",
    "    margin={\"r\":0,\"t\":40,\"l\":30,\"b\":0},\n",
    "    title_text='Ulaanbaatar Air Quality Stations',\n",
    "    title_font_size=18\n",
    ")\n",
    "\n",
    "fig.show()"
   ]
  },
  {
   "cell_type": "markdown",
   "metadata": {},
   "source": [
    "## March 2019 Update to Ministry of Environment"
   ]
  },
  {
   "cell_type": "markdown",
   "metadata": {},
   "source": [
    "Link to [Ministry Document](http://agaar.mn/files/article/692/%D0%90%D0%B3%D0%B0%D0%B0%D1%80%D1%8B%D0%BD%20%D1%87%D0%B0%D0%BD%D0%B0%D1%80%D1%8B%D0%BD%20%D0%B8%D0%BD%D0%B4%D0%B5%D0%BA%D1%81%D1%8D%D1%8D%D1%80%20%D0%B0%D0%B3%D0%B0%D0%B0%D1%80%D1%8B%D0%BD%20%D1%87%D0%B0%D0%BD%D0%B0%D1%80%D1%8B%D0%B3%20%D2%AF%D0%BD%D1%8D%D0%BB%D1%8D%D1%85,%20%D0%BC%D1%8D%D0%B4%D1%8D%D1%8D%D0%BB%D1%8D%D1%85%20%D0%B6%D1%83%D1%80%D0%B0%D0%BC.pdf). Link to [EPA Document](https://www3.epa.gov/airnow/aqi-technical-assistance-document-sept2018.pdf)."
   ]
  },
  {
   "cell_type": "code",
   "execution_count": 67,
   "metadata": {},
   "outputs": [
    {
     "data": {
      "text/html": [
       "<div>\n",
       "<style scoped>\n",
       "    .dataframe tbody tr th:only-of-type {\n",
       "        vertical-align: middle;\n",
       "    }\n",
       "\n",
       "    .dataframe tbody tr th {\n",
       "        vertical-align: top;\n",
       "    }\n",
       "\n",
       "    .dataframe thead th {\n",
       "        text-align: right;\n",
       "    }\n",
       "</style>\n",
       "<table border=\"1\" class=\"dataframe\">\n",
       "  <thead>\n",
       "    <tr style=\"text-align: right;\">\n",
       "      <th></th>\n",
       "      <th>concentration</th>\n",
       "      <th>aqi_mn</th>\n",
       "      <th>aqi_us</th>\n",
       "    </tr>\n",
       "  </thead>\n",
       "  <tbody>\n",
       "    <tr>\n",
       "      <td>0</td>\n",
       "      <td>0.0</td>\n",
       "      <td>0</td>\n",
       "      <td>0</td>\n",
       "    </tr>\n",
       "    <tr>\n",
       "      <td>1</td>\n",
       "      <td>0.1</td>\n",
       "      <td>0</td>\n",
       "      <td>0</td>\n",
       "    </tr>\n",
       "    <tr>\n",
       "      <td>2</td>\n",
       "      <td>0.2</td>\n",
       "      <td>0</td>\n",
       "      <td>1</td>\n",
       "    </tr>\n",
       "    <tr>\n",
       "      <td>3</td>\n",
       "      <td>0.3</td>\n",
       "      <td>0</td>\n",
       "      <td>1</td>\n",
       "    </tr>\n",
       "    <tr>\n",
       "      <td>4</td>\n",
       "      <td>0.4</td>\n",
       "      <td>1</td>\n",
       "      <td>2</td>\n",
       "    </tr>\n",
       "  </tbody>\n",
       "</table>\n",
       "</div>"
      ],
      "text/plain": [
       "   concentration  aqi_mn  aqi_us\n",
       "0            0.0       0       0\n",
       "1            0.1       0       0\n",
       "2            0.2       0       1\n",
       "3            0.3       0       1\n",
       "4            0.4       1       2"
      ]
     },
     "execution_count": 67,
     "metadata": {},
     "output_type": "execute_result"
    }
   ],
   "source": [
    "aqi_table.head()"
   ]
  },
  {
   "cell_type": "code",
   "execution_count": 68,
   "metadata": {},
   "outputs": [
    {
     "data": {
      "image/png": "[encoded data removed]",
      "text/plain": [
       "<Figure size 864x576 with 1 Axes>"
      ]
     },
     "metadata": {},
     "output_type": "display_data"
    }
   ],
   "source": [
    "fig, ax = plt.subplots()\n",
    "ax.plot(aqi_table['concentration'], aqi_table['aqi_us'], linewidth=2)\n",
    "ax.plot(aqi_table['concentration'], aqi_table['aqi_mn'], linewidth=2)\n",
    "ax.set_xlabel('Concentration (µg/m3)')\n",
    "ax.set_ylabel('AQI')\n",
    "ax.legend(['AQI US', 'AQI MN'],loc=2)\n",
    "ax.margins(x=.01, y=0)\n",
    "ax.text(x = -30, y = 550, s = 'AQI Comparison - USA and Mongolia', fontsize=28, weight='bold', alpha=.8)\n",
    "ax.text(x = -30, y = 520, s= 'Based on Ministry of Environment Update from Oct 2018', fontsize=20)\n",
    "ax.text(x = -45, y = -64, s = '  ©Mongolian Data Stories                                                                                                                                              ', fontsize = 14, color = '#f0f0f0', backgroundcolor = 'dimgrey')\n",
    "plt.savefig('images/aqi.png', dpi = 300, bbox_inches=\"tight\")"
   ]
  },
  {
   "cell_type": "markdown",
   "metadata": {},
   "source": [
    "TODO - Show 3 hours moving average vs 1 hour average"
   ]
  },
  {
   "cell_type": "code",
   "execution_count": 69,
   "metadata": {},
   "outputs": [],
   "source": [
    "state_air = pd.read_csv('Ulaanbaatar_ HourlyPM25_201901.csv', header=2)"
   ]
  },
  {
   "cell_type": "code",
   "execution_count": 70,
   "metadata": {},
   "outputs": [],
   "source": [
    "state_air['Date (LST)'] = pd.to_datetime(state_air['Date (LST)'])"
   ]
  },
  {
   "cell_type": "code",
   "execution_count": 71,
   "metadata": {},
   "outputs": [
    {
     "data": {
      "text/plain": [
       "Site                  object\n",
       "Parameter             object\n",
       "Date (LST)    datetime64[ns]\n",
       "Year                   int64\n",
       "Month                  int64\n",
       "Day                    int64\n",
       "Hour                   int64\n",
       "Value                float64\n",
       "Unit                  object\n",
       "AQI                  float64\n",
       "Duration              object\n",
       "dtype: object"
      ]
     },
     "execution_count": 71,
     "metadata": {},
     "output_type": "execute_result"
    }
   ],
   "source": [
    "state_air.dtypes"
   ]
  },
  {
   "cell_type": "code",
   "execution_count": 72,
   "metadata": {},
   "outputs": [
    {
     "data": {
      "text/plain": [
       "720   2019-01-31 00:00:00\n",
       "721   2019-01-31 01:00:00\n",
       "722   2019-01-31 02:00:00\n",
       "723   2019-01-31 03:00:00\n",
       "724   2019-01-31 04:00:00\n",
       "725   2019-01-31 05:00:00\n",
       "726   2019-01-31 06:00:00\n",
       "727   2019-01-31 07:00:00\n",
       "728   2019-01-31 08:00:00\n",
       "729   2019-01-31 09:00:00\n",
       "730   2019-01-31 10:00:00\n",
       "731   2019-01-31 11:00:00\n",
       "732   2019-01-31 12:00:00\n",
       "733   2019-01-31 13:00:00\n",
       "734   2019-01-31 14:00:00\n",
       "735   2019-01-31 15:00:00\n",
       "736   2019-01-31 16:00:00\n",
       "737   2019-01-31 17:00:00\n",
       "738   2019-01-31 18:00:00\n",
       "739   2019-01-31 19:00:00\n",
       "740   2019-01-31 20:00:00\n",
       "741   2019-01-31 21:00:00\n",
       "742   2019-01-31 22:00:00\n",
       "743   2019-01-31 23:00:00\n",
       "Name: Date (LST), dtype: datetime64[ns]"
      ]
     },
     "execution_count": 72,
     "metadata": {},
     "output_type": "execute_result"
    }
   ],
   "source": [
    "state_air['Date (LST)'][-24:]"
   ]
  },
  {
   "cell_type": "code",
   "execution_count": 73,
   "metadata": {},
   "outputs": [
    {
     "name": "stderr",
     "output_type": "stream",
     "text": [
      "/opt/conda/lib/python3.7/site-packages/pandas/plotting/_matplotlib/converter.py:103: FutureWarning:\n",
      "\n",
      "Using an implicitly registered datetime converter for a matplotlib plotting method. The converter was registered by pandas on import. Future versions of pandas will require you to explicitly register matplotlib converters.\n",
      "\n",
      "To register the converters:\n",
      "\t>>> from pandas.plotting import register_matplotlib_converters\n",
      "\t>>> register_matplotlib_converters()\n",
      "\n"
     ]
    },
    {
     "data": {
      "text/plain": [
       "[Text(0, 0, '0'),\n",
       " Text(0, 0, '3'),\n",
       " Text(0, 0, '6'),\n",
       " Text(0, 0, '9'),\n",
       " Text(0, 0, '12'),\n",
       " Text(0, 0, '15'),\n",
       " Text(0, 0, '18'),\n",
       " Text(0, 0, '21')]"
      ]
     },
     "execution_count": 73,
     "metadata": {},
     "output_type": "execute_result"
    },
    {
     "data": {
      "image/png": "[encoded data removed]",
      "text/plain": [
       "<Figure size 864x576 with 1 Axes>"
      ]
     },
     "metadata": {},
     "output_type": "display_data"
    }
   ],
   "source": [
    "fig, ax = plt.subplots()\n",
    "ax.plot(state_air['Date (LST)'][-24:], state_air['Value'][-24:]*1000)\n",
    "ax.set_xticklabels(np.arange(len(state_air['Date (LST)'][:24]),step=3))"
   ]
  },
  {
   "cell_type": "code",
   "execution_count": null,
   "metadata": {},
   "outputs": [],
   "source": []
  }
 ],
 "metadata": {
  "kernelspec": {
   "display_name": "Python 3",
   "language": "python",
   "name": "python3"
  },
  "language_info": {
   "codemirror_mode": {
    "name": "ipython",
    "version": 3
   },
   "file_extension": ".py",
   "mimetype": "text/x-python",
   "name": "python",
   "nbconvert_exporter": "python",
   "pygments_lexer": "ipython3",
   "version": "3.7.3"
  }
 },
 "nbformat": 4,
 "nbformat_minor": 4
}
