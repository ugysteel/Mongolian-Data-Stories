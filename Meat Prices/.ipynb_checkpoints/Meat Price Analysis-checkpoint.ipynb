{
 "cells": [
  {
   "cell_type": "markdown",
   "metadata": {},
   "source": [
    "# Meat Price Analysis"
   ]
  },
  {
   "cell_type": "markdown",
   "metadata": {},
   "source": [
    "In recent months (from late 2018 to May 2019) there has been a shift in meat prices upwards. More recently there has been concern about a meat shortage. This analysis hopes to do the following:\n",
    "\n",
    "- Explain the cause of meat price fluctuations\n",
    "- Create a general model for forecasting meat prices\n",
    "- Determine whether the strategic meat reserve has an impact on meat prices\n",
    "\n",
    "### Introduction\n",
    "Before we begin a short introduction is useful. In Mongolia meat prices are highly seasonal with meat prices rising in the Spring and then falling in the Fall. The meat supply itself comes from nomadic herder who make up roughly 30% of the population. These herders do not operate with anything resembling a western mode of production. Their behavior has more to do with herd health and preparations for the various challenges of each season. \n",
    "\n",
    "Here is a rough generalization of the behavior of herders. This of course does not speak for all herders but from what I have observed this is relatively typical behavior. In the Fall before winter sets in herders will slaughter or sell those animals which are likely to die in the coming winter. Then in the Spring during breeding season herders often restrict the amount they sell so as not to limit their potential growth that year. In the summer the productive animals are known and herders are more willing to sell or slaughter those animals that are not pregnant. With this cycle it is clear that seasonal prices are primarily being driven by supply of meat. \n",
    "\n",
    "The government purchases extra meat when prices are generally low and freeze it for use in times when supply is lower. This program has being going on for several years. Based on available data it is unclear if this program works or not...(trying to obtain more data)\n",
    "\n",
    "In the past two years (2017 and 2018) meat exports have risen sharply. Many blame these exports for rising meat prices. However, in any economic system prices rely on an interplay between the market forces, including supply and demand. It is the aim of this analysis to make these forces more clear."
   ]
  },
  {
   "cell_type": "code",
   "execution_count": 1,
   "metadata": {},
   "outputs": [],
   "source": [
    "import pandas as pd\n",
    "import numpy as np\n",
    "import plotly_express as px"
   ]
  },
  {
   "cell_type": "code",
   "execution_count": 3,
   "metadata": {},
   "outputs": [
    {
     "data": {
      "text/plain": [
       "['average wages and salary in ulaanbaatar.xlsx',\n",
       " 'cpi.xlsx',\n",
       " 'meat prices.xlsx',\n",
       " 'total livestock.xlsx',\n",
       " 'livestock loss.xlsx',\n",
       " 'meat export.xlsx',\n",
       " 'animal product exports.xlsx',\n",
       " 'meat prices.csv',\n",
       " 'meat export.csv',\n",
       " 'total livestock.csv',\n",
       " 'cpi.csv',\n",
       " 'livestock loss.csv',\n",
       " 'average wages and salary in ulaanbaatar.csv',\n",
       " 'animal product exports.csv',\n",
       " '.ipynb_checkpoints']"
      ]
     },
     "execution_count": 3,
     "metadata": {},
     "output_type": "execute_result"
    }
   ],
   "source": [
    "# We have several datasets we need to import and merge\n",
    "import os\n",
    "os.listdir('Data/intermediate')"
   ]
  },
  {
   "cell_type": "code",
   "execution_count": 4,
   "metadata": {},
   "outputs": [
    {
     "ename": "IndentationError",
     "evalue": "unexpected indent (<ipython-input-4-8ad3209d7fee>, line 6)",
     "output_type": "error",
     "traceback": [
      "\u001b[1;36m  File \u001b[1;32m\"<ipython-input-4-8ad3209d7fee>\"\u001b[1;36m, line \u001b[1;32m6\u001b[0m\n\u001b[1;33m    'total livestock.csv',\u001b[0m\n\u001b[1;37m    ^\u001b[0m\n\u001b[1;31mIndentationError\u001b[0m\u001b[1;31m:\u001b[0m unexpected indent\n"
     ]
    }
   ],
   "source": [
    "prices = pd.read_csv('Data/intermediate/meat prices.csv')\n",
    "meat_export = pd.read_csv('Data/intermediate/meat export.csv')\n",
    "cpi = pd.read_csv('Data/intermediate/cpi.csv')\n",
    "livestock_loss = pd.read_csv('Data/intermediate')\n",
    "'meat export.csv',\n",
    " 'total livestock.csv',\n",
    " 'cpi.csv',\n",
    " 'livestock loss.csv',\n",
    " 'average wages and salary in ulaanbaatar.csv',\n",
    " 'animal product exports.csv'"
   ]
  },
  {
   "cell_type": "code",
   "execution_count": null,
   "metadata": {},
   "outputs": [],
   "source": []
  }
 ],
 "metadata": {
  "kernelspec": {
   "display_name": "Python 3",
   "language": "python",
   "name": "python3"
  },
  "language_info": {
   "codemirror_mode": {
    "name": "ipython",
    "version": 3
   },
   "file_extension": ".py",
   "mimetype": "text/x-python",
   "name": "python",
   "nbconvert_exporter": "python",
   "pygments_lexer": "ipython3",
   "version": "3.6.7"
  }
 },
 "nbformat": 4,
 "nbformat_minor": 2
}
