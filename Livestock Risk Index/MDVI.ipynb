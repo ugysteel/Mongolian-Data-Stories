{
 "cells": [
  {
   "cell_type": "markdown",
   "metadata": {},
   "source": [
    "# Livestock Mortality Index"
   ]
  },
  {
   "cell_type": "markdown",
   "metadata": {},
   "source": [
    "This notebook will attempt to replicate and expand on a model to forecast the risk of livestock mortality in aimags (provinces) of Mongolia. The index is based on work completed by the People in Need NGO and the English report is available in this repository."
   ]
  },
  {
   "cell_type": "markdown",
   "metadata": {},
   "source": [
    "## Data import"
   ]
  },
  {
   "cell_type": "markdown",
   "metadata": {},
   "source": [
    "The data used in the model is stored in a PDF file as tables. These tables were copied into an Excel spreadsheet and several cleaning and transformation steps took place. The original data copied from the PDF report is in **data/DATASET for MVDI report.xlsx** and the cleaned data is stored at **data/MVDI Tables Cleaned.xlsx**."
   ]
  },
  {
   "cell_type": "code",
   "execution_count": 1,
   "metadata": {},
   "outputs": [],
   "source": [
    "#Import required libraries\n",
    "import pandas as pd\n",
    "\n",
    "import matplotlib.pyplot as plt\n",
    "%matplotlib inline\n",
    "\n",
    "from sklearn.metrics import mean_squared_error\n",
    "import numpy as np\n",
    "import matplotlib.pyplot as plt"
   ]
  },
  {
   "cell_type": "code",
   "execution_count": 2,
   "metadata": {},
   "outputs": [],
   "source": [
    "xls = pd.ExcelFile('data/MVDI Tables Cleaned.xlsx')"
   ]
  },
  {
   "cell_type": "code",
   "execution_count": 3,
   "metadata": {},
   "outputs": [
    {
     "data": {
      "text/plain": [
       "['temp',\n",
       " 'loss',\n",
       " 'index',\n",
       " 'pasture_anomaly',\n",
       " 'pasture',\n",
       " 'biomass_anomaly',\n",
       " 'biomass',\n",
       " 'zootechnical',\n",
       " 'mortality',\n",
       " 'fecundity',\n",
       " 'snowfall_anomaly']"
      ]
     },
     "execution_count": 3,
     "metadata": {},
     "output_type": "execute_result"
    }
   ],
   "source": [
    "sheets = xls.sheet_names\n",
    "sheets"
   ]
  },
  {
   "cell_type": "code",
   "execution_count": 4,
   "metadata": {},
   "outputs": [],
   "source": [
    "temp = xls.parse('temp')\n",
    "loss = xls.parse('loss')\n",
    "index = xls.parse('index')\n",
    "pasture_anomaly = xls.parse('pasture_anomaly')\n",
    "pasture = xls.parse('pasture')\n",
    "biomass_anomaly = xls.parse('biomass_anomaly')\n",
    "biomass = xls.parse('biomass')\n",
    "zootechnical = xls.parse('zootechnical')\n",
    "mortality = xls.parse('mortality')\n",
    "fecundity = xls.parse('fecundity')\n",
    "snowfall_anomaly = xls.parse('snowfall_anomaly')"
   ]
  },
  {
   "cell_type": "code",
   "execution_count": 5,
   "metadata": {},
   "outputs": [],
   "source": [
    "dfs = [temp,loss, index, pasture_anomaly, pasture, biomass_anomaly, biomass, zootechnical, mortality,fecundity,snowfall_anomaly]"
   ]
  },
  {
   "cell_type": "code",
   "execution_count": 6,
   "metadata": {},
   "outputs": [],
   "source": [
    "from functools import reduce\n",
    "df = reduce(lambda  left,right: pd.merge(left,right,on=['Aimag','Year'], how='inner'), dfs)"
   ]
  },
  {
   "cell_type": "code",
   "execution_count": 7,
   "metadata": {},
   "outputs": [
    {
     "data": {
      "text/plain": [
       "array(['Arkhangai', 'Bayankhongor', 'Bayan‐Ulgii', 'Bulgan', 'Dornod',\n",
       "       'Dornogovi', 'Dundgovi', 'Govisumber', 'Khentii', 'Khovd',\n",
       "       'Khuvsgul', 'Orkhon', 'Selenge', 'Sukhbaatar', 'Tuv',\n",
       "       'Ulaanbaatar', 'Umnugovi', 'Uvs', 'Uvurkhangai', 'Zavkhan'],\n",
       "      dtype=object)"
      ]
     },
     "execution_count": 7,
     "metadata": {},
     "output_type": "execute_result"
    }
   ],
   "source": [
    "df['Aimag'].unique()"
   ]
  },
  {
   "cell_type": "code",
   "execution_count": 8,
   "metadata": {},
   "outputs": [
    {
     "data": {
      "text/html": [
       "<div>\n",
       "<style scoped>\n",
       "    .dataframe tbody tr th:only-of-type {\n",
       "        vertical-align: middle;\n",
       "    }\n",
       "\n",
       "    .dataframe tbody tr th {\n",
       "        vertical-align: top;\n",
       "    }\n",
       "\n",
       "    .dataframe thead th {\n",
       "        text-align: right;\n",
       "    }\n",
       "</style>\n",
       "<table border=\"1\" class=\"dataframe\">\n",
       "  <thead>\n",
       "    <tr style=\"text-align: right;\">\n",
       "      <th></th>\n",
       "      <th>Aimag</th>\n",
       "      <th>Year</th>\n",
       "      <th>Temprature anomalies</th>\n",
       "      <th>Livestock Loss Rates from - 1998-2017</th>\n",
       "      <th>Past values of the vulnerability index according to Aimag - 1: Average weighed by livestock numbers in SFU</th>\n",
       "      <th>Pasture Use Anomaly</th>\n",
       "      <th>Pasture Use</th>\n",
       "      <th>Standing forage biomass anomaly</th>\n",
       "      <th>Standing forage biomass (tons)</th>\n",
       "      <th>Zootechnical score</th>\n",
       "      <th>Mortality score</th>\n",
       "      <th>Fecundity score</th>\n",
       "      <th>Snowfall anomalies</th>\n",
       "    </tr>\n",
       "  </thead>\n",
       "  <tbody>\n",
       "    <tr>\n",
       "      <th>0</th>\n",
       "      <td>Arkhangai</td>\n",
       "      <td>1999</td>\n",
       "      <td>2.75</td>\n",
       "      <td>0.01</td>\n",
       "      <td>1.69</td>\n",
       "      <td>0.04</td>\n",
       "      <td>0.11</td>\n",
       "      <td>0.05</td>\n",
       "      <td>2.96E+ 07</td>\n",
       "      <td>0</td>\n",
       "      <td>0</td>\n",
       "      <td>0</td>\n",
       "      <td>-3.80</td>\n",
       "    </tr>\n",
       "    <tr>\n",
       "      <th>1</th>\n",
       "      <td>Arkhangai</td>\n",
       "      <td>2000</td>\n",
       "      <td>-0.39</td>\n",
       "      <td>0.06</td>\n",
       "      <td>1.94</td>\n",
       "      <td>0.18</td>\n",
       "      <td>0.12</td>\n",
       "      <td>-0.13</td>\n",
       "      <td>2.44E+ 07</td>\n",
       "      <td>0</td>\n",
       "      <td>0</td>\n",
       "      <td>0</td>\n",
       "      <td>4.57</td>\n",
       "    </tr>\n",
       "    <tr>\n",
       "      <th>2</th>\n",
       "      <td>Arkhangai</td>\n",
       "      <td>2001</td>\n",
       "      <td>-1.62</td>\n",
       "      <td>0.24</td>\n",
       "      <td>2.63</td>\n",
       "      <td>-0.02</td>\n",
       "      <td>0.10</td>\n",
       "      <td>-0.22</td>\n",
       "      <td>2.20E+ 07</td>\n",
       "      <td>2</td>\n",
       "      <td>1</td>\n",
       "      <td>1</td>\n",
       "      <td>8.10</td>\n",
       "    </tr>\n",
       "    <tr>\n",
       "      <th>3</th>\n",
       "      <td>Arkhangai</td>\n",
       "      <td>2002</td>\n",
       "      <td>0.86</td>\n",
       "      <td>0.04</td>\n",
       "      <td>2.81</td>\n",
       "      <td>0.63</td>\n",
       "      <td>0.17</td>\n",
       "      <td>-0.57</td>\n",
       "      <td>1.22E+ 07</td>\n",
       "      <td>0</td>\n",
       "      <td>0</td>\n",
       "      <td>0</td>\n",
       "      <td>5.44</td>\n",
       "    </tr>\n",
       "    <tr>\n",
       "      <th>4</th>\n",
       "      <td>Arkhangai</td>\n",
       "      <td>2003</td>\n",
       "      <td>-0.10</td>\n",
       "      <td>0.07</td>\n",
       "      <td>1.15</td>\n",
       "      <td>-0.25</td>\n",
       "      <td>0.08</td>\n",
       "      <td>-0.07</td>\n",
       "      <td>2.61E+ 07</td>\n",
       "      <td>0</td>\n",
       "      <td>0</td>\n",
       "      <td>0</td>\n",
       "      <td>9.70</td>\n",
       "    </tr>\n",
       "  </tbody>\n",
       "</table>\n",
       "</div>"
      ],
      "text/plain": [
       "       Aimag  Year  Temprature anomalies  \\\n",
       "0  Arkhangai  1999                  2.75   \n",
       "1  Arkhangai  2000                 -0.39   \n",
       "2  Arkhangai  2001                 -1.62   \n",
       "3  Arkhangai  2002                  0.86   \n",
       "4  Arkhangai  2003                 -0.10   \n",
       "\n",
       "   Livestock Loss Rates from - 1998-2017  \\\n",
       "0                                   0.01   \n",
       "1                                   0.06   \n",
       "2                                   0.24   \n",
       "3                                   0.04   \n",
       "4                                   0.07   \n",
       "\n",
       "   Past values of the vulnerability index according to Aimag - 1: Average weighed by livestock numbers in SFU  \\\n",
       "0                                               1.69                                                            \n",
       "1                                               1.94                                                            \n",
       "2                                               2.63                                                            \n",
       "3                                               2.81                                                            \n",
       "4                                               1.15                                                            \n",
       "\n",
       "   Pasture Use Anomaly  Pasture Use  Standing forage biomass anomaly  \\\n",
       "0                 0.04         0.11                             0.05   \n",
       "1                 0.18         0.12                            -0.13   \n",
       "2                -0.02         0.10                            -0.22   \n",
       "3                 0.63         0.17                            -0.57   \n",
       "4                -0.25         0.08                            -0.07   \n",
       "\n",
       "  Standing forage biomass (tons)  Zootechnical score  Mortality score  \\\n",
       "0                      2.96E+ 07                   0                0   \n",
       "1                      2.44E+ 07                   0                0   \n",
       "2                      2.20E+ 07                   2                1   \n",
       "3                      1.22E+ 07                   0                0   \n",
       "4                      2.61E+ 07                   0                0   \n",
       "\n",
       "   Fecundity score  Snowfall anomalies  \n",
       "0                0               -3.80  \n",
       "1                0                4.57  \n",
       "2                1                8.10  \n",
       "3                0                5.44  \n",
       "4                0                9.70  "
      ]
     },
     "execution_count": 8,
     "metadata": {},
     "output_type": "execute_result"
    }
   ],
   "source": [
    "df.head()"
   ]
  },
  {
   "cell_type": "markdown",
   "metadata": {},
   "source": [
    "## Data Cleaning"
   ]
  },
  {
   "cell_type": "markdown",
   "metadata": {},
   "source": [
    "Now that we have all of our features in one dataframe we can start cleaning the dataset so it is in a better format. \n",
    "\n",
    "To do:\n",
    "- Rename features to be more simple and allow for easier reference\n",
    "- Standing forage biomass was stored in the original report as scientific notation. This is now stored as text. \n",
    "- "
   ]
  },
  {
   "cell_type": "markdown",
   "metadata": {},
   "source": [
    "### Rename Columns"
   ]
  },
  {
   "cell_type": "code",
   "execution_count": 9,
   "metadata": {},
   "outputs": [
    {
     "data": {
      "text/plain": [
       "Index(['Aimag', 'Year', 'Temprature anomalies',\n",
       "       'Livestock Loss Rates from - 1998-2017',\n",
       "       'Past values of the vulnerability index according to Aimag - 1: Average weighed by livestock numbers in SFU',\n",
       "       'Pasture Use Anomaly', 'Pasture Use', 'Standing forage biomass anomaly',\n",
       "       'Standing forage biomass (tons)', 'Zootechnical score',\n",
       "       'Mortality score', 'Fecundity score', 'Snowfall anomalies'],\n",
       "      dtype='object')"
      ]
     },
     "execution_count": 9,
     "metadata": {},
     "output_type": "execute_result"
    }
   ],
   "source": [
    "df.columns"
   ]
  },
  {
   "cell_type": "code",
   "execution_count": 10,
   "metadata": {},
   "outputs": [],
   "source": [
    "df.rename(index=str,columns={'Aimag':'aimag', 'Year':'year', 'Temprature anomalies':'temperature_anomaly',\n",
    "       'Livestock Loss Rates from - 1998-2017':'livestock_loss',\n",
    "       'Past values of the vulnerability index according to Aimag - 1: Average weighed by livestock numbers in SFU':'index',\n",
    "       'Pasture Use Anomaly':'pasture_use_anomaly', 'Pasture Use':'pasture_use', 'Standing forage biomass anomaly':'biomass_anomaly',\n",
    "       'Standing forage biomass (tons)':'biomass', 'Zootechnical score':'zootechnical',\n",
    "       'Mortality score':'mortality', 'Fecundity score':'fecundity', 'Snowfall anomalies':'snowfall_anomaly'},inplace=True)"
   ]
  },
  {
   "cell_type": "markdown",
   "metadata": {},
   "source": [
    "### Convert biomass to numeric feature"
   ]
  },
  {
   "cell_type": "markdown",
   "metadata": {},
   "source": [
    "The biomass feature is stored in the format '2.96E+ 07' (scientific notation). We do not have access to the complete number, so we will concatenate the number and take the left three characters. "
   ]
  },
  {
   "cell_type": "code",
   "execution_count": 11,
   "metadata": {},
   "outputs": [],
   "source": [
    "df['biomass'] = df['biomass'].str[:4]"
   ]
  },
  {
   "cell_type": "code",
   "execution_count": 12,
   "metadata": {},
   "outputs": [],
   "source": [
    "df['biomass'] = pd.to_numeric(df['biomass'])"
   ]
  },
  {
   "cell_type": "code",
   "execution_count": 13,
   "metadata": {},
   "outputs": [
    {
     "data": {
      "text/html": [
       "<div>\n",
       "<style scoped>\n",
       "    .dataframe tbody tr th:only-of-type {\n",
       "        vertical-align: middle;\n",
       "    }\n",
       "\n",
       "    .dataframe tbody tr th {\n",
       "        vertical-align: top;\n",
       "    }\n",
       "\n",
       "    .dataframe thead th {\n",
       "        text-align: right;\n",
       "    }\n",
       "</style>\n",
       "<table border=\"1\" class=\"dataframe\">\n",
       "  <thead>\n",
       "    <tr style=\"text-align: right;\">\n",
       "      <th></th>\n",
       "      <th>aimag</th>\n",
       "      <th>year</th>\n",
       "      <th>temperature_anomaly</th>\n",
       "      <th>livestock_loss</th>\n",
       "      <th>index</th>\n",
       "      <th>pasture_use_anomaly</th>\n",
       "      <th>pasture_use</th>\n",
       "      <th>biomass_anomaly</th>\n",
       "      <th>biomass</th>\n",
       "      <th>zootechnical</th>\n",
       "      <th>mortality</th>\n",
       "      <th>fecundity</th>\n",
       "      <th>snowfall_anomaly</th>\n",
       "    </tr>\n",
       "  </thead>\n",
       "  <tbody>\n",
       "    <tr>\n",
       "      <th>0</th>\n",
       "      <td>Arkhangai</td>\n",
       "      <td>1999</td>\n",
       "      <td>2.75</td>\n",
       "      <td>0.01</td>\n",
       "      <td>1.69</td>\n",
       "      <td>0.04</td>\n",
       "      <td>0.11</td>\n",
       "      <td>0.05</td>\n",
       "      <td>2.96</td>\n",
       "      <td>0</td>\n",
       "      <td>0</td>\n",
       "      <td>0</td>\n",
       "      <td>-3.80</td>\n",
       "    </tr>\n",
       "    <tr>\n",
       "      <th>1</th>\n",
       "      <td>Arkhangai</td>\n",
       "      <td>2000</td>\n",
       "      <td>-0.39</td>\n",
       "      <td>0.06</td>\n",
       "      <td>1.94</td>\n",
       "      <td>0.18</td>\n",
       "      <td>0.12</td>\n",
       "      <td>-0.13</td>\n",
       "      <td>2.44</td>\n",
       "      <td>0</td>\n",
       "      <td>0</td>\n",
       "      <td>0</td>\n",
       "      <td>4.57</td>\n",
       "    </tr>\n",
       "    <tr>\n",
       "      <th>2</th>\n",
       "      <td>Arkhangai</td>\n",
       "      <td>2001</td>\n",
       "      <td>-1.62</td>\n",
       "      <td>0.24</td>\n",
       "      <td>2.63</td>\n",
       "      <td>-0.02</td>\n",
       "      <td>0.10</td>\n",
       "      <td>-0.22</td>\n",
       "      <td>2.20</td>\n",
       "      <td>2</td>\n",
       "      <td>1</td>\n",
       "      <td>1</td>\n",
       "      <td>8.10</td>\n",
       "    </tr>\n",
       "    <tr>\n",
       "      <th>3</th>\n",
       "      <td>Arkhangai</td>\n",
       "      <td>2002</td>\n",
       "      <td>0.86</td>\n",
       "      <td>0.04</td>\n",
       "      <td>2.81</td>\n",
       "      <td>0.63</td>\n",
       "      <td>0.17</td>\n",
       "      <td>-0.57</td>\n",
       "      <td>1.22</td>\n",
       "      <td>0</td>\n",
       "      <td>0</td>\n",
       "      <td>0</td>\n",
       "      <td>5.44</td>\n",
       "    </tr>\n",
       "    <tr>\n",
       "      <th>4</th>\n",
       "      <td>Arkhangai</td>\n",
       "      <td>2003</td>\n",
       "      <td>-0.10</td>\n",
       "      <td>0.07</td>\n",
       "      <td>1.15</td>\n",
       "      <td>-0.25</td>\n",
       "      <td>0.08</td>\n",
       "      <td>-0.07</td>\n",
       "      <td>2.61</td>\n",
       "      <td>0</td>\n",
       "      <td>0</td>\n",
       "      <td>0</td>\n",
       "      <td>9.70</td>\n",
       "    </tr>\n",
       "  </tbody>\n",
       "</table>\n",
       "</div>"
      ],
      "text/plain": [
       "       aimag  year  temperature_anomaly  livestock_loss  index  \\\n",
       "0  Arkhangai  1999                 2.75            0.01   1.69   \n",
       "1  Arkhangai  2000                -0.39            0.06   1.94   \n",
       "2  Arkhangai  2001                -1.62            0.24   2.63   \n",
       "3  Arkhangai  2002                 0.86            0.04   2.81   \n",
       "4  Arkhangai  2003                -0.10            0.07   1.15   \n",
       "\n",
       "   pasture_use_anomaly  pasture_use  biomass_anomaly  biomass  zootechnical  \\\n",
       "0                 0.04         0.11             0.05     2.96             0   \n",
       "1                 0.18         0.12            -0.13     2.44             0   \n",
       "2                -0.02         0.10            -0.22     2.20             2   \n",
       "3                 0.63         0.17            -0.57     1.22             0   \n",
       "4                -0.25         0.08            -0.07     2.61             0   \n",
       "\n",
       "   mortality  fecundity  snowfall_anomaly  \n",
       "0          0          0             -3.80  \n",
       "1          0          0              4.57  \n",
       "2          1          1              8.10  \n",
       "3          0          0              5.44  \n",
       "4          0          0              9.70  "
      ]
     },
     "execution_count": 13,
     "metadata": {},
     "output_type": "execute_result"
    }
   ],
   "source": [
    "df.head()"
   ]
  },
  {
   "cell_type": "markdown",
   "metadata": {},
   "source": [
    "## Confusion Matrix"
   ]
  },
  {
   "cell_type": "markdown",
   "metadata": {},
   "source": [
    "As the MVDI research paper gives us mortality and the output risk scores, we can create an independent accuracy assessment. In addition, we can use the papers own classification methodology to create a confusion matrix that will allow us to assess false positives and negatives.\n",
    "\n",
    "The classification methodology creates bins for the risk scores that correspond to a range of mortality. It is as follows:\n",
    "\n",
    "Index value Mean mortality\n",
    "- 0‐1     1%\n",
    "- 1‐2     3%\n",
    "- 2‐3     6%\n",
    "- 3+      17%\n",
    "\n",
    "As the bins for both the index and mean mortality don't say which boundary is inclusive or exclusive, we will need to do a little determination of our own. \n",
    "\n",
    "Index --- Mean Mortality\n",
    "- 0-1  [0%-3%]\n",
    "- 1-2  (3%-6%]\n",
    "- 2-3  (6%-17%]\n",
    "- 3+   (17%+)\n",
    "\n",
    "The confusion matrix was created in Excel and is located in the 'data' directory."
   ]
  },
  {
   "cell_type": "markdown",
   "metadata": {},
   "source": [
    "## Recreating MVDI Index"
   ]
  },
  {
   "cell_type": "markdown",
   "metadata": {},
   "source": [
    "Using the data in the MVDI report, I will attempt to recreate the index using the available data. Some key points:\n",
    "\n",
    "- We do not have the dataframe or a flat file we can import to ensure we have the correct data format. Our data was copied from PDF tables and assembled into our dataframe here.\n",
    "- The standing forage biomass data was written in scientific notation in the report, meaning we may have a loss of data with our truncated numbers.\n",
    "- The original model was created in R using the geeglm package. This is a general linear model. We can somewhat replicate this via the Linear Regression. However the current scikit learn package does not support a poisson distribution in a GLM. Given this we can assume that a replicated model using scikit learn would have a lower performance.\n",
    "\n",
    "Given our lack of ability to replicate the original model, we will attempt to instead use the same features and test multiple algorithms. In addition, we will later attempt to do some feature engineering to explore whether we can improve upon this base model futher. \n"
   ]
  },
  {
   "cell_type": "code",
   "execution_count": 14,
   "metadata": {},
   "outputs": [
    {
     "data": {
      "text/html": [
       "<img src=\"assets/features.PNG\",width=500>\n"
      ],
      "text/plain": [
       "<IPython.core.display.HTML object>"
      ]
     },
     "metadata": {},
     "output_type": "display_data"
    }
   ],
   "source": [
    "%%html\n",
    "<img src=\"assets/features.PNG\",width=500>"
   ]
  },
  {
   "cell_type": "code",
   "execution_count": 15,
   "metadata": {},
   "outputs": [
    {
     "data": {
      "text/html": [
       "<div>\n",
       "<style scoped>\n",
       "    .dataframe tbody tr th:only-of-type {\n",
       "        vertical-align: middle;\n",
       "    }\n",
       "\n",
       "    .dataframe tbody tr th {\n",
       "        vertical-align: top;\n",
       "    }\n",
       "\n",
       "    .dataframe thead th {\n",
       "        text-align: right;\n",
       "    }\n",
       "</style>\n",
       "<table border=\"1\" class=\"dataframe\">\n",
       "  <thead>\n",
       "    <tr style=\"text-align: right;\">\n",
       "      <th></th>\n",
       "      <th>aimag</th>\n",
       "      <th>year</th>\n",
       "      <th>temperature_anomaly</th>\n",
       "      <th>livestock_loss</th>\n",
       "      <th>index</th>\n",
       "      <th>pasture_use_anomaly</th>\n",
       "      <th>pasture_use</th>\n",
       "      <th>biomass_anomaly</th>\n",
       "      <th>biomass</th>\n",
       "      <th>zootechnical</th>\n",
       "      <th>mortality</th>\n",
       "      <th>fecundity</th>\n",
       "      <th>snowfall_anomaly</th>\n",
       "    </tr>\n",
       "  </thead>\n",
       "  <tbody>\n",
       "    <tr>\n",
       "      <th>0</th>\n",
       "      <td>Arkhangai</td>\n",
       "      <td>1999</td>\n",
       "      <td>2.75</td>\n",
       "      <td>0.01</td>\n",
       "      <td>1.69</td>\n",
       "      <td>0.04</td>\n",
       "      <td>0.11</td>\n",
       "      <td>0.05</td>\n",
       "      <td>2.96</td>\n",
       "      <td>0</td>\n",
       "      <td>0</td>\n",
       "      <td>0</td>\n",
       "      <td>-3.80</td>\n",
       "    </tr>\n",
       "    <tr>\n",
       "      <th>1</th>\n",
       "      <td>Arkhangai</td>\n",
       "      <td>2000</td>\n",
       "      <td>-0.39</td>\n",
       "      <td>0.06</td>\n",
       "      <td>1.94</td>\n",
       "      <td>0.18</td>\n",
       "      <td>0.12</td>\n",
       "      <td>-0.13</td>\n",
       "      <td>2.44</td>\n",
       "      <td>0</td>\n",
       "      <td>0</td>\n",
       "      <td>0</td>\n",
       "      <td>4.57</td>\n",
       "    </tr>\n",
       "    <tr>\n",
       "      <th>2</th>\n",
       "      <td>Arkhangai</td>\n",
       "      <td>2001</td>\n",
       "      <td>-1.62</td>\n",
       "      <td>0.24</td>\n",
       "      <td>2.63</td>\n",
       "      <td>-0.02</td>\n",
       "      <td>0.10</td>\n",
       "      <td>-0.22</td>\n",
       "      <td>2.20</td>\n",
       "      <td>2</td>\n",
       "      <td>1</td>\n",
       "      <td>1</td>\n",
       "      <td>8.10</td>\n",
       "    </tr>\n",
       "    <tr>\n",
       "      <th>3</th>\n",
       "      <td>Arkhangai</td>\n",
       "      <td>2002</td>\n",
       "      <td>0.86</td>\n",
       "      <td>0.04</td>\n",
       "      <td>2.81</td>\n",
       "      <td>0.63</td>\n",
       "      <td>0.17</td>\n",
       "      <td>-0.57</td>\n",
       "      <td>1.22</td>\n",
       "      <td>0</td>\n",
       "      <td>0</td>\n",
       "      <td>0</td>\n",
       "      <td>5.44</td>\n",
       "    </tr>\n",
       "    <tr>\n",
       "      <th>4</th>\n",
       "      <td>Arkhangai</td>\n",
       "      <td>2003</td>\n",
       "      <td>-0.10</td>\n",
       "      <td>0.07</td>\n",
       "      <td>1.15</td>\n",
       "      <td>-0.25</td>\n",
       "      <td>0.08</td>\n",
       "      <td>-0.07</td>\n",
       "      <td>2.61</td>\n",
       "      <td>0</td>\n",
       "      <td>0</td>\n",
       "      <td>0</td>\n",
       "      <td>9.70</td>\n",
       "    </tr>\n",
       "  </tbody>\n",
       "</table>\n",
       "</div>"
      ],
      "text/plain": [
       "       aimag  year  temperature_anomaly  livestock_loss  index  \\\n",
       "0  Arkhangai  1999                 2.75            0.01   1.69   \n",
       "1  Arkhangai  2000                -0.39            0.06   1.94   \n",
       "2  Arkhangai  2001                -1.62            0.24   2.63   \n",
       "3  Arkhangai  2002                 0.86            0.04   2.81   \n",
       "4  Arkhangai  2003                -0.10            0.07   1.15   \n",
       "\n",
       "   pasture_use_anomaly  pasture_use  biomass_anomaly  biomass  zootechnical  \\\n",
       "0                 0.04         0.11             0.05     2.96             0   \n",
       "1                 0.18         0.12            -0.13     2.44             0   \n",
       "2                -0.02         0.10            -0.22     2.20             2   \n",
       "3                 0.63         0.17            -0.57     1.22             0   \n",
       "4                -0.25         0.08            -0.07     2.61             0   \n",
       "\n",
       "   mortality  fecundity  snowfall_anomaly  \n",
       "0          0          0             -3.80  \n",
       "1          0          0              4.57  \n",
       "2          1          1              8.10  \n",
       "3          0          0              5.44  \n",
       "4          0          0              9.70  "
      ]
     },
     "execution_count": 15,
     "metadata": {},
     "output_type": "execute_result"
    }
   ],
   "source": [
    "df.head()"
   ]
  },
  {
   "cell_type": "markdown",
   "metadata": {},
   "source": [
    "Here we will shift the four N-1 features. We will also drop the original features and save our dataframe."
   ]
  },
  {
   "cell_type": "code",
   "execution_count": 16,
   "metadata": {},
   "outputs": [],
   "source": [
    "df = df.groupby('aimag')['biomass_anomaly','zootechnical','pasture_use_anomaly'].shift(1).merge(df,\n",
    "                left_index=True,right_index=True,suffixes=('_1', '')).drop(columns=[\n",
    "                'biomass_anomaly','zootechnical','pasture_use_anomaly'],axis=1)\n"
   ]
  },
  {
   "cell_type": "code",
   "execution_count": 17,
   "metadata": {},
   "outputs": [
    {
     "data": {
      "text/html": [
       "<div>\n",
       "<style scoped>\n",
       "    .dataframe tbody tr th:only-of-type {\n",
       "        vertical-align: middle;\n",
       "    }\n",
       "\n",
       "    .dataframe tbody tr th {\n",
       "        vertical-align: top;\n",
       "    }\n",
       "\n",
       "    .dataframe thead th {\n",
       "        text-align: right;\n",
       "    }\n",
       "</style>\n",
       "<table border=\"1\" class=\"dataframe\">\n",
       "  <thead>\n",
       "    <tr style=\"text-align: right;\">\n",
       "      <th></th>\n",
       "      <th>biomass_anomaly_1</th>\n",
       "      <th>zootechnical_1</th>\n",
       "      <th>pasture_use_anomaly_1</th>\n",
       "      <th>aimag</th>\n",
       "      <th>year</th>\n",
       "      <th>temperature_anomaly</th>\n",
       "      <th>livestock_loss</th>\n",
       "      <th>index</th>\n",
       "      <th>pasture_use</th>\n",
       "      <th>biomass</th>\n",
       "      <th>mortality</th>\n",
       "      <th>fecundity</th>\n",
       "      <th>snowfall_anomaly</th>\n",
       "    </tr>\n",
       "  </thead>\n",
       "  <tbody>\n",
       "    <tr>\n",
       "      <th>0</th>\n",
       "      <td>NaN</td>\n",
       "      <td>NaN</td>\n",
       "      <td>NaN</td>\n",
       "      <td>Arkhangai</td>\n",
       "      <td>1999</td>\n",
       "      <td>2.75</td>\n",
       "      <td>0.01</td>\n",
       "      <td>1.69</td>\n",
       "      <td>0.11</td>\n",
       "      <td>2.96</td>\n",
       "      <td>0</td>\n",
       "      <td>0</td>\n",
       "      <td>-3.80</td>\n",
       "    </tr>\n",
       "    <tr>\n",
       "      <th>1</th>\n",
       "      <td>0.05</td>\n",
       "      <td>0.0</td>\n",
       "      <td>0.04</td>\n",
       "      <td>Arkhangai</td>\n",
       "      <td>2000</td>\n",
       "      <td>-0.39</td>\n",
       "      <td>0.06</td>\n",
       "      <td>1.94</td>\n",
       "      <td>0.12</td>\n",
       "      <td>2.44</td>\n",
       "      <td>0</td>\n",
       "      <td>0</td>\n",
       "      <td>4.57</td>\n",
       "    </tr>\n",
       "    <tr>\n",
       "      <th>2</th>\n",
       "      <td>-0.13</td>\n",
       "      <td>0.0</td>\n",
       "      <td>0.18</td>\n",
       "      <td>Arkhangai</td>\n",
       "      <td>2001</td>\n",
       "      <td>-1.62</td>\n",
       "      <td>0.24</td>\n",
       "      <td>2.63</td>\n",
       "      <td>0.10</td>\n",
       "      <td>2.20</td>\n",
       "      <td>1</td>\n",
       "      <td>1</td>\n",
       "      <td>8.10</td>\n",
       "    </tr>\n",
       "    <tr>\n",
       "      <th>3</th>\n",
       "      <td>-0.22</td>\n",
       "      <td>2.0</td>\n",
       "      <td>-0.02</td>\n",
       "      <td>Arkhangai</td>\n",
       "      <td>2002</td>\n",
       "      <td>0.86</td>\n",
       "      <td>0.04</td>\n",
       "      <td>2.81</td>\n",
       "      <td>0.17</td>\n",
       "      <td>1.22</td>\n",
       "      <td>0</td>\n",
       "      <td>0</td>\n",
       "      <td>5.44</td>\n",
       "    </tr>\n",
       "    <tr>\n",
       "      <th>4</th>\n",
       "      <td>-0.57</td>\n",
       "      <td>0.0</td>\n",
       "      <td>0.63</td>\n",
       "      <td>Arkhangai</td>\n",
       "      <td>2003</td>\n",
       "      <td>-0.10</td>\n",
       "      <td>0.07</td>\n",
       "      <td>1.15</td>\n",
       "      <td>0.08</td>\n",
       "      <td>2.61</td>\n",
       "      <td>0</td>\n",
       "      <td>0</td>\n",
       "      <td>9.70</td>\n",
       "    </tr>\n",
       "  </tbody>\n",
       "</table>\n",
       "</div>"
      ],
      "text/plain": [
       "   biomass_anomaly_1  zootechnical_1  pasture_use_anomaly_1      aimag  year  \\\n",
       "0                NaN             NaN                    NaN  Arkhangai  1999   \n",
       "1               0.05             0.0                   0.04  Arkhangai  2000   \n",
       "2              -0.13             0.0                   0.18  Arkhangai  2001   \n",
       "3              -0.22             2.0                  -0.02  Arkhangai  2002   \n",
       "4              -0.57             0.0                   0.63  Arkhangai  2003   \n",
       "\n",
       "   temperature_anomaly  livestock_loss  index  pasture_use  biomass  \\\n",
       "0                 2.75            0.01   1.69         0.11     2.96   \n",
       "1                -0.39            0.06   1.94         0.12     2.44   \n",
       "2                -1.62            0.24   2.63         0.10     2.20   \n",
       "3                 0.86            0.04   2.81         0.17     1.22   \n",
       "4                -0.10            0.07   1.15         0.08     2.61   \n",
       "\n",
       "   mortality  fecundity  snowfall_anomaly  \n",
       "0          0          0             -3.80  \n",
       "1          0          0              4.57  \n",
       "2          1          1              8.10  \n",
       "3          0          0              5.44  \n",
       "4          0          0              9.70  "
      ]
     },
     "execution_count": 17,
     "metadata": {},
     "output_type": "execute_result"
    }
   ],
   "source": [
    "df.head()"
   ]
  },
  {
   "cell_type": "markdown",
   "metadata": {},
   "source": [
    "### Construct training dataframe.\n",
    "\n",
    "Using the features from the report we can construct our dataframe. We have the 'index' values as created by the MVDI model. \n",
    "\n",
    "- The target variable is livestock_loss, which is expressed as a fraction of 1 (100%)\n",
    "\n",
    "Here is the fit function as given by the report:\n",
    "> gee.fit <- geeglm(Loss_rate_Y_100~Snowfall11_3_anomaly_Y*Forage_anomaly_Y_minus_1*Zootechnical_index_Y_minus_1+Temp11_2_anomaly_Y*Pasture_Use_Y_minus_1_anomaly*Zootechnical_index_Y_minus_1,\n",
    "id=Aimag_code, waves= Year, data=Mortality_Mongolia_geepack, family=poisson, corstr=”exch”)\n",
    "\n",
    "As such we can add the following features to our training dataframe:\n",
    "\n",
    "- snowfall_anomaly (N)\n",
    "- biomass_anomaly (N-1)\n",
    "- zootechnical (N-1)\n",
    "- temperature_anomaly (N)\n",
    "- pasture_use_anomaly (N-1)\n",
    "- livestock_loss (target variable)"
   ]
  },
  {
   "cell_type": "code",
   "execution_count": 18,
   "metadata": {},
   "outputs": [
    {
     "data": {
      "text/plain": [
       "Index(['biomass_anomaly_1', 'zootechnical_1', 'pasture_use_anomaly_1', 'aimag',\n",
       "       'year', 'temperature_anomaly', 'livestock_loss', 'index', 'pasture_use',\n",
       "       'biomass', 'mortality', 'fecundity', 'snowfall_anomaly'],\n",
       "      dtype='object')"
      ]
     },
     "execution_count": 18,
     "metadata": {},
     "output_type": "execute_result"
    }
   ],
   "source": [
    "df.columns"
   ]
  },
  {
   "cell_type": "code",
   "execution_count": 19,
   "metadata": {},
   "outputs": [],
   "source": [
    "train = df.drop(columns=[\n",
    "    'aimag','year','fecundity','mortality',\n",
    "    'biomass','pasture_use','index'], axis=1)"
   ]
  },
  {
   "cell_type": "code",
   "execution_count": 20,
   "metadata": {},
   "outputs": [
    {
     "data": {
      "text/html": [
       "<div>\n",
       "<style scoped>\n",
       "    .dataframe tbody tr th:only-of-type {\n",
       "        vertical-align: middle;\n",
       "    }\n",
       "\n",
       "    .dataframe tbody tr th {\n",
       "        vertical-align: top;\n",
       "    }\n",
       "\n",
       "    .dataframe thead th {\n",
       "        text-align: right;\n",
       "    }\n",
       "</style>\n",
       "<table border=\"1\" class=\"dataframe\">\n",
       "  <thead>\n",
       "    <tr style=\"text-align: right;\">\n",
       "      <th></th>\n",
       "      <th>biomass_anomaly_1</th>\n",
       "      <th>zootechnical_1</th>\n",
       "      <th>pasture_use_anomaly_1</th>\n",
       "      <th>temperature_anomaly</th>\n",
       "      <th>livestock_loss</th>\n",
       "      <th>snowfall_anomaly</th>\n",
       "    </tr>\n",
       "  </thead>\n",
       "  <tbody>\n",
       "    <tr>\n",
       "      <th>0</th>\n",
       "      <td>NaN</td>\n",
       "      <td>NaN</td>\n",
       "      <td>NaN</td>\n",
       "      <td>2.75</td>\n",
       "      <td>0.01</td>\n",
       "      <td>-3.80</td>\n",
       "    </tr>\n",
       "    <tr>\n",
       "      <th>1</th>\n",
       "      <td>0.05</td>\n",
       "      <td>0.0</td>\n",
       "      <td>0.04</td>\n",
       "      <td>-0.39</td>\n",
       "      <td>0.06</td>\n",
       "      <td>4.57</td>\n",
       "    </tr>\n",
       "    <tr>\n",
       "      <th>2</th>\n",
       "      <td>-0.13</td>\n",
       "      <td>0.0</td>\n",
       "      <td>0.18</td>\n",
       "      <td>-1.62</td>\n",
       "      <td>0.24</td>\n",
       "      <td>8.10</td>\n",
       "    </tr>\n",
       "    <tr>\n",
       "      <th>3</th>\n",
       "      <td>-0.22</td>\n",
       "      <td>2.0</td>\n",
       "      <td>-0.02</td>\n",
       "      <td>0.86</td>\n",
       "      <td>0.04</td>\n",
       "      <td>5.44</td>\n",
       "    </tr>\n",
       "    <tr>\n",
       "      <th>4</th>\n",
       "      <td>-0.57</td>\n",
       "      <td>0.0</td>\n",
       "      <td>0.63</td>\n",
       "      <td>-0.10</td>\n",
       "      <td>0.07</td>\n",
       "      <td>9.70</td>\n",
       "    </tr>\n",
       "  </tbody>\n",
       "</table>\n",
       "</div>"
      ],
      "text/plain": [
       "   biomass_anomaly_1  zootechnical_1  pasture_use_anomaly_1  \\\n",
       "0                NaN             NaN                    NaN   \n",
       "1               0.05             0.0                   0.04   \n",
       "2              -0.13             0.0                   0.18   \n",
       "3              -0.22             2.0                  -0.02   \n",
       "4              -0.57             0.0                   0.63   \n",
       "\n",
       "   temperature_anomaly  livestock_loss  snowfall_anomaly  \n",
       "0                 2.75            0.01             -3.80  \n",
       "1                -0.39            0.06              4.57  \n",
       "2                -1.62            0.24              8.10  \n",
       "3                 0.86            0.04              5.44  \n",
       "4                -0.10            0.07              9.70  "
      ]
     },
     "execution_count": 20,
     "metadata": {},
     "output_type": "execute_result"
    }
   ],
   "source": [
    "train.head()"
   ]
  },
  {
   "cell_type": "markdown",
   "metadata": {},
   "source": [
    "We will drop the NaN values as this row will not be able to be used in the training algorithm."
   ]
  },
  {
   "cell_type": "code",
   "execution_count": 21,
   "metadata": {},
   "outputs": [],
   "source": [
    "train = train.dropna(axis=0).reset_index(drop=True)"
   ]
  },
  {
   "cell_type": "code",
   "execution_count": 22,
   "metadata": {},
   "outputs": [
    {
     "data": {
      "text/html": [
       "<div>\n",
       "<style scoped>\n",
       "    .dataframe tbody tr th:only-of-type {\n",
       "        vertical-align: middle;\n",
       "    }\n",
       "\n",
       "    .dataframe tbody tr th {\n",
       "        vertical-align: top;\n",
       "    }\n",
       "\n",
       "    .dataframe thead th {\n",
       "        text-align: right;\n",
       "    }\n",
       "</style>\n",
       "<table border=\"1\" class=\"dataframe\">\n",
       "  <thead>\n",
       "    <tr style=\"text-align: right;\">\n",
       "      <th></th>\n",
       "      <th>biomass_anomaly_1</th>\n",
       "      <th>zootechnical_1</th>\n",
       "      <th>pasture_use_anomaly_1</th>\n",
       "      <th>temperature_anomaly</th>\n",
       "      <th>livestock_loss</th>\n",
       "      <th>snowfall_anomaly</th>\n",
       "    </tr>\n",
       "  </thead>\n",
       "  <tbody>\n",
       "    <tr>\n",
       "      <th>0</th>\n",
       "      <td>0.05</td>\n",
       "      <td>0.0</td>\n",
       "      <td>0.04</td>\n",
       "      <td>-0.39</td>\n",
       "      <td>0.06</td>\n",
       "      <td>4.57</td>\n",
       "    </tr>\n",
       "    <tr>\n",
       "      <th>1</th>\n",
       "      <td>-0.13</td>\n",
       "      <td>0.0</td>\n",
       "      <td>0.18</td>\n",
       "      <td>-1.62</td>\n",
       "      <td>0.24</td>\n",
       "      <td>8.10</td>\n",
       "    </tr>\n",
       "    <tr>\n",
       "      <th>2</th>\n",
       "      <td>-0.22</td>\n",
       "      <td>2.0</td>\n",
       "      <td>-0.02</td>\n",
       "      <td>0.86</td>\n",
       "      <td>0.04</td>\n",
       "      <td>5.44</td>\n",
       "    </tr>\n",
       "    <tr>\n",
       "      <th>3</th>\n",
       "      <td>-0.57</td>\n",
       "      <td>0.0</td>\n",
       "      <td>0.63</td>\n",
       "      <td>-0.10</td>\n",
       "      <td>0.07</td>\n",
       "      <td>9.70</td>\n",
       "    </tr>\n",
       "    <tr>\n",
       "      <th>4</th>\n",
       "      <td>-0.07</td>\n",
       "      <td>0.0</td>\n",
       "      <td>-0.25</td>\n",
       "      <td>0.54</td>\n",
       "      <td>0.01</td>\n",
       "      <td>2.30</td>\n",
       "    </tr>\n",
       "  </tbody>\n",
       "</table>\n",
       "</div>"
      ],
      "text/plain": [
       "   biomass_anomaly_1  zootechnical_1  pasture_use_anomaly_1  \\\n",
       "0               0.05             0.0                   0.04   \n",
       "1              -0.13             0.0                   0.18   \n",
       "2              -0.22             2.0                  -0.02   \n",
       "3              -0.57             0.0                   0.63   \n",
       "4              -0.07             0.0                  -0.25   \n",
       "\n",
       "   temperature_anomaly  livestock_loss  snowfall_anomaly  \n",
       "0                -0.39            0.06              4.57  \n",
       "1                -1.62            0.24              8.10  \n",
       "2                 0.86            0.04              5.44  \n",
       "3                -0.10            0.07              9.70  \n",
       "4                 0.54            0.01              2.30  "
      ]
     },
     "execution_count": 22,
     "metadata": {},
     "output_type": "execute_result"
    }
   ],
   "source": [
    "train.head()"
   ]
  },
  {
   "cell_type": "code",
   "execution_count": 23,
   "metadata": {},
   "outputs": [
    {
     "data": {
      "text/plain": [
       "(300, 6)"
      ]
     },
     "execution_count": 23,
     "metadata": {},
     "output_type": "execute_result"
    }
   ],
   "source": [
    "train.shape"
   ]
  },
  {
   "cell_type": "markdown",
   "metadata": {},
   "source": [
    "## Train GLM Algorithms - Original Dataset"
   ]
  },
  {
   "cell_type": "markdown",
   "metadata": {},
   "source": [
    "The model in the MVDI report is a GLM model (generalized linear model). A poisson distribution is specifically mentioned, so here we will attempt to use models that support this."
   ]
  },
  {
   "cell_type": "code",
   "execution_count": 24,
   "metadata": {},
   "outputs": [],
   "source": [
    "y = train['livestock_loss']\n",
    "X = train.drop(columns=['livestock_loss'],axis=1)"
   ]
  },
  {
   "cell_type": "code",
   "execution_count": 25,
   "metadata": {},
   "outputs": [],
   "source": [
    "from sklearn.model_selection import train_test_split\n",
    "\n",
    "X_train, X_test, y_train, y_test = train_test_split(X, y, test_size=0.30, random_state=42)"
   ]
  },
  {
   "cell_type": "markdown",
   "metadata": {},
   "source": [
    "#### Linear Regression"
   ]
  },
  {
   "cell_type": "code",
   "execution_count": 26,
   "metadata": {},
   "outputs": [
    {
     "name": "stdout",
     "output_type": "stream",
     "text": [
      "R^2:  0.43973529695413777\n",
      "RMSE:  0.06985463757468893\n"
     ]
    }
   ],
   "source": [
    "from sklearn.linear_model import LinearRegression\n",
    "\n",
    "params = {\"model_type\": \"Linear Regression\"\n",
    "          }\n",
    "\n",
    "reg = LinearRegression()\n",
    "reg.fit(X_train, y_train)\n",
    "\n",
    "regr_pred = reg.predict(X_test)\n",
    "regression_score = reg.score(X_test, y_test)\n",
    "lin_rmse = np.sqrt((mean_squared_error(y_test, regr_pred)))\n",
    "\n",
    "print(\"R^2: \", regression_score)\n",
    "print(\"RMSE: \", lin_rmse)"
   ]
  },
  {
   "cell_type": "markdown",
   "metadata": {},
   "source": [
    "#### Ridge Regression"
   ]
  },
  {
   "cell_type": "code",
   "execution_count": 27,
   "metadata": {},
   "outputs": [
    {
     "name": "stdout",
     "output_type": "stream",
     "text": [
      "R^2:  0.43535875299914095\n",
      "RMSE:  0.07012694383381707\n"
     ]
    }
   ],
   "source": [
    "from sklearn.linear_model import Ridge\n",
    "\n",
    "params = {\"model_type\": \"Ridge Regression\"\n",
    "          }\n",
    "\n",
    "ridge = Ridge(alpha=.5)\n",
    "ridge.fit(X_train, y_train) \n",
    "\n",
    "ridge_pred = ridge.predict(X_test)\n",
    "ridge_score = ridge.score(X_test, y_test)\n",
    "ridge_rmse = np.sqrt((mean_squared_error(y_test, ridge_pred)))\n",
    "\n",
    "print(\"R^2: \", ridge_score)\n",
    "print(\"RMSE: \", ridge_rmse)"
   ]
  },
  {
   "cell_type": "markdown",
   "metadata": {},
   "source": [
    "#### XGBoost"
   ]
  },
  {
   "cell_type": "code",
   "execution_count": 28,
   "metadata": {},
   "outputs": [
    {
     "name": "stdout",
     "output_type": "stream",
     "text": [
      "R^2:  0.41344904539413185\n",
      "RMSE:  0.07147455916648646\n"
     ]
    }
   ],
   "source": [
    "from xgboost import XGBRegressor\n",
    "\n",
    "params = {\"model_type\": \"XGBRegressor\",\n",
    "          \"random_state\": 42,\n",
    "          \"n_estimators\": 100\n",
    "          }\n",
    "\n",
    "xgb = XGBRegressor(random_state=params['random_state'], n_estimators=params['n_estimators'])\n",
    "xgb.fit(X_train,y_train)\n",
    "\n",
    "xgb_pred = xgb.predict(X_test)\n",
    "xgb_score = xgb.score(X_test, y_test)\n",
    "xgb_rmse = np.sqrt((mean_squared_error(y_test, xgb_pred)))\n",
    "\n",
    "print(\"R^2: \", xgb_score)\n",
    "print(\"RMSE: \", xgb_rmse)"
   ]
  },
  {
   "cell_type": "markdown",
   "metadata": {},
   "source": [
    "#### Random Forest Regressor"
   ]
  },
  {
   "cell_type": "code",
   "execution_count": 29,
   "metadata": {},
   "outputs": [
    {
     "name": "stdout",
     "output_type": "stream",
     "text": [
      "R^2:  0.41124301181046596\n",
      "RMSE:  0.07160884187422596\n"
     ]
    }
   ],
   "source": [
    "from sklearn.ensemble import RandomForestRegressor\n",
    "\n",
    "params = {\"model_type\": \"Random Forest\",\n",
    "          \"random_state\": 42,\n",
    "          \"n_estimators\": 300\n",
    "          }\n",
    "\n",
    "rf = RandomForestRegressor(random_state=params['random_state'], n_estimators=params['n_estimators'])\n",
    "rf.fit(X_train,y_train)\n",
    "\n",
    "rf_pred = rf.predict(X_test)\n",
    "rf_score = rf.score(X_test, y_test)\n",
    "rf_rmse = np.sqrt((mean_squared_error(y_test, rf_pred)))\n",
    "\n",
    "print(\"R^2: \", rf_score)\n",
    "print(\"RMSE: \", rf_rmse)"
   ]
  },
  {
   "cell_type": "markdown",
   "metadata": {},
   "source": [
    "#### Extra Trees"
   ]
  },
  {
   "cell_type": "code",
   "execution_count": 30,
   "metadata": {},
   "outputs": [
    {
     "name": "stdout",
     "output_type": "stream",
     "text": [
      "R^2:  0.4739248409938822\n",
      "RMSE:  0.0676896876434779\n"
     ]
    }
   ],
   "source": [
    "from sklearn.ensemble import ExtraTreesRegressor\n",
    "\n",
    "extra = ExtraTreesRegressor(random_state=42, \n",
    "                            n_estimators=100,\n",
    "                           min_samples_split=5)\n",
    "extra.fit(X_train,y_train)\n",
    "\n",
    "extra_pred = extra.predict(X_test)\n",
    "extra_score = extra.score(X_test, y_test)\n",
    "extra_rmse = np.sqrt((mean_squared_error(y_test, extra_pred)))\n",
    "\n",
    "print(\"R^2: \", extra_score)\n",
    "print(\"RMSE: \", extra_rmse)"
   ]
  },
  {
   "cell_type": "markdown",
   "metadata": {},
   "source": [
    "#### AdaBoost"
   ]
  },
  {
   "cell_type": "code",
   "execution_count": 31,
   "metadata": {},
   "outputs": [
    {
     "name": "stdout",
     "output_type": "stream",
     "text": [
      "R^2:  0.2158599397185037\n",
      "RMSE:  0.08264097518689711\n"
     ]
    }
   ],
   "source": [
    "from sklearn.ensemble import AdaBoostRegressor\n",
    "\n",
    "params = {\"model_type\": \"AdaBoost\",\n",
    "          \"random_state\": 42,\n",
    "          \"n_estimators\": 300\n",
    "          }\n",
    "\n",
    "ada = AdaBoostRegressor(random_state=params['random_state'], n_estimators=params['n_estimators'])\n",
    "ada.fit(X_train,y_train)\n",
    "\n",
    "ada_pred = ada.predict(X_test)\n",
    "ada_score = ada.score(X_test, y_test)\n",
    "ada_rmse = np.sqrt((mean_squared_error(y_test, ada_pred)))\n",
    "\n",
    "print(\"R^2: \", ada_score)\n",
    "print(\"RMSE: \", ada_rmse)"
   ]
  },
  {
   "cell_type": "code",
   "execution_count": 32,
   "metadata": {},
   "outputs": [
    {
     "data": {
      "image/png": "[encoded data removed]",
      "text/plain": [
       "<Figure size 432x288 with 1 Axes>"
      ]
     },
     "metadata": {
      "needs_background": "light"
     },
     "output_type": "display_data"
    }
   ],
   "source": [
    "plt.scatter(y_test, extra_pred)\n",
    "plt.xlabel('Measured')\n",
    "plt.ylabel('Predicted')\n",
    "plt.title('Predicted vs Actual')\n",
    "plt.show()"
   ]
  },
  {
   "cell_type": "markdown",
   "metadata": {},
   "source": [
    "## Expanded training set"
   ]
  },
  {
   "cell_type": "code",
   "execution_count": 33,
   "metadata": {},
   "outputs": [
    {
     "data": {
      "text/html": [
       "<div>\n",
       "<style scoped>\n",
       "    .dataframe tbody tr th:only-of-type {\n",
       "        vertical-align: middle;\n",
       "    }\n",
       "\n",
       "    .dataframe tbody tr th {\n",
       "        vertical-align: top;\n",
       "    }\n",
       "\n",
       "    .dataframe thead th {\n",
       "        text-align: right;\n",
       "    }\n",
       "</style>\n",
       "<table border=\"1\" class=\"dataframe\">\n",
       "  <thead>\n",
       "    <tr style=\"text-align: right;\">\n",
       "      <th></th>\n",
       "      <th>biomass_anomaly_1</th>\n",
       "      <th>zootechnical_1</th>\n",
       "      <th>pasture_use_anomaly_1</th>\n",
       "      <th>aimag</th>\n",
       "      <th>year</th>\n",
       "      <th>temperature_anomaly</th>\n",
       "      <th>livestock_loss</th>\n",
       "      <th>index</th>\n",
       "      <th>pasture_use</th>\n",
       "      <th>biomass</th>\n",
       "      <th>mortality</th>\n",
       "      <th>fecundity</th>\n",
       "      <th>snowfall_anomaly</th>\n",
       "    </tr>\n",
       "  </thead>\n",
       "  <tbody>\n",
       "    <tr>\n",
       "      <th>0</th>\n",
       "      <td>NaN</td>\n",
       "      <td>NaN</td>\n",
       "      <td>NaN</td>\n",
       "      <td>Arkhangai</td>\n",
       "      <td>1999</td>\n",
       "      <td>2.75</td>\n",
       "      <td>0.01</td>\n",
       "      <td>1.69</td>\n",
       "      <td>0.11</td>\n",
       "      <td>2.96</td>\n",
       "      <td>0</td>\n",
       "      <td>0</td>\n",
       "      <td>-3.80</td>\n",
       "    </tr>\n",
       "    <tr>\n",
       "      <th>1</th>\n",
       "      <td>0.05</td>\n",
       "      <td>0.0</td>\n",
       "      <td>0.04</td>\n",
       "      <td>Arkhangai</td>\n",
       "      <td>2000</td>\n",
       "      <td>-0.39</td>\n",
       "      <td>0.06</td>\n",
       "      <td>1.94</td>\n",
       "      <td>0.12</td>\n",
       "      <td>2.44</td>\n",
       "      <td>0</td>\n",
       "      <td>0</td>\n",
       "      <td>4.57</td>\n",
       "    </tr>\n",
       "    <tr>\n",
       "      <th>2</th>\n",
       "      <td>-0.13</td>\n",
       "      <td>0.0</td>\n",
       "      <td>0.18</td>\n",
       "      <td>Arkhangai</td>\n",
       "      <td>2001</td>\n",
       "      <td>-1.62</td>\n",
       "      <td>0.24</td>\n",
       "      <td>2.63</td>\n",
       "      <td>0.10</td>\n",
       "      <td>2.20</td>\n",
       "      <td>1</td>\n",
       "      <td>1</td>\n",
       "      <td>8.10</td>\n",
       "    </tr>\n",
       "    <tr>\n",
       "      <th>3</th>\n",
       "      <td>-0.22</td>\n",
       "      <td>2.0</td>\n",
       "      <td>-0.02</td>\n",
       "      <td>Arkhangai</td>\n",
       "      <td>2002</td>\n",
       "      <td>0.86</td>\n",
       "      <td>0.04</td>\n",
       "      <td>2.81</td>\n",
       "      <td>0.17</td>\n",
       "      <td>1.22</td>\n",
       "      <td>0</td>\n",
       "      <td>0</td>\n",
       "      <td>5.44</td>\n",
       "    </tr>\n",
       "    <tr>\n",
       "      <th>4</th>\n",
       "      <td>-0.57</td>\n",
       "      <td>0.0</td>\n",
       "      <td>0.63</td>\n",
       "      <td>Arkhangai</td>\n",
       "      <td>2003</td>\n",
       "      <td>-0.10</td>\n",
       "      <td>0.07</td>\n",
       "      <td>1.15</td>\n",
       "      <td>0.08</td>\n",
       "      <td>2.61</td>\n",
       "      <td>0</td>\n",
       "      <td>0</td>\n",
       "      <td>9.70</td>\n",
       "    </tr>\n",
       "  </tbody>\n",
       "</table>\n",
       "</div>"
      ],
      "text/plain": [
       "   biomass_anomaly_1  zootechnical_1  pasture_use_anomaly_1      aimag  year  \\\n",
       "0                NaN             NaN                    NaN  Arkhangai  1999   \n",
       "1               0.05             0.0                   0.04  Arkhangai  2000   \n",
       "2              -0.13             0.0                   0.18  Arkhangai  2001   \n",
       "3              -0.22             2.0                  -0.02  Arkhangai  2002   \n",
       "4              -0.57             0.0                   0.63  Arkhangai  2003   \n",
       "\n",
       "   temperature_anomaly  livestock_loss  index  pasture_use  biomass  \\\n",
       "0                 2.75            0.01   1.69         0.11     2.96   \n",
       "1                -0.39            0.06   1.94         0.12     2.44   \n",
       "2                -1.62            0.24   2.63         0.10     2.20   \n",
       "3                 0.86            0.04   2.81         0.17     1.22   \n",
       "4                -0.10            0.07   1.15         0.08     2.61   \n",
       "\n",
       "   mortality  fecundity  snowfall_anomaly  \n",
       "0          0          0             -3.80  \n",
       "1          0          0              4.57  \n",
       "2          1          1              8.10  \n",
       "3          0          0              5.44  \n",
       "4          0          0              9.70  "
      ]
     },
     "execution_count": 33,
     "metadata": {},
     "output_type": "execute_result"
    }
   ],
   "source": [
    "df.head()"
   ]
  },
  {
   "cell_type": "code",
   "execution_count": 34,
   "metadata": {},
   "outputs": [],
   "source": [
    "df = df.groupby('aimag')['biomass_anomaly_1','zootechnical_1','pasture_use_anomaly_1'].shift(1).merge(df,\n",
    "                left_index=True,right_index=True,suffixes=('_2', ''))"
   ]
  },
  {
   "cell_type": "code",
   "execution_count": 35,
   "metadata": {},
   "outputs": [],
   "source": [
    "df = df.groupby('aimag')['biomass_anomaly_1','zootechnical_1','pasture_use_anomaly_1'].shift(2).merge(df,\n",
    "                left_index=True,right_index=True,suffixes=('_3', ''))"
   ]
  },
  {
   "cell_type": "code",
   "execution_count": 36,
   "metadata": {},
   "outputs": [],
   "source": [
    "df = df.groupby('aimag')['temperature_anomaly','livestock_loss', 'snowfall_anomaly'].shift(1).merge(df,\n",
    "                left_index=True,right_index=True,suffixes=('_1', ''))"
   ]
  },
  {
   "cell_type": "code",
   "execution_count": 37,
   "metadata": {},
   "outputs": [],
   "source": [
    "df = df.groupby('aimag')['temperature_anomaly','livestock_loss', 'snowfall_anomaly'].shift(2).merge(df,\n",
    "                left_index=True,right_index=True,suffixes=('_2', ''))"
   ]
  },
  {
   "cell_type": "code",
   "execution_count": 38,
   "metadata": {},
   "outputs": [],
   "source": [
    "train = df.drop(columns=[\n",
    "    'aimag','year','fecundity','mortality',\n",
    "    'biomass','pasture_use','index'], axis=1)"
   ]
  },
  {
   "cell_type": "code",
   "execution_count": 39,
   "metadata": {},
   "outputs": [
    {
     "data": {
      "text/html": [
       "<div>\n",
       "<style scoped>\n",
       "    .dataframe tbody tr th:only-of-type {\n",
       "        vertical-align: middle;\n",
       "    }\n",
       "\n",
       "    .dataframe tbody tr th {\n",
       "        vertical-align: top;\n",
       "    }\n",
       "\n",
       "    .dataframe thead th {\n",
       "        text-align: right;\n",
       "    }\n",
       "</style>\n",
       "<table border=\"1\" class=\"dataframe\">\n",
       "  <thead>\n",
       "    <tr style=\"text-align: right;\">\n",
       "      <th></th>\n",
       "      <th>temperature_anomaly_2</th>\n",
       "      <th>livestock_loss_2</th>\n",
       "      <th>snowfall_anomaly_2</th>\n",
       "      <th>temperature_anomaly_1</th>\n",
       "      <th>livestock_loss_1</th>\n",
       "      <th>snowfall_anomaly_1</th>\n",
       "      <th>biomass_anomaly_1_3</th>\n",
       "      <th>zootechnical_1_3</th>\n",
       "      <th>pasture_use_anomaly_1_3</th>\n",
       "      <th>biomass_anomaly_1_2</th>\n",
       "      <th>zootechnical_1_2</th>\n",
       "      <th>pasture_use_anomaly_1_2</th>\n",
       "      <th>biomass_anomaly_1</th>\n",
       "      <th>zootechnical_1</th>\n",
       "      <th>pasture_use_anomaly_1</th>\n",
       "      <th>temperature_anomaly</th>\n",
       "      <th>livestock_loss</th>\n",
       "      <th>snowfall_anomaly</th>\n",
       "    </tr>\n",
       "  </thead>\n",
       "  <tbody>\n",
       "    <tr>\n",
       "      <th>0</th>\n",
       "      <td>NaN</td>\n",
       "      <td>NaN</td>\n",
       "      <td>NaN</td>\n",
       "      <td>NaN</td>\n",
       "      <td>NaN</td>\n",
       "      <td>NaN</td>\n",
       "      <td>NaN</td>\n",
       "      <td>NaN</td>\n",
       "      <td>NaN</td>\n",
       "      <td>NaN</td>\n",
       "      <td>NaN</td>\n",
       "      <td>NaN</td>\n",
       "      <td>NaN</td>\n",
       "      <td>NaN</td>\n",
       "      <td>NaN</td>\n",
       "      <td>2.75</td>\n",
       "      <td>0.01</td>\n",
       "      <td>-3.80</td>\n",
       "    </tr>\n",
       "    <tr>\n",
       "      <th>1</th>\n",
       "      <td>NaN</td>\n",
       "      <td>NaN</td>\n",
       "      <td>NaN</td>\n",
       "      <td>2.75</td>\n",
       "      <td>0.01</td>\n",
       "      <td>-3.80</td>\n",
       "      <td>NaN</td>\n",
       "      <td>NaN</td>\n",
       "      <td>NaN</td>\n",
       "      <td>NaN</td>\n",
       "      <td>NaN</td>\n",
       "      <td>NaN</td>\n",
       "      <td>0.05</td>\n",
       "      <td>0.0</td>\n",
       "      <td>0.04</td>\n",
       "      <td>-0.39</td>\n",
       "      <td>0.06</td>\n",
       "      <td>4.57</td>\n",
       "    </tr>\n",
       "    <tr>\n",
       "      <th>2</th>\n",
       "      <td>2.75</td>\n",
       "      <td>0.01</td>\n",
       "      <td>-3.80</td>\n",
       "      <td>-0.39</td>\n",
       "      <td>0.06</td>\n",
       "      <td>4.57</td>\n",
       "      <td>NaN</td>\n",
       "      <td>NaN</td>\n",
       "      <td>NaN</td>\n",
       "      <td>0.05</td>\n",
       "      <td>0.0</td>\n",
       "      <td>0.04</td>\n",
       "      <td>-0.13</td>\n",
       "      <td>0.0</td>\n",
       "      <td>0.18</td>\n",
       "      <td>-1.62</td>\n",
       "      <td>0.24</td>\n",
       "      <td>8.10</td>\n",
       "    </tr>\n",
       "    <tr>\n",
       "      <th>3</th>\n",
       "      <td>-0.39</td>\n",
       "      <td>0.06</td>\n",
       "      <td>4.57</td>\n",
       "      <td>-1.62</td>\n",
       "      <td>0.24</td>\n",
       "      <td>8.10</td>\n",
       "      <td>0.05</td>\n",
       "      <td>0.0</td>\n",
       "      <td>0.04</td>\n",
       "      <td>-0.13</td>\n",
       "      <td>0.0</td>\n",
       "      <td>0.18</td>\n",
       "      <td>-0.22</td>\n",
       "      <td>2.0</td>\n",
       "      <td>-0.02</td>\n",
       "      <td>0.86</td>\n",
       "      <td>0.04</td>\n",
       "      <td>5.44</td>\n",
       "    </tr>\n",
       "    <tr>\n",
       "      <th>4</th>\n",
       "      <td>-1.62</td>\n",
       "      <td>0.24</td>\n",
       "      <td>8.10</td>\n",
       "      <td>0.86</td>\n",
       "      <td>0.04</td>\n",
       "      <td>5.44</td>\n",
       "      <td>-0.13</td>\n",
       "      <td>0.0</td>\n",
       "      <td>0.18</td>\n",
       "      <td>-0.22</td>\n",
       "      <td>2.0</td>\n",
       "      <td>-0.02</td>\n",
       "      <td>-0.57</td>\n",
       "      <td>0.0</td>\n",
       "      <td>0.63</td>\n",
       "      <td>-0.10</td>\n",
       "      <td>0.07</td>\n",
       "      <td>9.70</td>\n",
       "    </tr>\n",
       "  </tbody>\n",
       "</table>\n",
       "</div>"
      ],
      "text/plain": [
       "   temperature_anomaly_2  livestock_loss_2  snowfall_anomaly_2  \\\n",
       "0                    NaN               NaN                 NaN   \n",
       "1                    NaN               NaN                 NaN   \n",
       "2                   2.75              0.01               -3.80   \n",
       "3                  -0.39              0.06                4.57   \n",
       "4                  -1.62              0.24                8.10   \n",
       "\n",
       "   temperature_anomaly_1  livestock_loss_1  snowfall_anomaly_1  \\\n",
       "0                    NaN               NaN                 NaN   \n",
       "1                   2.75              0.01               -3.80   \n",
       "2                  -0.39              0.06                4.57   \n",
       "3                  -1.62              0.24                8.10   \n",
       "4                   0.86              0.04                5.44   \n",
       "\n",
       "   biomass_anomaly_1_3  zootechnical_1_3  pasture_use_anomaly_1_3  \\\n",
       "0                  NaN               NaN                      NaN   \n",
       "1                  NaN               NaN                      NaN   \n",
       "2                  NaN               NaN                      NaN   \n",
       "3                 0.05               0.0                     0.04   \n",
       "4                -0.13               0.0                     0.18   \n",
       "\n",
       "   biomass_anomaly_1_2  zootechnical_1_2  pasture_use_anomaly_1_2  \\\n",
       "0                  NaN               NaN                      NaN   \n",
       "1                  NaN               NaN                      NaN   \n",
       "2                 0.05               0.0                     0.04   \n",
       "3                -0.13               0.0                     0.18   \n",
       "4                -0.22               2.0                    -0.02   \n",
       "\n",
       "   biomass_anomaly_1  zootechnical_1  pasture_use_anomaly_1  \\\n",
       "0                NaN             NaN                    NaN   \n",
       "1               0.05             0.0                   0.04   \n",
       "2              -0.13             0.0                   0.18   \n",
       "3              -0.22             2.0                  -0.02   \n",
       "4              -0.57             0.0                   0.63   \n",
       "\n",
       "   temperature_anomaly  livestock_loss  snowfall_anomaly  \n",
       "0                 2.75            0.01             -3.80  \n",
       "1                -0.39            0.06              4.57  \n",
       "2                -1.62            0.24              8.10  \n",
       "3                 0.86            0.04              5.44  \n",
       "4                -0.10            0.07              9.70  "
      ]
     },
     "execution_count": 39,
     "metadata": {},
     "output_type": "execute_result"
    }
   ],
   "source": [
    "train.head()"
   ]
  },
  {
   "cell_type": "markdown",
   "metadata": {},
   "source": [
    "We will drop the NaN values as this row will not be able to be used in the training algorithm."
   ]
  },
  {
   "cell_type": "code",
   "execution_count": 40,
   "metadata": {},
   "outputs": [],
   "source": [
    "train = train.dropna(axis=0).reset_index(drop=True)"
   ]
  },
  {
   "cell_type": "code",
   "execution_count": 41,
   "metadata": {},
   "outputs": [
    {
     "data": {
      "text/html": [
       "<div>\n",
       "<style scoped>\n",
       "    .dataframe tbody tr th:only-of-type {\n",
       "        vertical-align: middle;\n",
       "    }\n",
       "\n",
       "    .dataframe tbody tr th {\n",
       "        vertical-align: top;\n",
       "    }\n",
       "\n",
       "    .dataframe thead th {\n",
       "        text-align: right;\n",
       "    }\n",
       "</style>\n",
       "<table border=\"1\" class=\"dataframe\">\n",
       "  <thead>\n",
       "    <tr style=\"text-align: right;\">\n",
       "      <th></th>\n",
       "      <th>temperature_anomaly_2</th>\n",
       "      <th>livestock_loss_2</th>\n",
       "      <th>snowfall_anomaly_2</th>\n",
       "      <th>temperature_anomaly_1</th>\n",
       "      <th>livestock_loss_1</th>\n",
       "      <th>snowfall_anomaly_1</th>\n",
       "      <th>biomass_anomaly_1_3</th>\n",
       "      <th>zootechnical_1_3</th>\n",
       "      <th>pasture_use_anomaly_1_3</th>\n",
       "      <th>biomass_anomaly_1_2</th>\n",
       "      <th>zootechnical_1_2</th>\n",
       "      <th>pasture_use_anomaly_1_2</th>\n",
       "      <th>biomass_anomaly_1</th>\n",
       "      <th>zootechnical_1</th>\n",
       "      <th>pasture_use_anomaly_1</th>\n",
       "      <th>temperature_anomaly</th>\n",
       "      <th>livestock_loss</th>\n",
       "      <th>snowfall_anomaly</th>\n",
       "    </tr>\n",
       "  </thead>\n",
       "  <tbody>\n",
       "    <tr>\n",
       "      <th>0</th>\n",
       "      <td>-0.39</td>\n",
       "      <td>0.06</td>\n",
       "      <td>4.57</td>\n",
       "      <td>-1.62</td>\n",
       "      <td>0.24</td>\n",
       "      <td>8.10</td>\n",
       "      <td>0.05</td>\n",
       "      <td>0.0</td>\n",
       "      <td>0.04</td>\n",
       "      <td>-0.13</td>\n",
       "      <td>0.0</td>\n",
       "      <td>0.18</td>\n",
       "      <td>-0.22</td>\n",
       "      <td>2.0</td>\n",
       "      <td>-0.02</td>\n",
       "      <td>0.86</td>\n",
       "      <td>0.04</td>\n",
       "      <td>5.44</td>\n",
       "    </tr>\n",
       "    <tr>\n",
       "      <th>1</th>\n",
       "      <td>-1.62</td>\n",
       "      <td>0.24</td>\n",
       "      <td>8.10</td>\n",
       "      <td>0.86</td>\n",
       "      <td>0.04</td>\n",
       "      <td>5.44</td>\n",
       "      <td>-0.13</td>\n",
       "      <td>0.0</td>\n",
       "      <td>0.18</td>\n",
       "      <td>-0.22</td>\n",
       "      <td>2.0</td>\n",
       "      <td>-0.02</td>\n",
       "      <td>-0.57</td>\n",
       "      <td>0.0</td>\n",
       "      <td>0.63</td>\n",
       "      <td>-0.10</td>\n",
       "      <td>0.07</td>\n",
       "      <td>9.70</td>\n",
       "    </tr>\n",
       "    <tr>\n",
       "      <th>2</th>\n",
       "      <td>0.86</td>\n",
       "      <td>0.04</td>\n",
       "      <td>5.44</td>\n",
       "      <td>-0.10</td>\n",
       "      <td>0.07</td>\n",
       "      <td>9.70</td>\n",
       "      <td>-0.22</td>\n",
       "      <td>2.0</td>\n",
       "      <td>-0.02</td>\n",
       "      <td>-0.57</td>\n",
       "      <td>0.0</td>\n",
       "      <td>0.63</td>\n",
       "      <td>-0.07</td>\n",
       "      <td>0.0</td>\n",
       "      <td>-0.25</td>\n",
       "      <td>0.54</td>\n",
       "      <td>0.01</td>\n",
       "      <td>2.30</td>\n",
       "    </tr>\n",
       "    <tr>\n",
       "      <th>3</th>\n",
       "      <td>-0.10</td>\n",
       "      <td>0.07</td>\n",
       "      <td>9.70</td>\n",
       "      <td>0.54</td>\n",
       "      <td>0.01</td>\n",
       "      <td>2.30</td>\n",
       "      <td>-0.57</td>\n",
       "      <td>0.0</td>\n",
       "      <td>0.63</td>\n",
       "      <td>-0.07</td>\n",
       "      <td>0.0</td>\n",
       "      <td>-0.25</td>\n",
       "      <td>-0.14</td>\n",
       "      <td>0.0</td>\n",
       "      <td>-0.17</td>\n",
       "      <td>-2.70</td>\n",
       "      <td>0.01</td>\n",
       "      <td>-2.33</td>\n",
       "    </tr>\n",
       "    <tr>\n",
       "      <th>4</th>\n",
       "      <td>0.54</td>\n",
       "      <td>0.01</td>\n",
       "      <td>2.30</td>\n",
       "      <td>-2.70</td>\n",
       "      <td>0.01</td>\n",
       "      <td>-2.33</td>\n",
       "      <td>-0.07</td>\n",
       "      <td>0.0</td>\n",
       "      <td>-0.25</td>\n",
       "      <td>-0.14</td>\n",
       "      <td>0.0</td>\n",
       "      <td>-0.17</td>\n",
       "      <td>-0.20</td>\n",
       "      <td>0.0</td>\n",
       "      <td>-0.03</td>\n",
       "      <td>-0.17</td>\n",
       "      <td>0.01</td>\n",
       "      <td>-3.23</td>\n",
       "    </tr>\n",
       "  </tbody>\n",
       "</table>\n",
       "</div>"
      ],
      "text/plain": [
       "   temperature_anomaly_2  livestock_loss_2  snowfall_anomaly_2  \\\n",
       "0                  -0.39              0.06                4.57   \n",
       "1                  -1.62              0.24                8.10   \n",
       "2                   0.86              0.04                5.44   \n",
       "3                  -0.10              0.07                9.70   \n",
       "4                   0.54              0.01                2.30   \n",
       "\n",
       "   temperature_anomaly_1  livestock_loss_1  snowfall_anomaly_1  \\\n",
       "0                  -1.62              0.24                8.10   \n",
       "1                   0.86              0.04                5.44   \n",
       "2                  -0.10              0.07                9.70   \n",
       "3                   0.54              0.01                2.30   \n",
       "4                  -2.70              0.01               -2.33   \n",
       "\n",
       "   biomass_anomaly_1_3  zootechnical_1_3  pasture_use_anomaly_1_3  \\\n",
       "0                 0.05               0.0                     0.04   \n",
       "1                -0.13               0.0                     0.18   \n",
       "2                -0.22               2.0                    -0.02   \n",
       "3                -0.57               0.0                     0.63   \n",
       "4                -0.07               0.0                    -0.25   \n",
       "\n",
       "   biomass_anomaly_1_2  zootechnical_1_2  pasture_use_anomaly_1_2  \\\n",
       "0                -0.13               0.0                     0.18   \n",
       "1                -0.22               2.0                    -0.02   \n",
       "2                -0.57               0.0                     0.63   \n",
       "3                -0.07               0.0                    -0.25   \n",
       "4                -0.14               0.0                    -0.17   \n",
       "\n",
       "   biomass_anomaly_1  zootechnical_1  pasture_use_anomaly_1  \\\n",
       "0              -0.22             2.0                  -0.02   \n",
       "1              -0.57             0.0                   0.63   \n",
       "2              -0.07             0.0                  -0.25   \n",
       "3              -0.14             0.0                  -0.17   \n",
       "4              -0.20             0.0                  -0.03   \n",
       "\n",
       "   temperature_anomaly  livestock_loss  snowfall_anomaly  \n",
       "0                 0.86            0.04              5.44  \n",
       "1                -0.10            0.07              9.70  \n",
       "2                 0.54            0.01              2.30  \n",
       "3                -2.70            0.01             -2.33  \n",
       "4                -0.17            0.01             -3.23  "
      ]
     },
     "execution_count": 41,
     "metadata": {},
     "output_type": "execute_result"
    }
   ],
   "source": [
    "train.head()"
   ]
  },
  {
   "cell_type": "code",
   "execution_count": 42,
   "metadata": {},
   "outputs": [
    {
     "data": {
      "text/plain": [
       "(260, 18)"
      ]
     },
     "execution_count": 42,
     "metadata": {},
     "output_type": "execute_result"
    }
   ],
   "source": [
    "train.shape"
   ]
  },
  {
   "cell_type": "code",
   "execution_count": 43,
   "metadata": {},
   "outputs": [],
   "source": [
    "y = train['livestock_loss']\n",
    "X = train.drop(columns=['livestock_loss'],axis=1)"
   ]
  },
  {
   "cell_type": "code",
   "execution_count": 124,
   "metadata": {},
   "outputs": [],
   "source": [
    "from sklearn.model_selection import train_test_split\n",
    "\n",
    "X_train, X_test, y_train, y_test = train_test_split(X, y, test_size=0.30, random_state=24)"
   ]
  },
  {
   "cell_type": "markdown",
   "metadata": {},
   "source": [
    "#### Linear Regression"
   ]
  },
  {
   "cell_type": "code",
   "execution_count": 125,
   "metadata": {},
   "outputs": [
    {
     "name": "stdout",
     "output_type": "stream",
     "text": [
      "R^2:  0.28764593278652495\n",
      "RMSE:  0.057887544949609196\n"
     ]
    }
   ],
   "source": [
    "from sklearn.linear_model import LinearRegression\n",
    "\n",
    "params = {\"model_type\": \"Linear Regression\"\n",
    "          }\n",
    "\n",
    "reg = LinearRegression()\n",
    "reg.fit(X_train, y_train)\n",
    "\n",
    "regr_pred = reg.predict(X_test)\n",
    "regression_score = reg.score(X_test, y_test)\n",
    "lin_rmse = np.sqrt((mean_squared_error(y_test, regr_pred)))\n",
    "\n",
    "print(\"R^2: \", regression_score)\n",
    "print(\"RMSE: \", lin_rmse)"
   ]
  },
  {
   "cell_type": "markdown",
   "metadata": {},
   "source": [
    "#### Ridge Regression"
   ]
  },
  {
   "cell_type": "code",
   "execution_count": 126,
   "metadata": {},
   "outputs": [
    {
     "name": "stdout",
     "output_type": "stream",
     "text": [
      "R^2:  0.31117134325223983\n",
      "RMSE:  0.05692365532256701\n"
     ]
    }
   ],
   "source": [
    "from sklearn.linear_model import Ridge\n",
    "\n",
    "params = {\"model_type\": \"Ridge Regression\"\n",
    "          }\n",
    "\n",
    "ridge = Ridge(alpha=.5)\n",
    "ridge.fit(X_train, y_train) \n",
    "\n",
    "ridge_pred = ridge.predict(X_test)\n",
    "ridge_score = ridge.score(X_test, y_test)\n",
    "ridge_rmse = np.sqrt((mean_squared_error(y_test, ridge_pred)))\n",
    "\n",
    "print(\"R^2: \", ridge_score)\n",
    "print(\"RMSE: \", ridge_rmse)"
   ]
  },
  {
   "cell_type": "markdown",
   "metadata": {},
   "source": [
    "#### XGBoost"
   ]
  },
  {
   "cell_type": "code",
   "execution_count": 127,
   "metadata": {},
   "outputs": [
    {
     "name": "stdout",
     "output_type": "stream",
     "text": [
      "R^2:  0.44955335512915917\n",
      "RMSE:  0.050885587327102556\n"
     ]
    }
   ],
   "source": [
    "from xgboost import XGBRegressor\n",
    "\n",
    "xgb = XGBRegressor(random_state=42, n_estimators=300, learning_rate=0.1)\n",
    "xgb.fit(X_train,y_train)\n",
    "\n",
    "xgb_pred = xgb.predict(X_test)\n",
    "xgb_score = xgb.score(X_test, y_test)\n",
    "xgb_rmse = np.sqrt((mean_squared_error(y_test, xgb_pred)))\n",
    "\n",
    "print(\"R^2: \", xgb_score)\n",
    "print(\"RMSE: \", xgb_rmse)"
   ]
  },
  {
   "cell_type": "markdown",
   "metadata": {},
   "source": [
    "#### Random Forest Regressor"
   ]
  },
  {
   "cell_type": "code",
   "execution_count": 128,
   "metadata": {},
   "outputs": [
    {
     "name": "stdout",
     "output_type": "stream",
     "text": [
      "R^2:  0.38091910122390826\n",
      "RMSE:  0.053964838204409046\n"
     ]
    }
   ],
   "source": [
    "from sklearn.ensemble import RandomForestRegressor\n",
    "\n",
    "params = {\"model_type\": \"Random Forest\",\n",
    "          \"random_state\": 42,\n",
    "          \"n_estimators\": 700\n",
    "          }\n",
    "\n",
    "rf = RandomForestRegressor(random_state=params['random_state'], n_estimators=params['n_estimators'])\n",
    "rf.fit(X_train,y_train)\n",
    "\n",
    "rf_pred = rf.predict(X_test)\n",
    "rf_score = rf.score(X_test, y_test)\n",
    "rf_rmse = np.sqrt((mean_squared_error(y_test, rf_pred)))\n",
    "\n",
    "print(\"R^2: \", rf_score)\n",
    "print(\"RMSE: \", rf_rmse)"
   ]
  },
  {
   "cell_type": "markdown",
   "metadata": {},
   "source": [
    "#### Extra Trees"
   ]
  },
  {
   "cell_type": "code",
   "execution_count": 129,
   "metadata": {},
   "outputs": [
    {
     "name": "stdout",
     "output_type": "stream",
     "text": [
      "R^2:  0.4702829319766869\n",
      "RMSE:  0.049918228005203555\n"
     ]
    }
   ],
   "source": [
    "from sklearn.ensemble import ExtraTreesRegressor\n",
    "\n",
    "extra = ExtraTreesRegressor(random_state=42, \n",
    "                            n_estimators=100)\n",
    "extra.fit(X_train,y_train)\n",
    "\n",
    "extra_pred = extra.predict(X_test)\n",
    "extra_score = extra.score(X_test, y_test)\n",
    "extra_rmse = np.sqrt((mean_squared_error(y_test, extra_pred)))\n",
    "\n",
    "print(\"R^2: \", extra_score)\n",
    "print(\"RMSE: \", extra_rmse)"
   ]
  },
  {
   "cell_type": "markdown",
   "metadata": {},
   "source": [
    "#### AdaBoost"
   ]
  },
  {
   "cell_type": "code",
   "execution_count": 130,
   "metadata": {},
   "outputs": [
    {
     "name": "stdout",
     "output_type": "stream",
     "text": [
      "R^2:  0.3294904887639737\n",
      "RMSE:  0.056161622819095265\n"
     ]
    }
   ],
   "source": [
    "from sklearn.ensemble import AdaBoostRegressor\n",
    "\n",
    "params = {\"model_type\": \"AdaBoost\",\n",
    "          \"random_state\": 42,\n",
    "          \"n_estimators\": 300\n",
    "          }\n",
    "\n",
    "ada = AdaBoostRegressor(random_state=params['random_state'], n_estimators=params['n_estimators'])\n",
    "ada.fit(X_train,y_train)\n",
    "\n",
    "ada_pred = ada.predict(X_test)\n",
    "ada_score = ada.score(X_test, y_test)\n",
    "ada_rmse = np.sqrt((mean_squared_error(y_test, ada_pred)))\n",
    "\n",
    "print(\"R^2: \", ada_score)\n",
    "print(\"RMSE: \", ada_rmse)"
   ]
  },
  {
   "cell_type": "code",
   "execution_count": 131,
   "metadata": {},
   "outputs": [
    {
     "data": {
      "image/png": "[encoded data removed]",
      "text/plain": [
       "<Figure size 432x288 with 1 Axes>"
      ]
     },
     "metadata": {
      "needs_background": "light"
     },
     "output_type": "display_data"
    }
   ],
   "source": [
    "plt.scatter(y_test, extra_pred)\n",
    "plt.plot(np.linspace(0, .4, 1000),np.linspace(0, .4, 1000))\n",
    "plt.xlabel('Measured')\n",
    "plt.ylabel('Predicted')\n",
    "plt.title('Predicted vs Actual')\n",
    "plt.show()"
   ]
  },
  {
   "cell_type": "code",
   "execution_count": 132,
   "metadata": {},
   "outputs": [
    {
     "data": {
      "image/png": "[encoded data removed]",
      "text/plain": [
       "<Figure size 432x288 with 1 Axes>"
      ]
     },
     "metadata": {
      "needs_background": "light"
     },
     "output_type": "display_data"
    }
   ],
   "source": [
    "plt.scatter(y_test, xgb_pred)\n",
    "plt.plot(np.linspace(0, .4, 1000),np.linspace(0, .4, 1000))\n",
    "plt.xlabel('Measured')\n",
    "plt.ylabel('Predicted')\n",
    "plt.title('Predicted vs Actual')\n",
    "plt.show()"
   ]
  },
  {
   "cell_type": "markdown",
   "metadata": {},
   "source": [
    "### Create confidence interval for best model"
   ]
  },
  {
   "cell_type": "code",
   "execution_count": 133,
   "metadata": {},
   "outputs": [],
   "source": [
    "import forestci as fci\n",
    "# Calculate the variance:\n",
    "rf_pred_unbiased = fci.random_forest_error(rf, X_train, X_test)"
   ]
  },
  {
   "cell_type": "code",
   "execution_count": 134,
   "metadata": {},
   "outputs": [
    {
     "data": {
      "image/png": "[encoded data removed]",
      "text/plain": [
       "<Figure size 432x288 with 1 Axes>"
      ]
     },
     "metadata": {
      "needs_background": "light"
     },
     "output_type": "display_data"
    }
   ],
   "source": [
    "plt.errorbar(y_test, rf_pred, yerr=np.sqrt(rf_pred_unbiased), fmt='o')\n",
    "plt.plot(np.linspace(0, .4, 1000),np.linspace(0, .4, 1000))\n",
    "plt.xlabel('Reported Loss')\n",
    "plt.ylabel('Predicted Loss')\n",
    "plt.show()"
   ]
  },
  {
   "cell_type": "code",
   "execution_count": 135,
   "metadata": {},
   "outputs": [],
   "source": [
    "def pred_ints(model, X, percentile=95):\n",
    "    err_down = []\n",
    "    err_up = []\n",
    "    for x in range(len(X)):\n",
    "        preds = []\n",
    "        for pred in model.estimators_:\n",
    "            preds.append(pred.predict(X.iloc[x:x+1,:])[0])\n",
    "        err_down.append(np.percentile(preds, (100 - percentile) / 2. ))\n",
    "        err_up.append(np.percentile(preds, 100 - (100 - percentile) / 2.))\n",
    "    return err_down, err_up\n",
    "\n",
    "err_down, err_up = pred_ints(extra, X, percentile=90)"
   ]
  },
  {
   "cell_type": "code",
   "execution_count": 136,
   "metadata": {},
   "outputs": [],
   "source": [
    "y_pred = extra.predict(X)"
   ]
  },
  {
   "cell_type": "code",
   "execution_count": 137,
   "metadata": {},
   "outputs": [
    {
     "data": {
      "image/png": "[encoded data removed]",
      "text/plain": [
       "<Figure size 432x288 with 1 Axes>"
      ]
     },
     "metadata": {
      "needs_background": "light"
     },
     "output_type": "display_data"
    }
   ],
   "source": [
    "asymmetric_error = [err_down, err_up]\n",
    "\n",
    "plt.errorbar(y, y_pred, yerr=asymmetric_error, fmt='o')\n",
    "plt.plot(np.linspace(0, .4, 1000),np.linspace(0, .4, 1000))\n",
    "plt.xlabel('Reported Loss')\n",
    "plt.ylabel('Predicted Loss')\n",
    "plt.show()"
   ]
  },
  {
   "cell_type": "code",
   "execution_count": null,
   "metadata": {},
   "outputs": [],
   "source": []
  }
 ],
 "metadata": {
  "kernelspec": {
   "display_name": "Python 3",
   "language": "python",
   "name": "python3"
  },
  "language_info": {
   "codemirror_mode": {
    "name": "ipython",
    "version": 3
   },
   "file_extension": ".py",
   "mimetype": "text/x-python",
   "name": "python",
   "nbconvert_exporter": "python",
   "pygments_lexer": "ipython3",
   "version": "3.7.1"
  }
 },
 "nbformat": 4,
 "nbformat_minor": 2
}
