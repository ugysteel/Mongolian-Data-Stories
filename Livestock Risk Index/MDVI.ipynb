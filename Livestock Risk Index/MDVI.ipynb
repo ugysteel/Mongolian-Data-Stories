{
 "cells": [
  {
   "cell_type": "markdown",
   "metadata": {},
   "source": [
    "# Livestock Mortality Index"
   ]
  },
  {
   "cell_type": "markdown",
   "metadata": {},
   "source": [
    "This notebook will attempt to replicate and expand on a model to forecast the risk of livestock mortality in aimags (provinces) of Mongolia. The index is based on work completed by the People in Need NGO and the English report is available in this repository."
   ]
  },
  {
   "cell_type": "markdown",
   "metadata": {},
   "source": [
    "## Data import"
   ]
  },
  {
   "cell_type": "markdown",
   "metadata": {},
   "source": [
    "The data used in the model is stored in a PDF file as tables. These tables were copied into an Excel spreadsheet and several cleaning and transformation steps took place. The original data copied from the PDF report is in **data/DATASET for MVDI report.xlsx** and the cleaned data is stored at **data/MVDI Tables Cleaned.xlsx**."
   ]
  },
  {
   "cell_type": "code",
   "execution_count": 24,
   "metadata": {},
   "outputs": [],
   "source": [
    "#Import required libraries\n",
    "import pandas as pd\n",
    "\n",
    "import matplotlib.pyplot as plt\n",
    "%matplotlib inline\n",
    "plt.style.use('/storage/mds.mplstyle')\n",
    "\n",
    "from sklearn.metrics import confusion_matrix"
   ]
  },
  {
   "cell_type": "code",
   "execution_count": 25,
   "metadata": {},
   "outputs": [],
   "source": [
    "xls = pd.ExcelFile('data/MVDI Tables Cleaned.xlsx')"
   ]
  },
  {
   "cell_type": "code",
   "execution_count": 26,
   "metadata": {},
   "outputs": [
    {
     "data": {
      "text/plain": [
       "['temp',\n",
       " 'loss',\n",
       " 'index',\n",
       " 'pasture_anomaly',\n",
       " 'pasture',\n",
       " 'biomass_anomaly',\n",
       " 'biomass',\n",
       " 'zootechnical',\n",
       " 'mortality',\n",
       " 'fecundity',\n",
       " 'snowfall_anomaly']"
      ]
     },
     "execution_count": 26,
     "metadata": {},
     "output_type": "execute_result"
    }
   ],
   "source": [
    "sheets = xls.sheet_names\n",
    "sheets"
   ]
  },
  {
   "cell_type": "code",
   "execution_count": 27,
   "metadata": {},
   "outputs": [],
   "source": [
    "temp = xls.parse('temp')\n",
    "loss = xls.parse('loss')\n",
    "index = xls.parse('index')\n",
    "pasture_anomaly = xls.parse('pasture_anomaly')\n",
    "pasture = xls.parse('pasture')\n",
    "biomass_anomaly = xls.parse('biomass_anomaly')\n",
    "biomass = xls.parse('biomass')\n",
    "zootechnical = xls.parse('zootechnical')\n",
    "mortality = xls.parse('mortality')\n",
    "fecundity = xls.parse('fecundity')\n",
    "snowfall_anomaly = xls.parse('snowfall_anomaly')"
   ]
  },
  {
   "cell_type": "code",
   "execution_count": 28,
   "metadata": {},
   "outputs": [],
   "source": [
    "dfs = [temp,loss, index, pasture_anomaly, pasture, biomass_anomaly, biomass, zootechnical, mortality,fecundity,snowfall_anomaly]"
   ]
  },
  {
   "cell_type": "code",
   "execution_count": 29,
   "metadata": {},
   "outputs": [],
   "source": [
    "from functools import reduce\n",
    "df = reduce(lambda  left,right: pd.merge(left,right,on=['Aimag','Year'], how='inner'), dfs)"
   ]
  },
  {
   "cell_type": "code",
   "execution_count": 30,
   "metadata": {},
   "outputs": [
    {
     "data": {
      "text/plain": [
       "array(['Arkhangai', 'Bayankhongor', 'Bayan‐Ulgii', 'Bulgan', 'Dornod',\n",
       "       'Dornogovi', 'Dundgovi', 'Govisumber', 'Khentii', 'Khovd',\n",
       "       'Khuvsgul', 'Orkhon', 'Selenge', 'Sukhbaatar', 'Tuv', 'Ulaanbaatar',\n",
       "       'Umnugovi', 'Uvs', 'Uvurkhangai', 'Zavkhan'], dtype=object)"
      ]
     },
     "execution_count": 30,
     "metadata": {},
     "output_type": "execute_result"
    }
   ],
   "source": [
    "df['Aimag'].unique()"
   ]
  },
  {
   "cell_type": "code",
   "execution_count": 31,
   "metadata": {},
   "outputs": [
    {
     "data": {
      "text/html": [
       "<div>\n",
       "<style scoped>\n",
       "    .dataframe tbody tr th:only-of-type {\n",
       "        vertical-align: middle;\n",
       "    }\n",
       "\n",
       "    .dataframe tbody tr th {\n",
       "        vertical-align: top;\n",
       "    }\n",
       "\n",
       "    .dataframe thead th {\n",
       "        text-align: right;\n",
       "    }\n",
       "</style>\n",
       "<table border=\"1\" class=\"dataframe\">\n",
       "  <thead>\n",
       "    <tr style=\"text-align: right;\">\n",
       "      <th></th>\n",
       "      <th>Aimag</th>\n",
       "      <th>Year</th>\n",
       "      <th>Temprature anomalies</th>\n",
       "      <th>Livestock Loss Rates from - 1998-2017</th>\n",
       "      <th>Past values of the vulnerability index according to Aimag - 1: Average weighed by livestock numbers in SFU</th>\n",
       "      <th>Pasture Use Anomaly</th>\n",
       "      <th>Pasture Use</th>\n",
       "      <th>Standing forage biomass anomaly</th>\n",
       "      <th>Standing forage biomass (tons)</th>\n",
       "      <th>Zootechnical score</th>\n",
       "      <th>Mortality score</th>\n",
       "      <th>Fecundity score</th>\n",
       "      <th>Snowfall anomalies</th>\n",
       "    </tr>\n",
       "  </thead>\n",
       "  <tbody>\n",
       "    <tr>\n",
       "      <th>0</th>\n",
       "      <td>Arkhangai</td>\n",
       "      <td>1999</td>\n",
       "      <td>2.75</td>\n",
       "      <td>0.01</td>\n",
       "      <td>1.69</td>\n",
       "      <td>0.04</td>\n",
       "      <td>0.11</td>\n",
       "      <td>0.05</td>\n",
       "      <td>2.96E+ 07</td>\n",
       "      <td>0</td>\n",
       "      <td>0</td>\n",
       "      <td>0</td>\n",
       "      <td>-3.80</td>\n",
       "    </tr>\n",
       "    <tr>\n",
       "      <th>1</th>\n",
       "      <td>Arkhangai</td>\n",
       "      <td>2000</td>\n",
       "      <td>-0.39</td>\n",
       "      <td>0.06</td>\n",
       "      <td>1.94</td>\n",
       "      <td>0.18</td>\n",
       "      <td>0.12</td>\n",
       "      <td>-0.13</td>\n",
       "      <td>2.44E+ 07</td>\n",
       "      <td>0</td>\n",
       "      <td>0</td>\n",
       "      <td>0</td>\n",
       "      <td>4.57</td>\n",
       "    </tr>\n",
       "    <tr>\n",
       "      <th>2</th>\n",
       "      <td>Arkhangai</td>\n",
       "      <td>2001</td>\n",
       "      <td>-1.62</td>\n",
       "      <td>0.24</td>\n",
       "      <td>2.63</td>\n",
       "      <td>-0.02</td>\n",
       "      <td>0.10</td>\n",
       "      <td>-0.22</td>\n",
       "      <td>2.20E+ 07</td>\n",
       "      <td>2</td>\n",
       "      <td>1</td>\n",
       "      <td>1</td>\n",
       "      <td>8.10</td>\n",
       "    </tr>\n",
       "    <tr>\n",
       "      <th>3</th>\n",
       "      <td>Arkhangai</td>\n",
       "      <td>2002</td>\n",
       "      <td>0.86</td>\n",
       "      <td>0.04</td>\n",
       "      <td>2.81</td>\n",
       "      <td>0.63</td>\n",
       "      <td>0.17</td>\n",
       "      <td>-0.57</td>\n",
       "      <td>1.22E+ 07</td>\n",
       "      <td>0</td>\n",
       "      <td>0</td>\n",
       "      <td>0</td>\n",
       "      <td>5.44</td>\n",
       "    </tr>\n",
       "    <tr>\n",
       "      <th>4</th>\n",
       "      <td>Arkhangai</td>\n",
       "      <td>2003</td>\n",
       "      <td>-0.10</td>\n",
       "      <td>0.07</td>\n",
       "      <td>1.15</td>\n",
       "      <td>-0.25</td>\n",
       "      <td>0.08</td>\n",
       "      <td>-0.07</td>\n",
       "      <td>2.61E+ 07</td>\n",
       "      <td>0</td>\n",
       "      <td>0</td>\n",
       "      <td>0</td>\n",
       "      <td>9.70</td>\n",
       "    </tr>\n",
       "  </tbody>\n",
       "</table>\n",
       "</div>"
      ],
      "text/plain": [
       "       Aimag  Year  Temprature anomalies  \\\n",
       "0  Arkhangai  1999                  2.75   \n",
       "1  Arkhangai  2000                 -0.39   \n",
       "2  Arkhangai  2001                 -1.62   \n",
       "3  Arkhangai  2002                  0.86   \n",
       "4  Arkhangai  2003                 -0.10   \n",
       "\n",
       "   Livestock Loss Rates from - 1998-2017  \\\n",
       "0                                   0.01   \n",
       "1                                   0.06   \n",
       "2                                   0.24   \n",
       "3                                   0.04   \n",
       "4                                   0.07   \n",
       "\n",
       "   Past values of the vulnerability index according to Aimag - 1: Average weighed by livestock numbers in SFU  \\\n",
       "0                                               1.69                                                            \n",
       "1                                               1.94                                                            \n",
       "2                                               2.63                                                            \n",
       "3                                               2.81                                                            \n",
       "4                                               1.15                                                            \n",
       "\n",
       "   Pasture Use Anomaly  Pasture Use  Standing forage biomass anomaly  \\\n",
       "0                 0.04         0.11                             0.05   \n",
       "1                 0.18         0.12                            -0.13   \n",
       "2                -0.02         0.10                            -0.22   \n",
       "3                 0.63         0.17                            -0.57   \n",
       "4                -0.25         0.08                            -0.07   \n",
       "\n",
       "  Standing forage biomass (tons)  Zootechnical score  Mortality score  \\\n",
       "0                      2.96E+ 07                   0                0   \n",
       "1                      2.44E+ 07                   0                0   \n",
       "2                      2.20E+ 07                   2                1   \n",
       "3                      1.22E+ 07                   0                0   \n",
       "4                      2.61E+ 07                   0                0   \n",
       "\n",
       "   Fecundity score  Snowfall anomalies  \n",
       "0                0               -3.80  \n",
       "1                0                4.57  \n",
       "2                1                8.10  \n",
       "3                0                5.44  \n",
       "4                0                9.70  "
      ]
     },
     "execution_count": 31,
     "metadata": {},
     "output_type": "execute_result"
    }
   ],
   "source": [
    "df.head()"
   ]
  },
  {
   "cell_type": "markdown",
   "metadata": {},
   "source": [
    "## Data Cleaning"
   ]
  },
  {
   "cell_type": "markdown",
   "metadata": {},
   "source": [
    "Now that we have all of our features in one dataframe we can start cleaning the dataset so it is in a better format. \n",
    "\n",
    "To do:\n",
    "- Rename features to be more simple and allow for easier reference\n",
    "- Standing forage biomass was stored in the original report as scientific notation. This is now stored as text. \n",
    "- "
   ]
  },
  {
   "cell_type": "markdown",
   "metadata": {},
   "source": [
    "### Rename Columns"
   ]
  },
  {
   "cell_type": "code",
   "execution_count": 32,
   "metadata": {},
   "outputs": [
    {
     "data": {
      "text/plain": [
       "Index(['Aimag', 'Year', 'Temprature anomalies',\n",
       "       'Livestock Loss Rates from - 1998-2017',\n",
       "       'Past values of the vulnerability index according to Aimag - 1: Average weighed by livestock numbers in SFU',\n",
       "       'Pasture Use Anomaly', 'Pasture Use', 'Standing forage biomass anomaly',\n",
       "       'Standing forage biomass (tons)', 'Zootechnical score',\n",
       "       'Mortality score', 'Fecundity score', 'Snowfall anomalies'],\n",
       "      dtype='object')"
      ]
     },
     "execution_count": 32,
     "metadata": {},
     "output_type": "execute_result"
    }
   ],
   "source": [
    "df.columns"
   ]
  },
  {
   "cell_type": "code",
   "execution_count": 33,
   "metadata": {},
   "outputs": [],
   "source": [
    "df.rename(index=str,columns={'Aimag':'aimag', 'Year':'year', 'Temprature anomalies':'temperature_anomaly',\n",
    "       'Livestock Loss Rates from - 1998-2017':'livestock_loss',\n",
    "       'Past values of the vulnerability index according to Aimag - 1: Average weighed by livestock numbers in SFU':'index',\n",
    "       'Pasture Use Anomaly':'pasture_use_anomaly', 'Pasture Use':'pasture_use', 'Standing forage biomass anomaly':'biomass_anomaly',\n",
    "       'Standing forage biomass (tons)':'biomass', 'Zootechnical score':'zootechnical',\n",
    "       'Mortality score':'mortality', 'Fecundity score':'fecundity', 'Snowfall anomalies':'snowfall_anomaly'},inplace=True)"
   ]
  },
  {
   "cell_type": "markdown",
   "metadata": {},
   "source": [
    "### Convert biomass to numeric feature"
   ]
  },
  {
   "cell_type": "markdown",
   "metadata": {},
   "source": [
    "The biomass feature is stored in the format '2.96E+ 07' (scientific notation). We do not have access to the complete number, so we will concatenate the number and take the left three characters. "
   ]
  },
  {
   "cell_type": "code",
   "execution_count": 34,
   "metadata": {},
   "outputs": [],
   "source": [
    "df['biomass'] = df['biomass'].str[:4]"
   ]
  },
  {
   "cell_type": "code",
   "execution_count": 35,
   "metadata": {},
   "outputs": [],
   "source": [
    "df['biomass'] = pd.to_numeric(df['biomass'])"
   ]
  },
  {
   "cell_type": "code",
   "execution_count": 36,
   "metadata": {},
   "outputs": [
    {
     "data": {
      "text/html": [
       "<div>\n",
       "<style scoped>\n",
       "    .dataframe tbody tr th:only-of-type {\n",
       "        vertical-align: middle;\n",
       "    }\n",
       "\n",
       "    .dataframe tbody tr th {\n",
       "        vertical-align: top;\n",
       "    }\n",
       "\n",
       "    .dataframe thead th {\n",
       "        text-align: right;\n",
       "    }\n",
       "</style>\n",
       "<table border=\"1\" class=\"dataframe\">\n",
       "  <thead>\n",
       "    <tr style=\"text-align: right;\">\n",
       "      <th></th>\n",
       "      <th>aimag</th>\n",
       "      <th>year</th>\n",
       "      <th>temperature_anomaly</th>\n",
       "      <th>livestock_loss</th>\n",
       "      <th>index</th>\n",
       "      <th>pasture_use_anomaly</th>\n",
       "      <th>pasture_use</th>\n",
       "      <th>biomass_anomaly</th>\n",
       "      <th>biomass</th>\n",
       "      <th>zootechnical</th>\n",
       "      <th>mortality</th>\n",
       "      <th>fecundity</th>\n",
       "      <th>snowfall_anomaly</th>\n",
       "    </tr>\n",
       "  </thead>\n",
       "  <tbody>\n",
       "    <tr>\n",
       "      <th>0</th>\n",
       "      <td>Arkhangai</td>\n",
       "      <td>1999</td>\n",
       "      <td>2.75</td>\n",
       "      <td>0.01</td>\n",
       "      <td>1.69</td>\n",
       "      <td>0.04</td>\n",
       "      <td>0.11</td>\n",
       "      <td>0.05</td>\n",
       "      <td>2.96</td>\n",
       "      <td>0</td>\n",
       "      <td>0</td>\n",
       "      <td>0</td>\n",
       "      <td>-3.80</td>\n",
       "    </tr>\n",
       "    <tr>\n",
       "      <th>1</th>\n",
       "      <td>Arkhangai</td>\n",
       "      <td>2000</td>\n",
       "      <td>-0.39</td>\n",
       "      <td>0.06</td>\n",
       "      <td>1.94</td>\n",
       "      <td>0.18</td>\n",
       "      <td>0.12</td>\n",
       "      <td>-0.13</td>\n",
       "      <td>2.44</td>\n",
       "      <td>0</td>\n",
       "      <td>0</td>\n",
       "      <td>0</td>\n",
       "      <td>4.57</td>\n",
       "    </tr>\n",
       "    <tr>\n",
       "      <th>2</th>\n",
       "      <td>Arkhangai</td>\n",
       "      <td>2001</td>\n",
       "      <td>-1.62</td>\n",
       "      <td>0.24</td>\n",
       "      <td>2.63</td>\n",
       "      <td>-0.02</td>\n",
       "      <td>0.10</td>\n",
       "      <td>-0.22</td>\n",
       "      <td>2.20</td>\n",
       "      <td>2</td>\n",
       "      <td>1</td>\n",
       "      <td>1</td>\n",
       "      <td>8.10</td>\n",
       "    </tr>\n",
       "    <tr>\n",
       "      <th>3</th>\n",
       "      <td>Arkhangai</td>\n",
       "      <td>2002</td>\n",
       "      <td>0.86</td>\n",
       "      <td>0.04</td>\n",
       "      <td>2.81</td>\n",
       "      <td>0.63</td>\n",
       "      <td>0.17</td>\n",
       "      <td>-0.57</td>\n",
       "      <td>1.22</td>\n",
       "      <td>0</td>\n",
       "      <td>0</td>\n",
       "      <td>0</td>\n",
       "      <td>5.44</td>\n",
       "    </tr>\n",
       "    <tr>\n",
       "      <th>4</th>\n",
       "      <td>Arkhangai</td>\n",
       "      <td>2003</td>\n",
       "      <td>-0.10</td>\n",
       "      <td>0.07</td>\n",
       "      <td>1.15</td>\n",
       "      <td>-0.25</td>\n",
       "      <td>0.08</td>\n",
       "      <td>-0.07</td>\n",
       "      <td>2.61</td>\n",
       "      <td>0</td>\n",
       "      <td>0</td>\n",
       "      <td>0</td>\n",
       "      <td>9.70</td>\n",
       "    </tr>\n",
       "  </tbody>\n",
       "</table>\n",
       "</div>"
      ],
      "text/plain": [
       "       aimag  year  temperature_anomaly  livestock_loss  index  \\\n",
       "0  Arkhangai  1999                 2.75            0.01   1.69   \n",
       "1  Arkhangai  2000                -0.39            0.06   1.94   \n",
       "2  Arkhangai  2001                -1.62            0.24   2.63   \n",
       "3  Arkhangai  2002                 0.86            0.04   2.81   \n",
       "4  Arkhangai  2003                -0.10            0.07   1.15   \n",
       "\n",
       "   pasture_use_anomaly  pasture_use  biomass_anomaly  biomass  zootechnical  \\\n",
       "0                 0.04         0.11             0.05     2.96             0   \n",
       "1                 0.18         0.12            -0.13     2.44             0   \n",
       "2                -0.02         0.10            -0.22     2.20             2   \n",
       "3                 0.63         0.17            -0.57     1.22             0   \n",
       "4                -0.25         0.08            -0.07     2.61             0   \n",
       "\n",
       "   mortality  fecundity  snowfall_anomaly  \n",
       "0          0          0             -3.80  \n",
       "1          0          0              4.57  \n",
       "2          1          1              8.10  \n",
       "3          0          0              5.44  \n",
       "4          0          0              9.70  "
      ]
     },
     "execution_count": 36,
     "metadata": {},
     "output_type": "execute_result"
    }
   ],
   "source": [
    "df.head()"
   ]
  },
  {
   "cell_type": "markdown",
   "metadata": {},
   "source": [
    "## Confusion Matrix"
   ]
  },
  {
   "cell_type": "markdown",
   "metadata": {},
   "source": [
    "As the MVDI research paper gives us mortality and the output risk scores, we can create an independent accuracy assessment. In addition, we can use the papers own classification methodology to create a confusion matrix that will allow us to assess false positives and negatives.\n",
    "\n",
    "The classification methodology creates bins for the risk scores that correspond to a range of mortality. It is as follows:\n",
    "\n",
    "Index value Mean mortality\n",
    "- 0‐1     1%\n",
    "- 1‐2     3%\n",
    "- 2‐3     6%\n",
    "- 3+      17%\n",
    "\n",
    "As the bins for both the index and mean mortality don't say which boundary is inclusive or exclusive, we will need to do a little determination of our own. \n",
    "\n",
    "Index --- Mean Mortality\n",
    "- 0-1  [0%-3%]\n",
    "- 1-2  (3%-6%]\n",
    "- 2-3  (6%-17%]\n",
    "- 3+   (17%+)\n",
    "\n",
    "The confusion matrix was created in Excel and is located in the 'data' directory."
   ]
  },
  {
   "cell_type": "markdown",
   "metadata": {},
   "source": [
    "## Recreating MVDI Index"
   ]
  },
  {
   "cell_type": "markdown",
   "metadata": {},
   "source": [
    "Using the data in the MVDI report, I will attempt to recreate the index using the available data. Some key points:\n",
    "\n",
    "- We do not have the dataframe or a flat file we can import to ensure we have the correct data format. Our data was copied from PDF tables and assembled into our dataframe here.\n",
    "- The standing forage biomass data was written in scientific notation in the report, meaning we may have a loss of data with our truncated numbers.\n",
    "- The original model was created in R using the geeglm package. This is a general linear model. We can somewhat replicate this via the Linear Regression\n"
   ]
  },
  {
   "cell_type": "code",
   "execution_count": 37,
   "metadata": {},
   "outputs": [
    {
     "data": {
      "text/html": [
       "<img src=\"assets/features.PNG\",width=500>\n"
      ],
      "text/plain": [
       "<IPython.core.display.HTML object>"
      ]
     },
     "metadata": {},
     "output_type": "display_data"
    }
   ],
   "source": [
    "%%html\n",
    "<img src=\"assets/features.PNG\",width=500>"
   ]
  },
  {
   "cell_type": "code",
   "execution_count": 38,
   "metadata": {},
   "outputs": [
    {
     "data": {
      "text/html": [
       "<div>\n",
       "<style scoped>\n",
       "    .dataframe tbody tr th:only-of-type {\n",
       "        vertical-align: middle;\n",
       "    }\n",
       "\n",
       "    .dataframe tbody tr th {\n",
       "        vertical-align: top;\n",
       "    }\n",
       "\n",
       "    .dataframe thead th {\n",
       "        text-align: right;\n",
       "    }\n",
       "</style>\n",
       "<table border=\"1\" class=\"dataframe\">\n",
       "  <thead>\n",
       "    <tr style=\"text-align: right;\">\n",
       "      <th></th>\n",
       "      <th>aimag</th>\n",
       "      <th>year</th>\n",
       "      <th>temperature_anomaly</th>\n",
       "      <th>livestock_loss</th>\n",
       "      <th>index</th>\n",
       "      <th>pasture_use_anomaly</th>\n",
       "      <th>pasture_use</th>\n",
       "      <th>biomass_anomaly</th>\n",
       "      <th>biomass</th>\n",
       "      <th>zootechnical</th>\n",
       "      <th>mortality</th>\n",
       "      <th>fecundity</th>\n",
       "      <th>snowfall_anomaly</th>\n",
       "    </tr>\n",
       "  </thead>\n",
       "  <tbody>\n",
       "    <tr>\n",
       "      <th>0</th>\n",
       "      <td>Arkhangai</td>\n",
       "      <td>1999</td>\n",
       "      <td>2.75</td>\n",
       "      <td>0.01</td>\n",
       "      <td>1.69</td>\n",
       "      <td>0.04</td>\n",
       "      <td>0.11</td>\n",
       "      <td>0.05</td>\n",
       "      <td>2.96</td>\n",
       "      <td>0</td>\n",
       "      <td>0</td>\n",
       "      <td>0</td>\n",
       "      <td>-3.80</td>\n",
       "    </tr>\n",
       "    <tr>\n",
       "      <th>1</th>\n",
       "      <td>Arkhangai</td>\n",
       "      <td>2000</td>\n",
       "      <td>-0.39</td>\n",
       "      <td>0.06</td>\n",
       "      <td>1.94</td>\n",
       "      <td>0.18</td>\n",
       "      <td>0.12</td>\n",
       "      <td>-0.13</td>\n",
       "      <td>2.44</td>\n",
       "      <td>0</td>\n",
       "      <td>0</td>\n",
       "      <td>0</td>\n",
       "      <td>4.57</td>\n",
       "    </tr>\n",
       "    <tr>\n",
       "      <th>2</th>\n",
       "      <td>Arkhangai</td>\n",
       "      <td>2001</td>\n",
       "      <td>-1.62</td>\n",
       "      <td>0.24</td>\n",
       "      <td>2.63</td>\n",
       "      <td>-0.02</td>\n",
       "      <td>0.10</td>\n",
       "      <td>-0.22</td>\n",
       "      <td>2.20</td>\n",
       "      <td>2</td>\n",
       "      <td>1</td>\n",
       "      <td>1</td>\n",
       "      <td>8.10</td>\n",
       "    </tr>\n",
       "    <tr>\n",
       "      <th>3</th>\n",
       "      <td>Arkhangai</td>\n",
       "      <td>2002</td>\n",
       "      <td>0.86</td>\n",
       "      <td>0.04</td>\n",
       "      <td>2.81</td>\n",
       "      <td>0.63</td>\n",
       "      <td>0.17</td>\n",
       "      <td>-0.57</td>\n",
       "      <td>1.22</td>\n",
       "      <td>0</td>\n",
       "      <td>0</td>\n",
       "      <td>0</td>\n",
       "      <td>5.44</td>\n",
       "    </tr>\n",
       "    <tr>\n",
       "      <th>4</th>\n",
       "      <td>Arkhangai</td>\n",
       "      <td>2003</td>\n",
       "      <td>-0.10</td>\n",
       "      <td>0.07</td>\n",
       "      <td>1.15</td>\n",
       "      <td>-0.25</td>\n",
       "      <td>0.08</td>\n",
       "      <td>-0.07</td>\n",
       "      <td>2.61</td>\n",
       "      <td>0</td>\n",
       "      <td>0</td>\n",
       "      <td>0</td>\n",
       "      <td>9.70</td>\n",
       "    </tr>\n",
       "  </tbody>\n",
       "</table>\n",
       "</div>"
      ],
      "text/plain": [
       "       aimag  year  temperature_anomaly  livestock_loss  index  \\\n",
       "0  Arkhangai  1999                 2.75            0.01   1.69   \n",
       "1  Arkhangai  2000                -0.39            0.06   1.94   \n",
       "2  Arkhangai  2001                -1.62            0.24   2.63   \n",
       "3  Arkhangai  2002                 0.86            0.04   2.81   \n",
       "4  Arkhangai  2003                -0.10            0.07   1.15   \n",
       "\n",
       "   pasture_use_anomaly  pasture_use  biomass_anomaly  biomass  zootechnical  \\\n",
       "0                 0.04         0.11             0.05     2.96             0   \n",
       "1                 0.18         0.12            -0.13     2.44             0   \n",
       "2                -0.02         0.10            -0.22     2.20             2   \n",
       "3                 0.63         0.17            -0.57     1.22             0   \n",
       "4                -0.25         0.08            -0.07     2.61             0   \n",
       "\n",
       "   mortality  fecundity  snowfall_anomaly  \n",
       "0          0          0             -3.80  \n",
       "1          0          0              4.57  \n",
       "2          1          1              8.10  \n",
       "3          0          0              5.44  \n",
       "4          0          0              9.70  "
      ]
     },
     "execution_count": 38,
     "metadata": {},
     "output_type": "execute_result"
    }
   ],
   "source": [
    "df.head()"
   ]
  },
  {
   "cell_type": "markdown",
   "metadata": {},
   "source": [
    "### Construct training dataframe.\n",
    "\n",
    "Using the features from the report we can construct our dataframe. We have the 'index' values as created by the MVDI model. \n",
    "\n",
    "- The target variable is livestock_loss, which is expressed as a fraction of 1 (100%)\n",
    "\n",
    "Here is the fit function as given by the report:\n",
    "> gee.fit <- geeglm(Loss_rate_Y_100~Snowfall11_3_anomaly_Y*Forage_anomaly_Y_minus_1*Zootechnical_index_Y_minus_1+Temp11_2_anomaly_Y*Pasture_Use_Y_minus_1_anomaly*Zootechnical_index_Y_minus_1,\n",
    "id=Aimag_code, waves= Year, data=Mortality_Mongolia_geepack, family=poisson, corstr=”exch”)\n",
    "\n",
    "As such we can add the following features to our training dataframe:\n",
    "\n",
    "- snowfall_anomaly (N)\n",
    "- biomass_anomaly (N-1)\n",
    "- zootechnical (N-1)\n",
    "- temperature_anomaly (N)\n",
    "- pasture_use_anomaly (N-1)\n",
    "- livestock_loss (target variable)"
   ]
  },
  {
   "cell_type": "code",
   "execution_count": 47,
   "metadata": {},
   "outputs": [],
   "source": [
    "train = df[['snowfall_anomaly','biomass_anomaly','zootechnical','temperature_anomaly','pasture_use_anomaly','livestock_loss']]"
   ]
  },
  {
   "cell_type": "code",
   "execution_count": 48,
   "metadata": {},
   "outputs": [
    {
     "data": {
      "text/html": [
       "<div>\n",
       "<style scoped>\n",
       "    .dataframe tbody tr th:only-of-type {\n",
       "        vertical-align: middle;\n",
       "    }\n",
       "\n",
       "    .dataframe tbody tr th {\n",
       "        vertical-align: top;\n",
       "    }\n",
       "\n",
       "    .dataframe thead th {\n",
       "        text-align: right;\n",
       "    }\n",
       "</style>\n",
       "<table border=\"1\" class=\"dataframe\">\n",
       "  <thead>\n",
       "    <tr style=\"text-align: right;\">\n",
       "      <th></th>\n",
       "      <th>snowfall_anomaly</th>\n",
       "      <th>biomass_anomaly</th>\n",
       "      <th>zootechnical</th>\n",
       "      <th>temperature_anomaly</th>\n",
       "      <th>pasture_use_anomaly</th>\n",
       "      <th>livestock_loss</th>\n",
       "    </tr>\n",
       "  </thead>\n",
       "  <tbody>\n",
       "    <tr>\n",
       "      <th>0</th>\n",
       "      <td>-3.80</td>\n",
       "      <td>0.05</td>\n",
       "      <td>0</td>\n",
       "      <td>2.75</td>\n",
       "      <td>0.04</td>\n",
       "      <td>0.01</td>\n",
       "    </tr>\n",
       "    <tr>\n",
       "      <th>1</th>\n",
       "      <td>4.57</td>\n",
       "      <td>-0.13</td>\n",
       "      <td>0</td>\n",
       "      <td>-0.39</td>\n",
       "      <td>0.18</td>\n",
       "      <td>0.06</td>\n",
       "    </tr>\n",
       "    <tr>\n",
       "      <th>2</th>\n",
       "      <td>8.10</td>\n",
       "      <td>-0.22</td>\n",
       "      <td>2</td>\n",
       "      <td>-1.62</td>\n",
       "      <td>-0.02</td>\n",
       "      <td>0.24</td>\n",
       "    </tr>\n",
       "    <tr>\n",
       "      <th>3</th>\n",
       "      <td>5.44</td>\n",
       "      <td>-0.57</td>\n",
       "      <td>0</td>\n",
       "      <td>0.86</td>\n",
       "      <td>0.63</td>\n",
       "      <td>0.04</td>\n",
       "    </tr>\n",
       "    <tr>\n",
       "      <th>4</th>\n",
       "      <td>9.70</td>\n",
       "      <td>-0.07</td>\n",
       "      <td>0</td>\n",
       "      <td>-0.10</td>\n",
       "      <td>-0.25</td>\n",
       "      <td>0.07</td>\n",
       "    </tr>\n",
       "  </tbody>\n",
       "</table>\n",
       "</div>"
      ],
      "text/plain": [
       "   snowfall_anomaly  biomass_anomaly  zootechnical  temperature_anomaly  \\\n",
       "0             -3.80             0.05             0                 2.75   \n",
       "1              4.57            -0.13             0                -0.39   \n",
       "2              8.10            -0.22             2                -1.62   \n",
       "3              5.44            -0.57             0                 0.86   \n",
       "4              9.70            -0.07             0                -0.10   \n",
       "\n",
       "   pasture_use_anomaly  livestock_loss  \n",
       "0                 0.04            0.01  \n",
       "1                 0.18            0.06  \n",
       "2                -0.02            0.24  \n",
       "3                 0.63            0.04  \n",
       "4                -0.25            0.07  "
      ]
     },
     "execution_count": 48,
     "metadata": {},
     "output_type": "execute_result"
    }
   ],
   "source": [
    "train.head()"
   ]
  },
  {
   "cell_type": "markdown",
   "metadata": {},
   "source": [
    "We can now shift the three features said to use year N-1. Then we can drop the extra features."
   ]
  },
  {
   "cell_type": "code",
   "execution_count": 49,
   "metadata": {},
   "outputs": [],
   "source": [
    "train = train[['biomass_anomaly','zootechnical','pasture_use_anomaly']].shift(periods=1).merge(train,left_index=True,right_index=True,suffixes=('_1', ''))"
   ]
  },
  {
   "cell_type": "code",
   "execution_count": 50,
   "metadata": {},
   "outputs": [],
   "source": [
    "train.drop(columns=['biomass_anomaly','zootechnical','pasture_use_anomaly'],axis=1,inplace=True)"
   ]
  },
  {
   "cell_type": "code",
   "execution_count": 51,
   "metadata": {},
   "outputs": [
    {
     "data": {
      "text/html": [
       "<div>\n",
       "<style scoped>\n",
       "    .dataframe tbody tr th:only-of-type {\n",
       "        vertical-align: middle;\n",
       "    }\n",
       "\n",
       "    .dataframe tbody tr th {\n",
       "        vertical-align: top;\n",
       "    }\n",
       "\n",
       "    .dataframe thead th {\n",
       "        text-align: right;\n",
       "    }\n",
       "</style>\n",
       "<table border=\"1\" class=\"dataframe\">\n",
       "  <thead>\n",
       "    <tr style=\"text-align: right;\">\n",
       "      <th></th>\n",
       "      <th>biomass_anomaly_1</th>\n",
       "      <th>zootechnical_1</th>\n",
       "      <th>pasture_use_anomaly_1</th>\n",
       "      <th>snowfall_anomaly</th>\n",
       "      <th>temperature_anomaly</th>\n",
       "      <th>livestock_loss</th>\n",
       "    </tr>\n",
       "  </thead>\n",
       "  <tbody>\n",
       "    <tr>\n",
       "      <th>0</th>\n",
       "      <td>NaN</td>\n",
       "      <td>NaN</td>\n",
       "      <td>NaN</td>\n",
       "      <td>-3.80</td>\n",
       "      <td>2.75</td>\n",
       "      <td>0.01</td>\n",
       "    </tr>\n",
       "    <tr>\n",
       "      <th>1</th>\n",
       "      <td>0.05</td>\n",
       "      <td>0.0</td>\n",
       "      <td>0.04</td>\n",
       "      <td>4.57</td>\n",
       "      <td>-0.39</td>\n",
       "      <td>0.06</td>\n",
       "    </tr>\n",
       "    <tr>\n",
       "      <th>2</th>\n",
       "      <td>-0.13</td>\n",
       "      <td>0.0</td>\n",
       "      <td>0.18</td>\n",
       "      <td>8.10</td>\n",
       "      <td>-1.62</td>\n",
       "      <td>0.24</td>\n",
       "    </tr>\n",
       "    <tr>\n",
       "      <th>3</th>\n",
       "      <td>-0.22</td>\n",
       "      <td>2.0</td>\n",
       "      <td>-0.02</td>\n",
       "      <td>5.44</td>\n",
       "      <td>0.86</td>\n",
       "      <td>0.04</td>\n",
       "    </tr>\n",
       "    <tr>\n",
       "      <th>4</th>\n",
       "      <td>-0.57</td>\n",
       "      <td>0.0</td>\n",
       "      <td>0.63</td>\n",
       "      <td>9.70</td>\n",
       "      <td>-0.10</td>\n",
       "      <td>0.07</td>\n",
       "    </tr>\n",
       "  </tbody>\n",
       "</table>\n",
       "</div>"
      ],
      "text/plain": [
       "   biomass_anomaly_1  zootechnical_1  pasture_use_anomaly_1  snowfall_anomaly  \\\n",
       "0                NaN             NaN                    NaN             -3.80   \n",
       "1               0.05             0.0                   0.04              4.57   \n",
       "2              -0.13             0.0                   0.18              8.10   \n",
       "3              -0.22             2.0                  -0.02              5.44   \n",
       "4              -0.57             0.0                   0.63              9.70   \n",
       "\n",
       "   temperature_anomaly  livestock_loss  \n",
       "0                 2.75            0.01  \n",
       "1                -0.39            0.06  \n",
       "2                -1.62            0.24  \n",
       "3                 0.86            0.04  \n",
       "4                -0.10            0.07  "
      ]
     },
     "execution_count": 51,
     "metadata": {},
     "output_type": "execute_result"
    }
   ],
   "source": [
    "train.head()"
   ]
  },
  {
   "cell_type": "markdown",
   "metadata": {},
   "source": [
    "We will drop the NaN values as this row will not be able to be used in the training algorithm."
   ]
  },
  {
   "cell_type": "code",
   "execution_count": 52,
   "metadata": {},
   "outputs": [],
   "source": [
    "train.dropna(axis=0,inplace=True)"
   ]
  },
  {
   "cell_type": "markdown",
   "metadata": {},
   "source": [
    "## Train GLM Algorithms"
   ]
  },
  {
   "cell_type": "markdown",
   "metadata": {},
   "source": [
    "The model in the MVDI report is a GLM model (generalized linear model). A poisson distribution is specifically mentioned, so here we will attempt to use models that support this."
   ]
  },
  {
   "cell_type": "code",
   "execution_count": 54,
   "metadata": {},
   "outputs": [],
   "source": [
    "y = train['livestock_loss']\n",
    "X = train.drop(columns=['livestock_loss'],axis=1)"
   ]
  },
  {
   "cell_type": "code",
   "execution_count": 56,
   "metadata": {},
   "outputs": [
    {
     "data": {
      "text/plain": [
       "0.3672824753845999"
      ]
     },
     "execution_count": 56,
     "metadata": {},
     "output_type": "execute_result"
    }
   ],
   "source": [
    "from sklearn.linear_model import LinearRegression\n",
    "\n",
    "reg = LinearRegression()\n",
    "reg.fit(X, y)\n",
    "reg.score(X, y)"
   ]
  },
  {
   "cell_type": "code",
   "execution_count": 57,
   "metadata": {},
   "outputs": [
    {
     "data": {
      "text/plain": [
       "0.36721851937298511"
      ]
     },
     "execution_count": 57,
     "metadata": {},
     "output_type": "execute_result"
    }
   ],
   "source": [
    "from sklearn import linear_model\n",
    "ridge = linear_model.Ridge(alpha=.5)\n",
    "ridge.fit(X, y) \n",
    "ridge.score(X, y)"
   ]
  },
  {
   "cell_type": "code",
   "execution_count": 58,
   "metadata": {},
   "outputs": [
    {
     "data": {
      "text/plain": [
       "0.0"
      ]
     },
     "execution_count": 58,
     "metadata": {},
     "output_type": "execute_result"
    }
   ],
   "source": [
    "from sklearn import linear_model\n",
    "lasso = linear_model.Lasso(alpha=0.1\n",
    "lasso.fit(X, y)\n",
    "lasso.score(X, y)"
   ]
  },
  {
   "cell_type": "code",
   "execution_count": 59,
   "metadata": {},
   "outputs": [
    {
     "data": {
      "text/plain": [
       "1      0.06\n",
       "2      0.24\n",
       "3      0.04\n",
       "4      0.07\n",
       "5      0.01\n",
       "6      0.01\n",
       "7      0.01\n",
       "8      0.01\n",
       "9      0.01\n",
       "10     0.02\n",
       "11     0.30\n",
       "12     0.03\n",
       "13     0.02\n",
       "14     0.06\n",
       "15     0.02\n",
       "16     0.03\n",
       "17     0.09\n",
       "18     0.19\n",
       "19     0.43\n",
       "20     0.02\n",
       "21     0.01\n",
       "22     0.01\n",
       "23     0.01\n",
       "24     0.01\n",
       "25     0.03\n",
       "26     0.07\n",
       "27     0.24\n",
       "28     0.01\n",
       "29     0.01\n",
       "30     0.02\n",
       "       ... \n",
       "290    0.14\n",
       "291    0.12\n",
       "292    0.03\n",
       "293    0.00\n",
       "294    0.02\n",
       "295    0.01\n",
       "296    0.00\n",
       "297    0.04\n",
       "298    0.03\n",
       "299    0.46\n",
       "300    0.01\n",
       "301    0.00\n",
       "302    0.01\n",
       "303    0.00\n",
       "304    0.04\n",
       "305    0.18\n",
       "306    0.30\n",
       "307    0.06\n",
       "308    0.05\n",
       "309    0.01\n",
       "310    0.04\n",
       "311    0.01\n",
       "312    0.01\n",
       "313    0.02\n",
       "314    0.07\n",
       "315    0.36\n",
       "316    0.02\n",
       "317    0.01\n",
       "318    0.03\n",
       "319    0.01\n",
       "Name: livestock_loss, Length: 319, dtype: float64"
      ]
     },
     "execution_count": 59,
     "metadata": {},
     "output_type": "execute_result"
    }
   ],
   "source": [
    "y"
   ]
  },
  {
   "cell_type": "code",
   "execution_count": null,
   "metadata": {},
   "outputs": [],
   "source": []
  }
 ],
 "metadata": {
  "kernelspec": {
   "display_name": "Python 3",
   "language": "python",
   "name": "python3"
  },
  "language_info": {
   "codemirror_mode": {
    "name": "ipython",
    "version": 3
   },
   "file_extension": ".py",
   "mimetype": "text/x-python",
   "name": "python",
   "nbconvert_exporter": "python",
   "pygments_lexer": "ipython3",
   "version": "3.6.6"
  }
 },
 "nbformat": 4,
 "nbformat_minor": 2
}
