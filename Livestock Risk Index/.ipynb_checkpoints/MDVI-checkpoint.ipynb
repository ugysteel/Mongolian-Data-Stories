{
 "cells": [
  {
   "cell_type": "markdown",
   "metadata": {},
   "source": [
    "# Livestock Mortality Index"
   ]
  },
  {
   "cell_type": "markdown",
   "metadata": {},
   "source": [
    "This notebook will attempt to replicate and expand on a model to forecast the risk of livestock mortality in aimags (provinces) of Mongolia. The index is based on work completed by the People in Need NGO and the English report is available in this repository."
   ]
  },
  {
   "cell_type": "markdown",
   "metadata": {},
   "source": [
    "## Data import"
   ]
  },
  {
   "cell_type": "markdown",
   "metadata": {},
   "source": [
    "The data used in the model is stored in a PDF file as tables. These tables were copied into an Excel spreadsheet and several cleaning and transformation steps took place. The original data copied from the PDF report is in **data/DATASET for MVDI report.xlsx** and the cleaned data is stored at **data/MVDI Tables Cleaned.xlsx**."
   ]
  },
  {
   "cell_type": "code",
   "execution_count": 72,
   "metadata": {},
   "outputs": [],
   "source": [
    "#Import required libraries\n",
    "import pandas as pd\n",
    "\n",
    "import matplotlib.pyplot as plt\n",
    "%matplotlib inline\n",
    "plt.style.use('/storage/mds.mplstyle')"
   ]
  },
  {
   "cell_type": "code",
   "execution_count": 73,
   "metadata": {},
   "outputs": [],
   "source": [
    "xls = pd.ExcelFile('data/MVDI Tables Cleaned.xlsx')"
   ]
  },
  {
   "cell_type": "code",
   "execution_count": 74,
   "metadata": {},
   "outputs": [
    {
     "data": {
      "text/plain": [
       "['temp',\n",
       " 'loss',\n",
       " 'index',\n",
       " 'pasture_anomaly',\n",
       " 'pasture',\n",
       " 'biomass_anomaly',\n",
       " 'biomass',\n",
       " 'zootechnical',\n",
       " 'mortality',\n",
       " 'fecundity',\n",
       " 'snowfall_anomaly']"
      ]
     },
     "execution_count": 74,
     "metadata": {},
     "output_type": "execute_result"
    }
   ],
   "source": [
    "sheets = xls.sheet_names\n",
    "sheets"
   ]
  },
  {
   "cell_type": "code",
   "execution_count": 75,
   "metadata": {},
   "outputs": [],
   "source": [
    "temp = xls.parse('temp')\n",
    "loss = xls.parse('loss')\n",
    "index = xls.parse('index')\n",
    "pasture_anomaly = xls.parse('pasture_anomaly')\n",
    "pasture = xls.parse('pasture')\n",
    "biomass_anomaly = xls.parse('biomass_anomaly')\n",
    "biomass = xls.parse('biomass')\n",
    "zootechnical = xls.parse('zootechnical')\n",
    "mortality = xls.parse('mortality')\n",
    "fecundity = xls.parse('fecundity')\n",
    "snowfall_anomaly = xls.parse('snowfall_anomaly')"
   ]
  },
  {
   "cell_type": "code",
   "execution_count": 76,
   "metadata": {},
   "outputs": [],
   "source": [
    "dfs = [temp,loss, index, pasture_anomaly, pasture, biomass_anomaly, biomass, zootechnical, mortality,fecundity,snowfall_anomaly]"
   ]
  },
  {
   "cell_type": "code",
   "execution_count": 77,
   "metadata": {},
   "outputs": [],
   "source": [
    "from functools import reduce\n",
    "df = reduce(lambda  left,right: pd.merge(left,right,on=['Aimag','Year'], how='inner'), dfs)"
   ]
  },
  {
   "cell_type": "code",
   "execution_count": 80,
   "metadata": {},
   "outputs": [
    {
     "data": {
      "text/plain": [
       "array(['Arkhangai', 'Bayankhongor', 'Bayan‐Ulgii', 'Bulgan', 'Dornod',\n",
       "       'Dornogovi', 'Dundgovi', 'Govisumber', 'Khentii', 'Khovd',\n",
       "       'Khuvsgul', 'Orkhon', 'Selenge', 'Sukhbaatar', 'Tuv', 'Ulaanbaatar',\n",
       "       'Umnugovi', 'Uvs', 'Uvurkhangai', 'Zavkhan'], dtype=object)"
      ]
     },
     "execution_count": 80,
     "metadata": {},
     "output_type": "execute_result"
    }
   ],
   "source": [
    "df['Aimag'].unique()"
   ]
  },
  {
   "cell_type": "code",
   "execution_count": 81,
   "metadata": {},
   "outputs": [
    {
     "data": {
      "text/html": [
       "<div>\n",
       "<style scoped>\n",
       "    .dataframe tbody tr th:only-of-type {\n",
       "        vertical-align: middle;\n",
       "    }\n",
       "\n",
       "    .dataframe tbody tr th {\n",
       "        vertical-align: top;\n",
       "    }\n",
       "\n",
       "    .dataframe thead th {\n",
       "        text-align: right;\n",
       "    }\n",
       "</style>\n",
       "<table border=\"1\" class=\"dataframe\">\n",
       "  <thead>\n",
       "    <tr style=\"text-align: right;\">\n",
       "      <th></th>\n",
       "      <th>Aimag</th>\n",
       "      <th>Year</th>\n",
       "      <th>Temprature anomalies</th>\n",
       "      <th>Livestock Loss Rates from - 1998-2017</th>\n",
       "      <th>Past values of the vulnerability index according to Aimag - 1: Average weighed by livestock numbers in SFU</th>\n",
       "      <th>Pasture Use Anomaly</th>\n",
       "      <th>Pasture Use</th>\n",
       "      <th>Standing forage biomass anomaly</th>\n",
       "      <th>Standing forage biomass (tons)</th>\n",
       "      <th>Zootechnical score</th>\n",
       "      <th>Mortality score</th>\n",
       "      <th>Fecundity score</th>\n",
       "      <th>Snowfall anomalies</th>\n",
       "    </tr>\n",
       "  </thead>\n",
       "  <tbody>\n",
       "    <tr>\n",
       "      <th>0</th>\n",
       "      <td>Arkhangai</td>\n",
       "      <td>1999</td>\n",
       "      <td>2.75</td>\n",
       "      <td>0.01</td>\n",
       "      <td>1.69</td>\n",
       "      <td>0.04</td>\n",
       "      <td>0.11</td>\n",
       "      <td>0.05</td>\n",
       "      <td>2.96E+ 07</td>\n",
       "      <td>0</td>\n",
       "      <td>0</td>\n",
       "      <td>0</td>\n",
       "      <td>-3.80</td>\n",
       "    </tr>\n",
       "    <tr>\n",
       "      <th>1</th>\n",
       "      <td>Arkhangai</td>\n",
       "      <td>2000</td>\n",
       "      <td>-0.39</td>\n",
       "      <td>0.06</td>\n",
       "      <td>1.94</td>\n",
       "      <td>0.18</td>\n",
       "      <td>0.12</td>\n",
       "      <td>-0.13</td>\n",
       "      <td>2.44E+ 07</td>\n",
       "      <td>0</td>\n",
       "      <td>0</td>\n",
       "      <td>0</td>\n",
       "      <td>4.57</td>\n",
       "    </tr>\n",
       "    <tr>\n",
       "      <th>2</th>\n",
       "      <td>Arkhangai</td>\n",
       "      <td>2001</td>\n",
       "      <td>-1.62</td>\n",
       "      <td>0.24</td>\n",
       "      <td>2.63</td>\n",
       "      <td>-0.02</td>\n",
       "      <td>0.10</td>\n",
       "      <td>-0.22</td>\n",
       "      <td>2.20E+ 07</td>\n",
       "      <td>2</td>\n",
       "      <td>1</td>\n",
       "      <td>1</td>\n",
       "      <td>8.10</td>\n",
       "    </tr>\n",
       "    <tr>\n",
       "      <th>3</th>\n",
       "      <td>Arkhangai</td>\n",
       "      <td>2002</td>\n",
       "      <td>0.86</td>\n",
       "      <td>0.04</td>\n",
       "      <td>2.81</td>\n",
       "      <td>0.63</td>\n",
       "      <td>0.17</td>\n",
       "      <td>-0.57</td>\n",
       "      <td>1.22E+ 07</td>\n",
       "      <td>0</td>\n",
       "      <td>0</td>\n",
       "      <td>0</td>\n",
       "      <td>5.44</td>\n",
       "    </tr>\n",
       "    <tr>\n",
       "      <th>4</th>\n",
       "      <td>Arkhangai</td>\n",
       "      <td>2003</td>\n",
       "      <td>-0.10</td>\n",
       "      <td>0.07</td>\n",
       "      <td>1.15</td>\n",
       "      <td>-0.25</td>\n",
       "      <td>0.08</td>\n",
       "      <td>-0.07</td>\n",
       "      <td>2.61E+ 07</td>\n",
       "      <td>0</td>\n",
       "      <td>0</td>\n",
       "      <td>0</td>\n",
       "      <td>9.70</td>\n",
       "    </tr>\n",
       "  </tbody>\n",
       "</table>\n",
       "</div>"
      ],
      "text/plain": [
       "       Aimag  Year  Temprature anomalies  \\\n",
       "0  Arkhangai  1999                  2.75   \n",
       "1  Arkhangai  2000                 -0.39   \n",
       "2  Arkhangai  2001                 -1.62   \n",
       "3  Arkhangai  2002                  0.86   \n",
       "4  Arkhangai  2003                 -0.10   \n",
       "\n",
       "   Livestock Loss Rates from - 1998-2017  \\\n",
       "0                                   0.01   \n",
       "1                                   0.06   \n",
       "2                                   0.24   \n",
       "3                                   0.04   \n",
       "4                                   0.07   \n",
       "\n",
       "   Past values of the vulnerability index according to Aimag - 1: Average weighed by livestock numbers in SFU  \\\n",
       "0                                               1.69                                                            \n",
       "1                                               1.94                                                            \n",
       "2                                               2.63                                                            \n",
       "3                                               2.81                                                            \n",
       "4                                               1.15                                                            \n",
       "\n",
       "   Pasture Use Anomaly  Pasture Use  Standing forage biomass anomaly  \\\n",
       "0                 0.04         0.11                             0.05   \n",
       "1                 0.18         0.12                            -0.13   \n",
       "2                -0.02         0.10                            -0.22   \n",
       "3                 0.63         0.17                            -0.57   \n",
       "4                -0.25         0.08                            -0.07   \n",
       "\n",
       "  Standing forage biomass (tons)  Zootechnical score  Mortality score  \\\n",
       "0                      2.96E+ 07                   0                0   \n",
       "1                      2.44E+ 07                   0                0   \n",
       "2                      2.20E+ 07                   2                1   \n",
       "3                      1.22E+ 07                   0                0   \n",
       "4                      2.61E+ 07                   0                0   \n",
       "\n",
       "   Fecundity score  Snowfall anomalies  \n",
       "0                0               -3.80  \n",
       "1                0                4.57  \n",
       "2                1                8.10  \n",
       "3                0                5.44  \n",
       "4                0                9.70  "
      ]
     },
     "execution_count": 81,
     "metadata": {},
     "output_type": "execute_result"
    }
   ],
   "source": [
    "df.head()"
   ]
  },
  {
   "cell_type": "markdown",
   "metadata": {},
   "source": [
    "## Data Cleaning"
   ]
  },
  {
   "cell_type": "markdown",
   "metadata": {},
   "source": [
    "Now that we have all of our features in one dataframe we can start cleaning the dataset so it is in a better format. \n",
    "\n",
    "To do:\n",
    "- Rename features to be more simple and allow for easier reference\n",
    "- Standing forage biomass was stored in the original report as scientific notation. This is now stored as text. \n",
    "- "
   ]
  },
  {
   "cell_type": "markdown",
   "metadata": {},
   "source": [
    "### Rename Columns"
   ]
  },
  {
   "cell_type": "code",
   "execution_count": 83,
   "metadata": {},
   "outputs": [
    {
     "data": {
      "text/plain": [
       "Index(['Aimag', 'Year', 'Temprature anomalies',\n",
       "       'Livestock Loss Rates from - 1998-2017',\n",
       "       'Past values of the vulnerability index according to Aimag - 1: Average weighed by livestock numbers in SFU',\n",
       "       'Pasture Use Anomaly', 'Pasture Use', 'Standing forage biomass anomaly',\n",
       "       'Standing forage biomass (tons)', 'Zootechnical score',\n",
       "       'Mortality score', 'Fecundity score', 'Snowfall anomalies'],\n",
       "      dtype='object')"
      ]
     },
     "execution_count": 83,
     "metadata": {},
     "output_type": "execute_result"
    }
   ],
   "source": [
    "df.columns"
   ]
  },
  {
   "cell_type": "code",
   "execution_count": 85,
   "metadata": {},
   "outputs": [],
   "source": [
    "df.rename(index=str,columns={'Aimag':'aimag', 'Year':'year', 'Temprature anomalies':'temperature_anomalies',\n",
    "       'Livestock Loss Rates from - 1998-2017':'livestock_loss',\n",
    "       'Past values of the vulnerability index according to Aimag - 1: Average weighed by livestock numbers in SFU':'index',\n",
    "       'Pasture Use Anomaly':'pasture_use_anomaly', 'Pasture Use':'pasture_use', 'Standing forage biomass anomaly':'biomass_anomaly',\n",
    "       'Standing forage biomass (tons)':'biomass', 'Zootechnical score':'zootechnical',\n",
    "       'Mortality score':'mortality', 'Fecundity score':'fecundity', 'Snowfall anomalies':'snowfall_anomaly'},inplace=True)"
   ]
  },
  {
   "cell_type": "markdown",
   "metadata": {},
   "source": [
    "### Convert biomass to numeric feature"
   ]
  },
  {
   "cell_type": "markdown",
   "metadata": {},
   "source": [
    "The biomass feature is stored in the format '2.96E+ 07' (scientific notation). We do not have access to the complete number, so we will concatenate the number and take the left three characters. "
   ]
  },
  {
   "cell_type": "code",
   "execution_count": 93,
   "metadata": {},
   "outputs": [],
   "source": [
    "df['biomass'] = df['biomass'].str[:4]"
   ]
  },
  {
   "cell_type": "code",
   "execution_count": 96,
   "metadata": {},
   "outputs": [],
   "source": [
    "df['biomass'] = pd.to_numeric(df['biomass'])"
   ]
  }
 ],
 "metadata": {
  "kernelspec": {
   "display_name": "Python 3",
   "language": "python",
   "name": "python3"
  },
  "language_info": {
   "codemirror_mode": {
    "name": "ipython",
    "version": 3
   },
   "file_extension": ".py",
   "mimetype": "text/x-python",
   "name": "python",
   "nbconvert_exporter": "python",
   "pygments_lexer": "ipython3",
   "version": "3.6.6"
  }
 },
 "nbformat": 4,
 "nbformat_minor": 2
}
